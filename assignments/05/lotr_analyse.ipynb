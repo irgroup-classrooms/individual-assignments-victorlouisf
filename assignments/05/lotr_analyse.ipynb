{
  "nbformat": 4,
  "nbformat_minor": 0,
  "metadata": {
    "colab": {
      "provenance": []
    },
    "kernelspec": {
      "name": "python3",
      "display_name": "Python 3"
    },
    "language_info": {
      "name": "python"
    }
  },
  "cells": [
    {
      "cell_type": "code",
      "execution_count": null,
      "metadata": {
        "id": "x5DdpAfEpRtL"
      },
      "outputs": [],
      "source": []
    },
    {
      "cell_type": "markdown",
      "source": [
        "# **Lotr_scripts.csv**\n",
        "\n",
        "**Vorgehensweise:**\n",
        "\n",
        "Für diese Analyse wurde der Datensatz lotr_scripts.csv verwendet, der Dialogzeilen aus den “Herr der Ringe”-Filmen enthält. Ziel ist es, den Datensatz zu bereinigen, die Daten zu analysieren und auf vier relevante Fragen zu untersuchen."
      ],
      "metadata": {
        "id": "hKdyojEYpYLz"
      }
    },
    {
      "cell_type": "code",
      "source": [
        "from google.colab import drive\n",
        "drive.mount('/content/drive')"
      ],
      "metadata": {
        "colab": {
          "base_uri": "https://localhost:8080/"
        },
        "id": "sRSGZB8mrKM7",
        "outputId": "9209dde6-0402-4e19-d23d-a63adf243ee6"
      },
      "execution_count": 1,
      "outputs": [
        {
          "output_type": "stream",
          "name": "stdout",
          "text": [
            "Mounted at /content/drive\n"
          ]
        }
      ]
    },
    {
      "cell_type": "code",
      "source": [
        "import pandas as pd\n",
        "import re"
      ],
      "metadata": {
        "id": "AwSj2txQygH9"
      },
      "execution_count": 7,
      "outputs": []
    },
    {
      "cell_type": "markdown",
      "source": [
        "## **Datensatz Überblick**"
      ],
      "metadata": {
        "id": "gsGjER7pzgo1"
      }
    },
    {
      "cell_type": "code",
      "source": [
        "# Pfad zur Datei\n",
        "file_lotr = '/content/drive/MyDrive/lotr_scripts.csv'\n",
        "\n",
        "# CSV-Datei einlesen\n",
        "lotr_data = pd.read_csv(file_lotr)\n",
        "\n",
        "# Überblick\n",
        "lotr_data.head()"
      ],
      "metadata": {
        "colab": {
          "base_uri": "https://localhost:8080/",
          "height": 206
        },
        "id": "2a9dyN5dyrNb",
        "outputId": "285501ef-6634-4a22-bf25-c75610e089ba"
      },
      "execution_count": 8,
      "outputs": [
        {
          "output_type": "execute_result",
          "data": {
            "text/plain": [
              "   Unnamed: 0     char                                             dialog  \\\n",
              "0           0   DEAGOL  Oh Smeagol Ive got one! , Ive got a fish Smeag...   \n",
              "1           1  SMEAGOL     Pull it in! Go on, go on, go on, pull it in!     \n",
              "2           2   DEAGOL                                           Arrghh!    \n",
              "3           3  SMEAGOL                                          Deagol!     \n",
              "4           4  SMEAGOL                                          Deagol!     \n",
              "\n",
              "                     movie  \n",
              "0  The Return of the King   \n",
              "1  The Return of the King   \n",
              "2  The Return of the King   \n",
              "3  The Return of the King   \n",
              "4  The Return of the King   "
            ],
            "text/html": [
              "\n",
              "  <div id=\"df-8f50ff73-1c0c-4b5a-9440-6972f54ce90a\" class=\"colab-df-container\">\n",
              "    <div>\n",
              "<style scoped>\n",
              "    .dataframe tbody tr th:only-of-type {\n",
              "        vertical-align: middle;\n",
              "    }\n",
              "\n",
              "    .dataframe tbody tr th {\n",
              "        vertical-align: top;\n",
              "    }\n",
              "\n",
              "    .dataframe thead th {\n",
              "        text-align: right;\n",
              "    }\n",
              "</style>\n",
              "<table border=\"1\" class=\"dataframe\">\n",
              "  <thead>\n",
              "    <tr style=\"text-align: right;\">\n",
              "      <th></th>\n",
              "      <th>Unnamed: 0</th>\n",
              "      <th>char</th>\n",
              "      <th>dialog</th>\n",
              "      <th>movie</th>\n",
              "    </tr>\n",
              "  </thead>\n",
              "  <tbody>\n",
              "    <tr>\n",
              "      <th>0</th>\n",
              "      <td>0</td>\n",
              "      <td>DEAGOL</td>\n",
              "      <td>Oh Smeagol Ive got one! , Ive got a fish Smeag...</td>\n",
              "      <td>The Return of the King</td>\n",
              "    </tr>\n",
              "    <tr>\n",
              "      <th>1</th>\n",
              "      <td>1</td>\n",
              "      <td>SMEAGOL</td>\n",
              "      <td>Pull it in! Go on, go on, go on, pull it in!</td>\n",
              "      <td>The Return of the King</td>\n",
              "    </tr>\n",
              "    <tr>\n",
              "      <th>2</th>\n",
              "      <td>2</td>\n",
              "      <td>DEAGOL</td>\n",
              "      <td>Arrghh!</td>\n",
              "      <td>The Return of the King</td>\n",
              "    </tr>\n",
              "    <tr>\n",
              "      <th>3</th>\n",
              "      <td>3</td>\n",
              "      <td>SMEAGOL</td>\n",
              "      <td>Deagol!</td>\n",
              "      <td>The Return of the King</td>\n",
              "    </tr>\n",
              "    <tr>\n",
              "      <th>4</th>\n",
              "      <td>4</td>\n",
              "      <td>SMEAGOL</td>\n",
              "      <td>Deagol!</td>\n",
              "      <td>The Return of the King</td>\n",
              "    </tr>\n",
              "  </tbody>\n",
              "</table>\n",
              "</div>\n",
              "    <div class=\"colab-df-buttons\">\n",
              "\n",
              "  <div class=\"colab-df-container\">\n",
              "    <button class=\"colab-df-convert\" onclick=\"convertToInteractive('df-8f50ff73-1c0c-4b5a-9440-6972f54ce90a')\"\n",
              "            title=\"Convert this dataframe to an interactive table.\"\n",
              "            style=\"display:none;\">\n",
              "\n",
              "  <svg xmlns=\"http://www.w3.org/2000/svg\" height=\"24px\" viewBox=\"0 -960 960 960\">\n",
              "    <path d=\"M120-120v-720h720v720H120Zm60-500h600v-160H180v160Zm220 220h160v-160H400v160Zm0 220h160v-160H400v160ZM180-400h160v-160H180v160Zm440 0h160v-160H620v160ZM180-180h160v-160H180v160Zm440 0h160v-160H620v160Z\"/>\n",
              "  </svg>\n",
              "    </button>\n",
              "\n",
              "  <style>\n",
              "    .colab-df-container {\n",
              "      display:flex;\n",
              "      gap: 12px;\n",
              "    }\n",
              "\n",
              "    .colab-df-convert {\n",
              "      background-color: #E8F0FE;\n",
              "      border: none;\n",
              "      border-radius: 50%;\n",
              "      cursor: pointer;\n",
              "      display: none;\n",
              "      fill: #1967D2;\n",
              "      height: 32px;\n",
              "      padding: 0 0 0 0;\n",
              "      width: 32px;\n",
              "    }\n",
              "\n",
              "    .colab-df-convert:hover {\n",
              "      background-color: #E2EBFA;\n",
              "      box-shadow: 0px 1px 2px rgba(60, 64, 67, 0.3), 0px 1px 3px 1px rgba(60, 64, 67, 0.15);\n",
              "      fill: #174EA6;\n",
              "    }\n",
              "\n",
              "    .colab-df-buttons div {\n",
              "      margin-bottom: 4px;\n",
              "    }\n",
              "\n",
              "    [theme=dark] .colab-df-convert {\n",
              "      background-color: #3B4455;\n",
              "      fill: #D2E3FC;\n",
              "    }\n",
              "\n",
              "    [theme=dark] .colab-df-convert:hover {\n",
              "      background-color: #434B5C;\n",
              "      box-shadow: 0px 1px 3px 1px rgba(0, 0, 0, 0.15);\n",
              "      filter: drop-shadow(0px 1px 2px rgba(0, 0, 0, 0.3));\n",
              "      fill: #FFFFFF;\n",
              "    }\n",
              "  </style>\n",
              "\n",
              "    <script>\n",
              "      const buttonEl =\n",
              "        document.querySelector('#df-8f50ff73-1c0c-4b5a-9440-6972f54ce90a button.colab-df-convert');\n",
              "      buttonEl.style.display =\n",
              "        google.colab.kernel.accessAllowed ? 'block' : 'none';\n",
              "\n",
              "      async function convertToInteractive(key) {\n",
              "        const element = document.querySelector('#df-8f50ff73-1c0c-4b5a-9440-6972f54ce90a');\n",
              "        const dataTable =\n",
              "          await google.colab.kernel.invokeFunction('convertToInteractive',\n",
              "                                                    [key], {});\n",
              "        if (!dataTable) return;\n",
              "\n",
              "        const docLinkHtml = 'Like what you see? Visit the ' +\n",
              "          '<a target=\"_blank\" href=https://colab.research.google.com/notebooks/data_table.ipynb>data table notebook</a>'\n",
              "          + ' to learn more about interactive tables.';\n",
              "        element.innerHTML = '';\n",
              "        dataTable['output_type'] = 'display_data';\n",
              "        await google.colab.output.renderOutput(dataTable, element);\n",
              "        const docLink = document.createElement('div');\n",
              "        docLink.innerHTML = docLinkHtml;\n",
              "        element.appendChild(docLink);\n",
              "      }\n",
              "    </script>\n",
              "  </div>\n",
              "\n",
              "\n",
              "<div id=\"df-c715643d-64b8-489a-a622-da2fd7e980a5\">\n",
              "  <button class=\"colab-df-quickchart\" onclick=\"quickchart('df-c715643d-64b8-489a-a622-da2fd7e980a5')\"\n",
              "            title=\"Suggest charts\"\n",
              "            style=\"display:none;\">\n",
              "\n",
              "<svg xmlns=\"http://www.w3.org/2000/svg\" height=\"24px\"viewBox=\"0 0 24 24\"\n",
              "     width=\"24px\">\n",
              "    <g>\n",
              "        <path d=\"M19 3H5c-1.1 0-2 .9-2 2v14c0 1.1.9 2 2 2h14c1.1 0 2-.9 2-2V5c0-1.1-.9-2-2-2zM9 17H7v-7h2v7zm4 0h-2V7h2v10zm4 0h-2v-4h2v4z\"/>\n",
              "    </g>\n",
              "</svg>\n",
              "  </button>\n",
              "\n",
              "<style>\n",
              "  .colab-df-quickchart {\n",
              "      --bg-color: #E8F0FE;\n",
              "      --fill-color: #1967D2;\n",
              "      --hover-bg-color: #E2EBFA;\n",
              "      --hover-fill-color: #174EA6;\n",
              "      --disabled-fill-color: #AAA;\n",
              "      --disabled-bg-color: #DDD;\n",
              "  }\n",
              "\n",
              "  [theme=dark] .colab-df-quickchart {\n",
              "      --bg-color: #3B4455;\n",
              "      --fill-color: #D2E3FC;\n",
              "      --hover-bg-color: #434B5C;\n",
              "      --hover-fill-color: #FFFFFF;\n",
              "      --disabled-bg-color: #3B4455;\n",
              "      --disabled-fill-color: #666;\n",
              "  }\n",
              "\n",
              "  .colab-df-quickchart {\n",
              "    background-color: var(--bg-color);\n",
              "    border: none;\n",
              "    border-radius: 50%;\n",
              "    cursor: pointer;\n",
              "    display: none;\n",
              "    fill: var(--fill-color);\n",
              "    height: 32px;\n",
              "    padding: 0;\n",
              "    width: 32px;\n",
              "  }\n",
              "\n",
              "  .colab-df-quickchart:hover {\n",
              "    background-color: var(--hover-bg-color);\n",
              "    box-shadow: 0 1px 2px rgba(60, 64, 67, 0.3), 0 1px 3px 1px rgba(60, 64, 67, 0.15);\n",
              "    fill: var(--button-hover-fill-color);\n",
              "  }\n",
              "\n",
              "  .colab-df-quickchart-complete:disabled,\n",
              "  .colab-df-quickchart-complete:disabled:hover {\n",
              "    background-color: var(--disabled-bg-color);\n",
              "    fill: var(--disabled-fill-color);\n",
              "    box-shadow: none;\n",
              "  }\n",
              "\n",
              "  .colab-df-spinner {\n",
              "    border: 2px solid var(--fill-color);\n",
              "    border-color: transparent;\n",
              "    border-bottom-color: var(--fill-color);\n",
              "    animation:\n",
              "      spin 1s steps(1) infinite;\n",
              "  }\n",
              "\n",
              "  @keyframes spin {\n",
              "    0% {\n",
              "      border-color: transparent;\n",
              "      border-bottom-color: var(--fill-color);\n",
              "      border-left-color: var(--fill-color);\n",
              "    }\n",
              "    20% {\n",
              "      border-color: transparent;\n",
              "      border-left-color: var(--fill-color);\n",
              "      border-top-color: var(--fill-color);\n",
              "    }\n",
              "    30% {\n",
              "      border-color: transparent;\n",
              "      border-left-color: var(--fill-color);\n",
              "      border-top-color: var(--fill-color);\n",
              "      border-right-color: var(--fill-color);\n",
              "    }\n",
              "    40% {\n",
              "      border-color: transparent;\n",
              "      border-right-color: var(--fill-color);\n",
              "      border-top-color: var(--fill-color);\n",
              "    }\n",
              "    60% {\n",
              "      border-color: transparent;\n",
              "      border-right-color: var(--fill-color);\n",
              "    }\n",
              "    80% {\n",
              "      border-color: transparent;\n",
              "      border-right-color: var(--fill-color);\n",
              "      border-bottom-color: var(--fill-color);\n",
              "    }\n",
              "    90% {\n",
              "      border-color: transparent;\n",
              "      border-bottom-color: var(--fill-color);\n",
              "    }\n",
              "  }\n",
              "</style>\n",
              "\n",
              "  <script>\n",
              "    async function quickchart(key) {\n",
              "      const quickchartButtonEl =\n",
              "        document.querySelector('#' + key + ' button');\n",
              "      quickchartButtonEl.disabled = true;  // To prevent multiple clicks.\n",
              "      quickchartButtonEl.classList.add('colab-df-spinner');\n",
              "      try {\n",
              "        const charts = await google.colab.kernel.invokeFunction(\n",
              "            'suggestCharts', [key], {});\n",
              "      } catch (error) {\n",
              "        console.error('Error during call to suggestCharts:', error);\n",
              "      }\n",
              "      quickchartButtonEl.classList.remove('colab-df-spinner');\n",
              "      quickchartButtonEl.classList.add('colab-df-quickchart-complete');\n",
              "    }\n",
              "    (() => {\n",
              "      let quickchartButtonEl =\n",
              "        document.querySelector('#df-c715643d-64b8-489a-a622-da2fd7e980a5 button');\n",
              "      quickchartButtonEl.style.display =\n",
              "        google.colab.kernel.accessAllowed ? 'block' : 'none';\n",
              "    })();\n",
              "  </script>\n",
              "</div>\n",
              "\n",
              "    </div>\n",
              "  </div>\n"
            ],
            "application/vnd.google.colaboratory.intrinsic+json": {
              "type": "dataframe",
              "variable_name": "lotr_data",
              "summary": "{\n  \"name\": \"lotr_data\",\n  \"rows\": 2390,\n  \"fields\": [\n    {\n      \"column\": \"Unnamed: 0\",\n      \"properties\": {\n        \"dtype\": \"number\",\n        \"std\": 690,\n        \"min\": 0,\n        \"max\": 2389,\n        \"num_unique_values\": 2390,\n        \"samples\": [\n          1321,\n          1413,\n          530\n        ],\n        \"semantic_type\": \"\",\n        \"description\": \"\"\n      }\n    },\n    {\n      \"column\": \"char\",\n      \"properties\": {\n        \"dtype\": \"category\",\n        \"num_unique_values\": 118,\n        \"samples\": [\n          \"SAM VOICEOVER\",\n          \"ROHAN HORSEMAN\",\n          \"MERRY\"\n        ],\n        \"semantic_type\": \"\",\n        \"description\": \"\"\n      }\n    },\n    {\n      \"column\": \"dialog\",\n      \"properties\": {\n        \"dtype\": \"string\",\n        \"num_unique_values\": 2325,\n        \"samples\": [\n          \"Mr Frodo!\\u00a0 , Get back     you!\\u00a0 Don't touch him.\\u00a0 \\u00a0\",\n          \"They're past the door!      \\u00a0    \",\n          \"Frodo Im Arwen. Telin le thaed. Lasto beth nin. Tolo dan na galad\\u00a0    \"\n        ],\n        \"semantic_type\": \"\",\n        \"description\": \"\"\n      }\n    },\n    {\n      \"column\": \"movie\",\n      \"properties\": {\n        \"dtype\": \"category\",\n        \"num_unique_values\": 3,\n        \"samples\": [\n          \"The Return of the King \",\n          \"The Two Towers \",\n          \"The Fellowship of the Ring \"\n        ],\n        \"semantic_type\": \"\",\n        \"description\": \"\"\n      }\n    }\n  ]\n}"
            }
          },
          "metadata": {},
          "execution_count": 8
        }
      ]
    },
    {
      "cell_type": "markdown",
      "source": [
        "**Datenfelder:**"
      ],
      "metadata": {
        "id": "xNY6ymBCzrIt"
      }
    },
    {
      "cell_type": "code",
      "source": [
        "lotr_data.columns"
      ],
      "metadata": {
        "colab": {
          "base_uri": "https://localhost:8080/"
        },
        "id": "9k9GgXJby3AY",
        "outputId": "1a099eff-14ff-4980-c2b8-794284236eda"
      },
      "execution_count": 9,
      "outputs": [
        {
          "output_type": "execute_result",
          "data": {
            "text/plain": [
              "Index(['Unnamed: 0', 'char', 'dialog', 'movie'], dtype='object')"
            ]
          },
          "metadata": {},
          "execution_count": 9
        }
      ]
    },
    {
      "cell_type": "markdown",
      "source": [
        "\n",
        "\n",
        "* Unnamed: Index\n",
        "* char: Charakter der spricht\n",
        "* dialog: gesprochener Dialog\n",
        "* movie: Aus welchem Film\n",
        "\n"
      ],
      "metadata": {
        "id": "OcisfiP3zXaH"
      }
    },
    {
      "cell_type": "markdown",
      "source": [
        "**Datenbereinigung**\n",
        "\n",
        "1. Index entfernen da er keine richtige Funktion erfüllt\n",
        "2. Schreibweise vereinheitlichen\n",
        "3. Filmtitel bereinigen\n",
        "4. Dialog bereinigen"
      ],
      "metadata": {
        "id": "SaVyUFUd1XV4"
      }
    },
    {
      "cell_type": "code",
      "source": [
        "# 1. Index-Spalte entfernen\n",
        "if 'Unnamed: 0' in lotr_data.columns:\n",
        "    lotr_data = lotr_data.drop(columns=['Unnamed: 0'])\n",
        "\n",
        "# 2. Schreibweise vereinheitlichen\n",
        "lotr_data['char'] = lotr_data['char'].str.strip().str.title()\n",
        "\n",
        "# 3. Dialog bereinigen\n",
        "lotr_data['dialog'] = lotr_data['dialog'].fillna('').astype(str)  # NaN zu leeren Strings\n",
        "lotr_data['dialog'] = lotr_data['dialog'].apply(lambda x: re.sub(r'[^\\w\\s.,?!]', '', x))\n",
        "\n",
        "# 4. Filmtitel bereinigen\n",
        "lotr_data['movie'] = lotr_data['movie'].str.strip()\n",
        "\n",
        "# 5. Exportieren des berinigten Datensatzes\n",
        "cleaned_file_path = '/content/drive/My Drive/lotr_scripts_clean.csv'\n",
        "lotr_data.to_csv(cleaned_file_path, index=False)"
      ],
      "metadata": {
        "id": "evvhcbib2Snz"
      },
      "execution_count": 10,
      "outputs": []
    },
    {
      "cell_type": "markdown",
      "source": [
        "## **bereinigter Datensatz Überblick**"
      ],
      "metadata": {
        "id": "RNo0YQaV3oay"
      }
    },
    {
      "cell_type": "code",
      "source": [
        "# Pfad zur Datei\n",
        "file_lotr_clean = '/content/drive/MyDrive/lotr_scripts_clean.csv'\n",
        "\n",
        "# CSV-Datei einlesen\n",
        "lotr_data_clean = pd.read_csv(file_lotr_clean)\n",
        "\n",
        "# Überblick\n",
        "lotr_data_clean.head()"
      ],
      "metadata": {
        "colab": {
          "base_uri": "https://localhost:8080/",
          "height": 206
        },
        "id": "z0DMO3Jv32vL",
        "outputId": "4c3d3cc4-43a7-44cf-f2d1-0e074cae36c6"
      },
      "execution_count": 11,
      "outputs": [
        {
          "output_type": "execute_result",
          "data": {
            "text/plain": [
              "      char                                             dialog  \\\n",
              "0   Deagol  Oh Smeagol Ive got one! , Ive got a fish Smeag...   \n",
              "1  Smeagol     Pull it in! Go on, go on, go on, pull it in!     \n",
              "2   Deagol                                           Arrghh!    \n",
              "3  Smeagol                                          Deagol!     \n",
              "4  Smeagol                                          Deagol!     \n",
              "\n",
              "                    movie  \n",
              "0  The Return of the King  \n",
              "1  The Return of the King  \n",
              "2  The Return of the King  \n",
              "3  The Return of the King  \n",
              "4  The Return of the King  "
            ],
            "text/html": [
              "\n",
              "  <div id=\"df-86e11e25-c2dd-4a10-96d2-8f0f43da3e8b\" class=\"colab-df-container\">\n",
              "    <div>\n",
              "<style scoped>\n",
              "    .dataframe tbody tr th:only-of-type {\n",
              "        vertical-align: middle;\n",
              "    }\n",
              "\n",
              "    .dataframe tbody tr th {\n",
              "        vertical-align: top;\n",
              "    }\n",
              "\n",
              "    .dataframe thead th {\n",
              "        text-align: right;\n",
              "    }\n",
              "</style>\n",
              "<table border=\"1\" class=\"dataframe\">\n",
              "  <thead>\n",
              "    <tr style=\"text-align: right;\">\n",
              "      <th></th>\n",
              "      <th>char</th>\n",
              "      <th>dialog</th>\n",
              "      <th>movie</th>\n",
              "    </tr>\n",
              "  </thead>\n",
              "  <tbody>\n",
              "    <tr>\n",
              "      <th>0</th>\n",
              "      <td>Deagol</td>\n",
              "      <td>Oh Smeagol Ive got one! , Ive got a fish Smeag...</td>\n",
              "      <td>The Return of the King</td>\n",
              "    </tr>\n",
              "    <tr>\n",
              "      <th>1</th>\n",
              "      <td>Smeagol</td>\n",
              "      <td>Pull it in! Go on, go on, go on, pull it in!</td>\n",
              "      <td>The Return of the King</td>\n",
              "    </tr>\n",
              "    <tr>\n",
              "      <th>2</th>\n",
              "      <td>Deagol</td>\n",
              "      <td>Arrghh!</td>\n",
              "      <td>The Return of the King</td>\n",
              "    </tr>\n",
              "    <tr>\n",
              "      <th>3</th>\n",
              "      <td>Smeagol</td>\n",
              "      <td>Deagol!</td>\n",
              "      <td>The Return of the King</td>\n",
              "    </tr>\n",
              "    <tr>\n",
              "      <th>4</th>\n",
              "      <td>Smeagol</td>\n",
              "      <td>Deagol!</td>\n",
              "      <td>The Return of the King</td>\n",
              "    </tr>\n",
              "  </tbody>\n",
              "</table>\n",
              "</div>\n",
              "    <div class=\"colab-df-buttons\">\n",
              "\n",
              "  <div class=\"colab-df-container\">\n",
              "    <button class=\"colab-df-convert\" onclick=\"convertToInteractive('df-86e11e25-c2dd-4a10-96d2-8f0f43da3e8b')\"\n",
              "            title=\"Convert this dataframe to an interactive table.\"\n",
              "            style=\"display:none;\">\n",
              "\n",
              "  <svg xmlns=\"http://www.w3.org/2000/svg\" height=\"24px\" viewBox=\"0 -960 960 960\">\n",
              "    <path d=\"M120-120v-720h720v720H120Zm60-500h600v-160H180v160Zm220 220h160v-160H400v160Zm0 220h160v-160H400v160ZM180-400h160v-160H180v160Zm440 0h160v-160H620v160ZM180-180h160v-160H180v160Zm440 0h160v-160H620v160Z\"/>\n",
              "  </svg>\n",
              "    </button>\n",
              "\n",
              "  <style>\n",
              "    .colab-df-container {\n",
              "      display:flex;\n",
              "      gap: 12px;\n",
              "    }\n",
              "\n",
              "    .colab-df-convert {\n",
              "      background-color: #E8F0FE;\n",
              "      border: none;\n",
              "      border-radius: 50%;\n",
              "      cursor: pointer;\n",
              "      display: none;\n",
              "      fill: #1967D2;\n",
              "      height: 32px;\n",
              "      padding: 0 0 0 0;\n",
              "      width: 32px;\n",
              "    }\n",
              "\n",
              "    .colab-df-convert:hover {\n",
              "      background-color: #E2EBFA;\n",
              "      box-shadow: 0px 1px 2px rgba(60, 64, 67, 0.3), 0px 1px 3px 1px rgba(60, 64, 67, 0.15);\n",
              "      fill: #174EA6;\n",
              "    }\n",
              "\n",
              "    .colab-df-buttons div {\n",
              "      margin-bottom: 4px;\n",
              "    }\n",
              "\n",
              "    [theme=dark] .colab-df-convert {\n",
              "      background-color: #3B4455;\n",
              "      fill: #D2E3FC;\n",
              "    }\n",
              "\n",
              "    [theme=dark] .colab-df-convert:hover {\n",
              "      background-color: #434B5C;\n",
              "      box-shadow: 0px 1px 3px 1px rgba(0, 0, 0, 0.15);\n",
              "      filter: drop-shadow(0px 1px 2px rgba(0, 0, 0, 0.3));\n",
              "      fill: #FFFFFF;\n",
              "    }\n",
              "  </style>\n",
              "\n",
              "    <script>\n",
              "      const buttonEl =\n",
              "        document.querySelector('#df-86e11e25-c2dd-4a10-96d2-8f0f43da3e8b button.colab-df-convert');\n",
              "      buttonEl.style.display =\n",
              "        google.colab.kernel.accessAllowed ? 'block' : 'none';\n",
              "\n",
              "      async function convertToInteractive(key) {\n",
              "        const element = document.querySelector('#df-86e11e25-c2dd-4a10-96d2-8f0f43da3e8b');\n",
              "        const dataTable =\n",
              "          await google.colab.kernel.invokeFunction('convertToInteractive',\n",
              "                                                    [key], {});\n",
              "        if (!dataTable) return;\n",
              "\n",
              "        const docLinkHtml = 'Like what you see? Visit the ' +\n",
              "          '<a target=\"_blank\" href=https://colab.research.google.com/notebooks/data_table.ipynb>data table notebook</a>'\n",
              "          + ' to learn more about interactive tables.';\n",
              "        element.innerHTML = '';\n",
              "        dataTable['output_type'] = 'display_data';\n",
              "        await google.colab.output.renderOutput(dataTable, element);\n",
              "        const docLink = document.createElement('div');\n",
              "        docLink.innerHTML = docLinkHtml;\n",
              "        element.appendChild(docLink);\n",
              "      }\n",
              "    </script>\n",
              "  </div>\n",
              "\n",
              "\n",
              "<div id=\"df-44a1684f-26c4-4c1d-b39b-a397bb2af913\">\n",
              "  <button class=\"colab-df-quickchart\" onclick=\"quickchart('df-44a1684f-26c4-4c1d-b39b-a397bb2af913')\"\n",
              "            title=\"Suggest charts\"\n",
              "            style=\"display:none;\">\n",
              "\n",
              "<svg xmlns=\"http://www.w3.org/2000/svg\" height=\"24px\"viewBox=\"0 0 24 24\"\n",
              "     width=\"24px\">\n",
              "    <g>\n",
              "        <path d=\"M19 3H5c-1.1 0-2 .9-2 2v14c0 1.1.9 2 2 2h14c1.1 0 2-.9 2-2V5c0-1.1-.9-2-2-2zM9 17H7v-7h2v7zm4 0h-2V7h2v10zm4 0h-2v-4h2v4z\"/>\n",
              "    </g>\n",
              "</svg>\n",
              "  </button>\n",
              "\n",
              "<style>\n",
              "  .colab-df-quickchart {\n",
              "      --bg-color: #E8F0FE;\n",
              "      --fill-color: #1967D2;\n",
              "      --hover-bg-color: #E2EBFA;\n",
              "      --hover-fill-color: #174EA6;\n",
              "      --disabled-fill-color: #AAA;\n",
              "      --disabled-bg-color: #DDD;\n",
              "  }\n",
              "\n",
              "  [theme=dark] .colab-df-quickchart {\n",
              "      --bg-color: #3B4455;\n",
              "      --fill-color: #D2E3FC;\n",
              "      --hover-bg-color: #434B5C;\n",
              "      --hover-fill-color: #FFFFFF;\n",
              "      --disabled-bg-color: #3B4455;\n",
              "      --disabled-fill-color: #666;\n",
              "  }\n",
              "\n",
              "  .colab-df-quickchart {\n",
              "    background-color: var(--bg-color);\n",
              "    border: none;\n",
              "    border-radius: 50%;\n",
              "    cursor: pointer;\n",
              "    display: none;\n",
              "    fill: var(--fill-color);\n",
              "    height: 32px;\n",
              "    padding: 0;\n",
              "    width: 32px;\n",
              "  }\n",
              "\n",
              "  .colab-df-quickchart:hover {\n",
              "    background-color: var(--hover-bg-color);\n",
              "    box-shadow: 0 1px 2px rgba(60, 64, 67, 0.3), 0 1px 3px 1px rgba(60, 64, 67, 0.15);\n",
              "    fill: var(--button-hover-fill-color);\n",
              "  }\n",
              "\n",
              "  .colab-df-quickchart-complete:disabled,\n",
              "  .colab-df-quickchart-complete:disabled:hover {\n",
              "    background-color: var(--disabled-bg-color);\n",
              "    fill: var(--disabled-fill-color);\n",
              "    box-shadow: none;\n",
              "  }\n",
              "\n",
              "  .colab-df-spinner {\n",
              "    border: 2px solid var(--fill-color);\n",
              "    border-color: transparent;\n",
              "    border-bottom-color: var(--fill-color);\n",
              "    animation:\n",
              "      spin 1s steps(1) infinite;\n",
              "  }\n",
              "\n",
              "  @keyframes spin {\n",
              "    0% {\n",
              "      border-color: transparent;\n",
              "      border-bottom-color: var(--fill-color);\n",
              "      border-left-color: var(--fill-color);\n",
              "    }\n",
              "    20% {\n",
              "      border-color: transparent;\n",
              "      border-left-color: var(--fill-color);\n",
              "      border-top-color: var(--fill-color);\n",
              "    }\n",
              "    30% {\n",
              "      border-color: transparent;\n",
              "      border-left-color: var(--fill-color);\n",
              "      border-top-color: var(--fill-color);\n",
              "      border-right-color: var(--fill-color);\n",
              "    }\n",
              "    40% {\n",
              "      border-color: transparent;\n",
              "      border-right-color: var(--fill-color);\n",
              "      border-top-color: var(--fill-color);\n",
              "    }\n",
              "    60% {\n",
              "      border-color: transparent;\n",
              "      border-right-color: var(--fill-color);\n",
              "    }\n",
              "    80% {\n",
              "      border-color: transparent;\n",
              "      border-right-color: var(--fill-color);\n",
              "      border-bottom-color: var(--fill-color);\n",
              "    }\n",
              "    90% {\n",
              "      border-color: transparent;\n",
              "      border-bottom-color: var(--fill-color);\n",
              "    }\n",
              "  }\n",
              "</style>\n",
              "\n",
              "  <script>\n",
              "    async function quickchart(key) {\n",
              "      const quickchartButtonEl =\n",
              "        document.querySelector('#' + key + ' button');\n",
              "      quickchartButtonEl.disabled = true;  // To prevent multiple clicks.\n",
              "      quickchartButtonEl.classList.add('colab-df-spinner');\n",
              "      try {\n",
              "        const charts = await google.colab.kernel.invokeFunction(\n",
              "            'suggestCharts', [key], {});\n",
              "      } catch (error) {\n",
              "        console.error('Error during call to suggestCharts:', error);\n",
              "      }\n",
              "      quickchartButtonEl.classList.remove('colab-df-spinner');\n",
              "      quickchartButtonEl.classList.add('colab-df-quickchart-complete');\n",
              "    }\n",
              "    (() => {\n",
              "      let quickchartButtonEl =\n",
              "        document.querySelector('#df-44a1684f-26c4-4c1d-b39b-a397bb2af913 button');\n",
              "      quickchartButtonEl.style.display =\n",
              "        google.colab.kernel.accessAllowed ? 'block' : 'none';\n",
              "    })();\n",
              "  </script>\n",
              "</div>\n",
              "\n",
              "    </div>\n",
              "  </div>\n"
            ],
            "application/vnd.google.colaboratory.intrinsic+json": {
              "type": "dataframe",
              "variable_name": "lotr_data_clean",
              "summary": "{\n  \"name\": \"lotr_data_clean\",\n  \"rows\": 2390,\n  \"fields\": [\n    {\n      \"column\": \"char\",\n      \"properties\": {\n        \"dtype\": \"category\",\n        \"num_unique_values\": 111,\n        \"samples\": [\n          \"Grishnakh\",\n          \"Pippin\",\n          \"Merry\"\n        ],\n        \"semantic_type\": \"\",\n        \"description\": \"\"\n      }\n    },\n    {\n      \"column\": \"dialog\",\n      \"properties\": {\n        \"dtype\": \"string\",\n        \"num_unique_values\": 2325,\n        \"samples\": [\n          \"Mr Frodo!\\u00a0 , Get back     you!\\u00a0 Dont touch him.\\u00a0 \\u00a0\",\n          \"Theyre past the door!      \\u00a0    \",\n          \"Frodo Im Arwen. Telin le thaed. Lasto beth nin. Tolo dan na galad\\u00a0    \"\n        ],\n        \"semantic_type\": \"\",\n        \"description\": \"\"\n      }\n    },\n    {\n      \"column\": \"movie\",\n      \"properties\": {\n        \"dtype\": \"category\",\n        \"num_unique_values\": 3,\n        \"samples\": [\n          \"The Return of the King\",\n          \"The Two Towers\",\n          \"The Fellowship of the Ring\"\n        ],\n        \"semantic_type\": \"\",\n        \"description\": \"\"\n      }\n    }\n  ]\n}"
            }
          },
          "metadata": {},
          "execution_count": 11
        }
      ]
    },
    {
      "cell_type": "markdown",
      "source": [
        "## **Analyse**"
      ],
      "metadata": {
        "id": "E50p0XUcJvQ3"
      }
    },
    {
      "cell_type": "markdown",
      "source": [
        "1. Find the total number of lines and unique words used in the dialogs."
      ],
      "metadata": {
        "id": "Eleo4LE5J1Tq"
      }
    },
    {
      "cell_type": "code",
      "source": [
        "# Sicherstellen, dass alle Werte in der 'dialog'-Spalte Strings sind\n",
        "lotr_data_clean['dialog'] = lotr_data_clean['dialog'].fillna('').astype(str)\n",
        "\n",
        "# Sicherstellen, dass alle Werte in der 'movie'-Spalte Strings sind und keine falschen Werte vorhanden sind\n",
        "lotr_data_clean['movie'] = lotr_data_clean['movie'].fillna('').astype(str).str.strip()\n",
        "\n",
        "# Sicherstellen, dass alle Werte in der 'char'-Spalte Strings sind und keine falschen Werte vorhanden sind\n",
        "lotr_data_clean['char'] = lotr_data_clean['char'].fillna('').astype(str).str.strip()\n",
        "\n",
        "# Sicherstellen, dass alle Werte in den Spalten 'char' und 'dialog' gültig sind\n",
        "lotr_data_clean['char'] = lotr_data_clean['char'].fillna('').astype(str).str.strip()\n",
        "lotr_data_clean['dialog'] = lotr_data_clean['dialog'].fillna('').astype(str).str.strip()"
      ],
      "metadata": {
        "id": "hDsJh7QzLhqo"
      },
      "execution_count": 23,
      "outputs": []
    },
    {
      "cell_type": "code",
      "source": [
        "# 1. Gesamtanzahl der Zeilen\n",
        "total_lines = len(lotr_data_clean)\n",
        "\n",
        "# Alle Dialoge in einen String zusammenfügen\n",
        "all_dialogs = ' '.join(lotr_data_clean['dialog'])\n",
        "\n",
        "# Wörter extrahieren (Regex für Wortgrenzen)\n",
        "unique_words = set(re.findall(r'\\b\\w+\\b', all_dialogs))\n",
        "\n",
        "# Anzahl der eindeutigen Wörter\n",
        "total_unique_words = len(unique_words)\n",
        "\n",
        "# Ergebnisse ausgeben\n",
        "print(f\"Gesamtanzahl der Zeilen: {total_lines}\")\n",
        "print(f\"Anzahl der eindeutigen Wörter: {total_unique_words}\")"
      ],
      "metadata": {
        "colab": {
          "base_uri": "https://localhost:8080/"
        },
        "id": "F34i0Lp64KjU",
        "outputId": "ca5a849a-3014-43bb-b53c-eb62a4cdf4f7"
      },
      "execution_count": 15,
      "outputs": [
        {
          "output_type": "stream",
          "name": "stdout",
          "text": [
            "Gesamtanzahl der Zeilen: 2390\n",
            "Anzahl der eindeutigen Wörter: 3938\n"
          ]
        }
      ]
    },
    {
      "cell_type": "markdown",
      "source": [
        "2. What is the distribution on the three different films?"
      ],
      "metadata": {
        "id": "hW0PO80vLlKx"
      }
    },
    {
      "cell_type": "code",
      "source": [
        "# Verteilung der Dialoge auf die Filme berechnen\n",
        "film_distribution = lotr_data_clean['movie'].value_counts()\n",
        "\n",
        "# Ergebnisse ausgeben\n",
        "print(\"Verteilung der Dialoge auf die Filme:\")\n",
        "print(film_distribution)"
      ],
      "metadata": {
        "colab": {
          "base_uri": "https://localhost:8080/"
        },
        "id": "gCSKIVihKXbm",
        "outputId": "45acb17c-aa9f-4c5e-b4d6-2fbb64db26ea"
      },
      "execution_count": 19,
      "outputs": [
        {
          "output_type": "stream",
          "name": "stdout",
          "text": [
            "Verteilung der Dialoge auf die Filme:\n",
            "movie\n",
            "The Two Towers                1010\n",
            "The Return of the King         873\n",
            "The Fellowship of the Ring     507\n",
            "Name: count, dtype: int64\n"
          ]
        }
      ]
    },
    {
      "cell_type": "markdown",
      "source": [
        "3. What are the top 5 characters in the char column?"
      ],
      "metadata": {
        "id": "0_3wnngXMhQC"
      }
    },
    {
      "cell_type": "code",
      "source": [
        "# Top-5-Charaktere basierend auf der Häufigkeit berechnen\n",
        "top_5_characters = lotr_data_clean['char'].value_counts().head(5)\n",
        "\n",
        "# Ergebnisse ausgeben\n",
        "print(\"Top 5 Charaktere in der Spalte 'char':\")\n",
        "print(top_5_characters)"
      ],
      "metadata": {
        "colab": {
          "base_uri": "https://localhost:8080/"
        },
        "id": "6_VMK6DfMxLC",
        "outputId": "57a4168f-0693-4ee7-d230-8ab3373b1f74"
      },
      "execution_count": 27,
      "outputs": [
        {
          "output_type": "stream",
          "name": "stdout",
          "text": [
            "Top 5 Charaktere in der Spalte 'char':\n",
            "char\n",
            "Frodo      226\n",
            "Sam        217\n",
            "Gandalf    205\n",
            "Aragorn    187\n",
            "Pippin     163\n",
            "Name: count, dtype: int64\n"
          ]
        }
      ]
    },
    {
      "cell_type": "markdown",
      "source": [
        "4. What are the top 5 characters in the dialogues?"
      ],
      "metadata": {
        "id": "fHNDwA9ANbsx"
      }
    },
    {
      "cell_type": "code",
      "source": [
        "# Spalte hinzufügen: Anzahl der Wörter im Dialog\n",
        "lotr_data_clean['word_count'] = lotr_data_clean['dialog'].apply(lambda x: len(re.findall(r'\\b\\w+\\b', x)))\n",
        "\n",
        "# Top-5-Charaktere basierend auf der Gesamtanzahl der Wörter in ihren Dialogen\n",
        "top_5_characters_dialogues = (\n",
        "    lotr_data_clean.groupby('char')['word_count']\n",
        "    .sum()\n",
        "    .sort_values(ascending=False)\n",
        "    .head(5)\n",
        ")\n",
        "\n",
        "# Ergebnisse ausgeben\n",
        "print(\"Top 5 Charaktere basierend auf der Anzahl der Wörter in den Dialogen:\")\n",
        "print(top_5_characters_dialogues)"
      ],
      "metadata": {
        "colab": {
          "base_uri": "https://localhost:8080/"
        },
        "id": "lgF9yC7KNXl_",
        "outputId": "04fbe5ed-a01e-4dce-ce14-1a17e8b3414e"
      },
      "execution_count": 26,
      "outputs": [
        {
          "output_type": "stream",
          "name": "stdout",
          "text": [
            "Top 5 Charaktere basierend auf der Anzahl der Wörter in den Dialogen:\n",
            "char\n",
            "Gandalf    3178\n",
            "Sam        2103\n",
            "Frodo      1744\n",
            "Aragorn    1449\n",
            "Gollum     1402\n",
            "Name: word_count, dtype: int64\n"
          ]
        }
      ]
    },
    {
      "cell_type": "code",
      "source": [],
      "metadata": {
        "id": "95Qx2CxVOBmY"
      },
      "execution_count": null,
      "outputs": []
    }
  ]
}