{
  "nbformat": 4,
  "nbformat_minor": 0,
  "metadata": {
    "colab": {
      "provenance": []
    },
    "kernelspec": {
      "name": "python3",
      "display_name": "Python 3"
    },
    "language_info": {
      "name": "python"
    }
  },
  "cells": [
    {
      "cell_type": "markdown",
      "source": [
        "## **Linux Journey**"
      ],
      "metadata": {
        "id": "LyS7_zF6ebp-"
      }
    },
    {
      "cell_type": "markdown",
      "source": [
        "1. Aufgabe\n",
        "\n",
        "**Was wird ausgegeben wenn folgendes im Terminal eingeben wird?**\n",
        "\n",
        "date:\n",
        "\n",
        "A: Di 28 Jan 2025 11:31:57 CET\n",
        "\n",
        "whoami:\n",
        "\n",
        "A: victorfigul\n",
        "\n",
        "**Quiz**\n",
        "\n",
        "Was soll auf dem Display ausgegeben werden, wenn Sie echo Hello World eingeben?\n",
        "\n",
        "A: Hello World"
      ],
      "metadata": {
        "id": "208sX5bifGbY"
      }
    },
    {
      "cell_type": "markdown",
      "source": [
        "2. Aufgabe\n",
        "\n",
        "**Quiz**\n",
        "\n",
        "Wie kann ich herausfinden, in welchem Verzeichnis Sie sich gerade befinden?\n",
        "\n",
        "A: pwd"
      ],
      "metadata": {
        "id": "P4m_FeJhhVy7"
      }
    },
    {
      "cell_type": "markdown",
      "source": [
        "3. Aufgabe\n",
        "\n",
        "**Führen Sie den Befehl cd ohne Flags aus, wohin führt er Sie?**\n",
        "\n",
        "A: Es bringt dich in dein Home-Verzeichnis\n",
        "\n",
        "**Quiz**\n",
        "\n",
        "Wenn Sie sich in /home/pete/Pictures befinden und nach /home/pete wechseln möchten, was ist eine gute Abkürzung?\n",
        "\n",
        "A: cd .."
      ],
      "metadata": {
        "id": "0LWyhwvcifIi"
      }
    },
    {
      "cell_type": "markdown",
      "source": [
        "4. Aufgabe\n",
        "\n",
        "**Quiz**\n",
        "Welchen Befehl würden Sie verwenden, um versteckte Dateien zu sehen?\n",
        "\n",
        "A: ls -a"
      ],
      "metadata": {
        "id": "EPblhslkkb1-"
      }
    },
    {
      "cell_type": "markdown",
      "source": [
        "5. Aufgabe\n",
        "\n",
        "**Quiz**\n",
        "\n",
        "Wie erstellen Sie eine Datei namens myfile?\n",
        "\n",
        "A: touch myfile"
      ],
      "metadata": {
        "id": "h2ArsYerlh59"
      }
    },
    {
      "cell_type": "markdown",
      "source": [
        "6. Aufgabe\n",
        "\n",
        "**Quiz**\n",
        "\n",
        "Welchen Befehl können Sie verwenden, um den Dateityp einer Datei zu ermitteln?\n",
        "\n",
        "A: file"
      ],
      "metadata": {
        "id": "Igs1QMU0mB1l"
      }
    },
    {
      "cell_type": "markdown",
      "source": [
        "7. Aufgabe\n",
        "\n",
        "**Quiz**\n",
        "\n",
        "What's a good way to see the contents of a file?\n",
        "\n",
        "A: cat\n"
      ],
      "metadata": {
        "id": "4Y07E1z_nXab"
      }
    },
    {
      "cell_type": "markdown",
      "source": [
        "8. Aufgabe\n",
        "\n",
        "**Quiz**\n",
        "\n",
        "How do you quit out of a less command?\n",
        "\n",
        "A: q\n"
      ],
      "metadata": {
        "id": "fmUlql8hdHb1"
      }
    },
    {
      "cell_type": "markdown",
      "source": [
        "9. Aufgabe\n",
        "\n",
        "**Quiz**\n",
        "\n",
        "What is the command to clear the terminal?\n",
        "\n",
        "A: clear\n"
      ],
      "metadata": {
        "id": "wr-JUkDFd0RE"
      }
    },
    {
      "cell_type": "markdown",
      "source": [
        "10. Aufgabe\n",
        "\n",
        "**Quiz**\n",
        "\n",
        "What flag do you need to specify to copy over a directory?\n",
        "\n",
        "A: -r\n"
      ],
      "metadata": {
        "id": "QfqWL1LoeHxP"
      }
    },
    {
      "cell_type": "markdown",
      "source": [
        "11. Aufgabe\n",
        "\n",
        "**Quiz**\n",
        "\n",
        "How do you rename a file called cat to dog?\n",
        "\n",
        "A: mv cat dog\n"
      ],
      "metadata": {
        "id": "YTKbm3GMhFlY"
      }
    },
    {
      "cell_type": "markdown",
      "source": [
        "12. Aufgabe\n",
        "\n",
        "**Quiz**\n",
        "\n",
        "What command is use to make a directory?\n",
        "\n",
        "A: mkdir\n"
      ],
      "metadata": {
        "id": "A8H-564ihZ5j"
      }
    },
    {
      "cell_type": "markdown",
      "source": [
        "13. Aufgabe\n",
        "\n",
        "**Quiz**\n",
        "\n",
        "How do you remove a file called myfile?\n",
        "\n",
        "A: rm myfile\n"
      ],
      "metadata": {
        "id": "uyhsNFRziGFG"
      }
    },
    {
      "cell_type": "markdown",
      "source": [
        "14. Aufgabe\n",
        "\n",
        "**Quiz**\n",
        "\n",
        "What option should I specify for find if I want to search by name?\n",
        "\n",
        "A: -name"
      ],
      "metadata": {
        "id": "pFeo-LcGitGE"
      }
    },
    {
      "cell_type": "markdown",
      "source": [
        "15. Aufgabe\n",
        "\n",
        "**Quiz**\n",
        "\n",
        "How do you get quick command line help for built-in bash commands?\n",
        "\n",
        "A: help"
      ],
      "metadata": {
        "id": "H6GBRlutjbJQ"
      }
    },
    {
      "cell_type": "markdown",
      "source": [
        "16. Aufgabe\n",
        "\n",
        "**Quiz**\n",
        "\n",
        "How do you see the manuals for a command?\n",
        "\n",
        "A: man"
      ],
      "metadata": {
        "id": "l7YfLD9GkLia"
      }
    },
    {
      "cell_type": "markdown",
      "source": [
        "17. Aufgabe\n",
        "\n",
        "**Quiz**\n",
        "\n",
        "What command can you use to see a small description of a command?\n",
        "\n",
        "A: whatis"
      ],
      "metadata": {
        "id": "AgWxbg7Gkdb_"
      }
    },
    {
      "cell_type": "markdown",
      "source": [
        "18. Aufgabe\n",
        "\n",
        "**Quiz**\n",
        "\n",
        "What command is used to make an alias?\n",
        "\n",
        "A: alias"
      ],
      "metadata": {
        "id": "7gNLph63k9ev"
      }
    },
    {
      "cell_type": "markdown",
      "source": [
        "19. Aufgabe\n",
        "\n",
        "**Quiz**\n",
        "\n",
        "How can you exit from the shell?\n",
        "\n",
        "A: exit"
      ],
      "metadata": {
        "id": "ZdogFKGmk1cE"
      }
    },
    {
      "cell_type": "code",
      "source": [],
      "metadata": {
        "id": "ykOFW2jElfxd"
      },
      "execution_count": null,
      "outputs": []
    }
  ]
}