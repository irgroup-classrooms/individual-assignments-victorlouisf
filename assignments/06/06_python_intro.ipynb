{
  "cells": [
    {
      "cell_type": "markdown",
      "metadata": {
        "id": "i_geAccXQkvo"
      },
      "source": [
        "# DIS08 / OR92 Data Modeling: Python - Introduction (Setup, file management, etc.)"
      ]
    },
    {
      "cell_type": "markdown",
      "metadata": {
        "id": "iVt_qk6lQkvp"
      },
      "source": [
        "In this lecture, we’ll cover and recap the basics of Python programming, including:\n",
        "\n",
        "- Python data structures: lists, tuples, dictionaries, and sets.\n",
        "- Basic file management: reading from and writing to files.\n",
        "- String handling: manipulation of text data and regular expressions.\n",
        "\n",
        "In the lab assignments, you will setup your Python development environment, rerun this notebook, and get started with the `pandas` library.\n",
        "\n",
        "If you would like to study Python more in-depth, we recommend the book [Automate the Boring Stuff With Python](https://automatetheboringstuff.com/). This book also inspired some of the contents in this notebook."
      ]
    },
    {
      "cell_type": "markdown",
      "metadata": {
        "id": "0pHuDCc-Qkvq"
      },
      "source": [
        "1. Basic Syntax"
      ]
    },
    {
      "cell_type": "code",
      "execution_count": 1,
      "metadata": {
        "id": "l0tkpkuKQkvq"
      },
      "outputs": [],
      "source": [
        "# This is a comment in Python"
      ]
    },
    {
      "cell_type": "code",
      "execution_count": 2,
      "metadata": {
        "colab": {
          "base_uri": "https://localhost:8080/"
        },
        "id": "_IY-aox8Qkvq",
        "outputId": "92dd24f1-38e4-4d99-83fe-0a241cd6a501"
      },
      "outputs": [
        {
          "output_type": "stream",
          "name": "stdout",
          "text": [
            "Hello, World!\n"
          ]
        }
      ],
      "source": [
        "# Print \"Hello, World!\" to the console\n",
        "print(\"Hello, World!\")"
      ]
    },
    {
      "cell_type": "code",
      "execution_count": 3,
      "metadata": {
        "colab": {
          "base_uri": "https://localhost:8080/"
        },
        "id": "i-I8E6n6Qkvr",
        "outputId": "9c191848-e225-4ffb-fdfb-11c494a93457"
      },
      "outputs": [
        {
          "output_type": "execute_result",
          "data": {
            "text/plain": [
              "5"
            ]
          },
          "metadata": {},
          "execution_count": 3
        }
      ],
      "source": [
        "# Variable assignment\n",
        "x = 5\n",
        "x"
      ]
    },
    {
      "cell_type": "markdown",
      "metadata": {
        "id": "HRJUK_XxQkvr"
      },
      "source": [
        "2. Data Types"
      ]
    },
    {
      "cell_type": "code",
      "execution_count": 4,
      "metadata": {
        "colab": {
          "base_uri": "https://localhost:8080/"
        },
        "id": "dpYvZ8Q6Qkvr",
        "outputId": "d38ea75b-3b1e-400c-bede-ad34ff1edb4e"
      },
      "outputs": [
        {
          "output_type": "execute_result",
          "data": {
            "text/plain": [
              "int"
            ]
          },
          "metadata": {},
          "execution_count": 4
        }
      ],
      "source": [
        "# Integer type\n",
        "integer_num = 10\n",
        "type(integer_num)"
      ]
    },
    {
      "cell_type": "code",
      "execution_count": 5,
      "metadata": {
        "colab": {
          "base_uri": "https://localhost:8080/"
        },
        "id": "BDkt1vkeQkvr",
        "outputId": "cd11a462-87c8-4e54-ac54-09230c4bfecd"
      },
      "outputs": [
        {
          "output_type": "execute_result",
          "data": {
            "text/plain": [
              "float"
            ]
          },
          "metadata": {},
          "execution_count": 5
        }
      ],
      "source": [
        "# Float type\n",
        "float_num = 3.14\n",
        "type(float_num)"
      ]
    },
    {
      "cell_type": "code",
      "execution_count": 6,
      "metadata": {
        "colab": {
          "base_uri": "https://localhost:8080/"
        },
        "id": "6BnRdglnQkvs",
        "outputId": "ccbe6a71-248b-4578-e8e0-c39e348e74df"
      },
      "outputs": [
        {
          "output_type": "execute_result",
          "data": {
            "text/plain": [
              "str"
            ]
          },
          "metadata": {},
          "execution_count": 6
        }
      ],
      "source": [
        "# String type\n",
        "str_val = \"Python\"\n",
        "type(str_val)"
      ]
    },
    {
      "cell_type": "markdown",
      "metadata": {
        "id": "LSLz1syBQkvs"
      },
      "source": [
        "3. Basic Operators"
      ]
    },
    {
      "cell_type": "code",
      "execution_count": 7,
      "metadata": {
        "id": "U_ZaB6xvQkvs"
      },
      "outputs": [],
      "source": [
        "a = 10\n",
        "b = 3"
      ]
    },
    {
      "cell_type": "code",
      "execution_count": 8,
      "metadata": {
        "colab": {
          "base_uri": "https://localhost:8080/"
        },
        "id": "SXtlSAPbQkvs",
        "outputId": "875af347-a796-4314-c69b-9d19f01f24fe"
      },
      "outputs": [
        {
          "output_type": "stream",
          "name": "stdout",
          "text": [
            "13\n"
          ]
        }
      ],
      "source": [
        "# Addition\n",
        "print(a + b)"
      ]
    },
    {
      "cell_type": "code",
      "execution_count": 9,
      "metadata": {
        "colab": {
          "base_uri": "https://localhost:8080/"
        },
        "id": "5_5jnJy0Qkvs",
        "outputId": "8c9abd9b-4bfb-4cbf-c030-ffb00ebfb07b"
      },
      "outputs": [
        {
          "output_type": "stream",
          "name": "stdout",
          "text": [
            "7\n"
          ]
        }
      ],
      "source": [
        "# Subtraction\n",
        "print(a - b)"
      ]
    },
    {
      "cell_type": "code",
      "execution_count": 10,
      "metadata": {
        "colab": {
          "base_uri": "https://localhost:8080/"
        },
        "id": "3KpnoQMKQkvs",
        "outputId": "6fbc69f4-be08-4d00-fa98-f568db273f31"
      },
      "outputs": [
        {
          "output_type": "stream",
          "name": "stdout",
          "text": [
            "30\n"
          ]
        }
      ],
      "source": [
        "# Multiplication\n",
        "print(a * b)"
      ]
    },
    {
      "cell_type": "code",
      "execution_count": 11,
      "metadata": {
        "colab": {
          "base_uri": "https://localhost:8080/"
        },
        "id": "7ym3WCu6Qkvs",
        "outputId": "e2dec0ad-0819-48ea-fdbe-d55c6330e9ca"
      },
      "outputs": [
        {
          "output_type": "stream",
          "name": "stdout",
          "text": [
            "3.3333333333333335\n"
          ]
        }
      ],
      "source": [
        "# Division\n",
        "print(a / b)"
      ]
    },
    {
      "cell_type": "code",
      "execution_count": 12,
      "metadata": {
        "colab": {
          "base_uri": "https://localhost:8080/"
        },
        "id": "2-LYCUUoQkvt",
        "outputId": "ee1fb765-21f4-4ca3-cf44-226484521840"
      },
      "outputs": [
        {
          "output_type": "stream",
          "name": "stdout",
          "text": [
            "1\n"
          ]
        }
      ],
      "source": [
        "# Modulus (remainder)\n",
        "print(a % b)"
      ]
    },
    {
      "cell_type": "code",
      "execution_count": 13,
      "metadata": {
        "colab": {
          "base_uri": "https://localhost:8080/"
        },
        "id": "-Pws_SV6Qkvt",
        "outputId": "63ebf6b9-5eb7-4d27-f177-8c49b2525a41"
      },
      "outputs": [
        {
          "output_type": "stream",
          "name": "stdout",
          "text": [
            "1000\n"
          ]
        }
      ],
      "source": [
        "# Exponentiation\n",
        "print(a ** b)"
      ]
    },
    {
      "cell_type": "markdown",
      "metadata": {
        "id": "3G6-PE8cQkvt"
      },
      "source": [
        "4. Control Structures"
      ]
    },
    {
      "cell_type": "code",
      "execution_count": 14,
      "metadata": {
        "colab": {
          "base_uri": "https://localhost:8080/"
        },
        "id": "kdJU72SwQkvt",
        "outputId": "559ff3a4-ff0d-42ca-e6f7-e6ce86a71831"
      },
      "outputs": [
        {
          "output_type": "stream",
          "name": "stdout",
          "text": [
            "Positive\n"
          ]
        }
      ],
      "source": [
        "# If-Else statement\n",
        "x = 5\n",
        "if x > 0:\n",
        "    print(\"Positive\")\n",
        "elif x < 0:\n",
        "    print(\"Negative\")\n",
        "else:\n",
        "    print(\"Zero\")\n"
      ]
    },
    {
      "cell_type": "code",
      "execution_count": 15,
      "metadata": {
        "colab": {
          "base_uri": "https://localhost:8080/"
        },
        "id": "QRDJqAzHQkvt",
        "outputId": "a6a1c32b-7045-4a65-b3e6-0d9a6d4ac041"
      },
      "outputs": [
        {
          "output_type": "stream",
          "name": "stdout",
          "text": [
            "0\n",
            "1\n",
            "2\n",
            "3\n",
            "4\n"
          ]
        }
      ],
      "source": [
        "# For loop\n",
        "for i in range(5):\n",
        "    print(i)"
      ]
    },
    {
      "cell_type": "code",
      "execution_count": 16,
      "metadata": {
        "colab": {
          "base_uri": "https://localhost:8080/"
        },
        "id": "pHVVVqWOQkvt",
        "outputId": "edff8de5-96a3-415b-dac0-affacf219b2e"
      },
      "outputs": [
        {
          "output_type": "stream",
          "name": "stdout",
          "text": [
            "0\n",
            "1\n",
            "2\n",
            "3\n",
            "4\n"
          ]
        }
      ],
      "source": [
        "# While loop\n",
        "i = 0\n",
        "while i < 5:\n",
        "    print(i)\n",
        "    i += 1"
      ]
    },
    {
      "cell_type": "markdown",
      "metadata": {
        "id": "qEbZMDPVQkvt"
      },
      "source": [
        "## Data Structures"
      ]
    },
    {
      "cell_type": "code",
      "execution_count": 17,
      "metadata": {
        "colab": {
          "base_uri": "https://localhost:8080/"
        },
        "id": "qsXrHGSoQkvt",
        "outputId": "c518d9ea-7b32-42a5-dfa0-3e27d6afb12e"
      },
      "outputs": [
        {
          "output_type": "stream",
          "name": "stdout",
          "text": [
            "1\n",
            "6\n",
            "John\n",
            "{'cherry', 'banana', 'apple'}\n"
          ]
        }
      ],
      "source": [
        "# List\n",
        "my_list = [1, 2, 3, 4, 5]\n",
        "print(my_list[0])  # Accessing elements\n",
        "\n",
        "# Tuple (immutable list)\n",
        "my_tuple = (6, 7, 8)\n",
        "print(my_tuple[0])\n",
        "\n",
        "# Dictionary (key-value pairs)\n",
        "my_dict = {\"name\": \"John\", \"age\": 30, \"city\": \"New York\"}\n",
        "print(my_dict[\"name\"])\n",
        "\n",
        "# Set\n",
        "my_set = {\"apple\", \"banana\", \"cherry\"}\n",
        "print(my_set)\n",
        "\n"
      ]
    },
    {
      "cell_type": "markdown",
      "metadata": {
        "id": "cDMZmszJQkvt"
      },
      "source": [
        "A list is a collection which is ordered and changeable. It allows duplicate members."
      ]
    },
    {
      "cell_type": "code",
      "execution_count": 18,
      "metadata": {
        "colab": {
          "base_uri": "https://localhost:8080/"
        },
        "id": "AHkVanv_Qkvt",
        "outputId": "af0ce9b0-b8fd-4e00-e9e1-7d7eb117496c"
      },
      "outputs": [
        {
          "output_type": "stream",
          "name": "stdout",
          "text": [
            "['apple', 'banana', 'cherry']\n",
            "['apple', 'banana', 'cherry', 'orange']\n",
            "banana\n",
            "['apple', 'cherry', 'orange']\n"
          ]
        }
      ],
      "source": [
        "# Creating a list\n",
        "fruits = [\"apple\", \"banana\", \"cherry\"]\n",
        "print(fruits)\n",
        "\n",
        "# Adding an item\n",
        "fruits.append(\"orange\")\n",
        "print(fruits)\n",
        "\n",
        "# Accessing items\n",
        "print(fruits[1])\n",
        "\n",
        "# Removing an item\n",
        "fruits.remove(\"banana\")\n",
        "print(fruits)"
      ]
    },
    {
      "cell_type": "markdown",
      "metadata": {
        "id": "Le19boR4Qkvt"
      },
      "source": [
        "A tuple is a collection which is ordered but unchangeable (immutable). It allows duplicate members."
      ]
    },
    {
      "cell_type": "code",
      "execution_count": 19,
      "metadata": {
        "colab": {
          "base_uri": "https://localhost:8080/"
        },
        "id": "f0VCapInQkvt",
        "outputId": "17454d6e-9818-4c0a-aaa5-ef2e81c073fb"
      },
      "outputs": [
        {
          "output_type": "stream",
          "name": "stdout",
          "text": [
            "('apple', 'banana', 'cherry')\n",
            "banana\n"
          ]
        }
      ],
      "source": [
        "# Creating a tuple\n",
        "my_tuple = (\"apple\", \"banana\", \"cherry\")\n",
        "print(my_tuple)\n",
        "\n",
        "# Accessing items\n",
        "print(my_tuple[1])\n",
        "\n",
        "# Tuples are immutable, so the following code will cause an error:\n",
        "# my_tuple[1] = \"orange\""
      ]
    },
    {
      "cell_type": "markdown",
      "metadata": {
        "id": "UrfNXeo_Qkvt"
      },
      "source": [
        "A dictionary is a collection which is unordered, changeable, and indexed. It does not allow duplicates."
      ]
    },
    {
      "cell_type": "code",
      "execution_count": 20,
      "metadata": {
        "colab": {
          "base_uri": "https://localhost:8080/"
        },
        "id": "ITDkU1gbQkvt",
        "outputId": "41c6c310-c6e2-4b70-a3a5-5a552ea5d47e"
      },
      "outputs": [
        {
          "output_type": "stream",
          "name": "stdout",
          "text": [
            "{'name': 'Alice', 'age': 25, 'city': 'New York'}\n",
            "Alice\n",
            "{'name': 'Alice', 'age': 26, 'city': 'New York'}\n"
          ]
        }
      ],
      "source": [
        "# Creating a dictionary\n",
        "person = {\n",
        "    \"name\": \"Alice\",\n",
        "    \"age\": 25,\n",
        "    \"city\": \"New York\"\n",
        "}\n",
        "print(person)\n",
        "\n",
        "# Accessing values\n",
        "print(person[\"name\"])\n",
        "\n",
        "# Modifying a value\n",
        "person[\"age\"] = 26\n",
        "print(person)"
      ]
    },
    {
      "cell_type": "markdown",
      "metadata": {
        "id": "iIKFn6I2Qkvt"
      },
      "source": [
        "6. Functions"
      ]
    },
    {
      "cell_type": "code",
      "execution_count": 21,
      "metadata": {
        "colab": {
          "base_uri": "https://localhost:8080/"
        },
        "id": "V2RYuYCzQkvt",
        "outputId": "35e7e2d4-3d32-4c85-b7ba-5c0fd7ebe5b2"
      },
      "outputs": [
        {
          "output_type": "stream",
          "name": "stdout",
          "text": [
            "Hello, Alice!\n"
          ]
        }
      ],
      "source": [
        "def greet(name):\n",
        "    \"\"\"This function greets the person passed in as parameter\"\"\"\n",
        "    print(f\"Hello, {name}!\")\n",
        "\n",
        "greet(\"Alice\")  # Output: Hello, Alice!"
      ]
    },
    {
      "cell_type": "markdown",
      "metadata": {
        "id": "PHCm-34KQkvu"
      },
      "source": [
        "A set is a collection which is unordered, unindexed, and does not allow duplicate members."
      ]
    },
    {
      "cell_type": "code",
      "execution_count": 22,
      "metadata": {
        "colab": {
          "base_uri": "https://localhost:8080/"
        },
        "id": "11fYiKJzQkvu",
        "outputId": "b19a061a-8e54-4491-c7ca-35bed8ac6cad"
      },
      "outputs": [
        {
          "output_type": "stream",
          "name": "stdout",
          "text": [
            "{'cherry', 'banana', 'apple'}\n",
            "{'cherry', 'banana', 'orange', 'apple'}\n",
            "{'cherry', 'orange', 'apple'}\n"
          ]
        }
      ],
      "source": [
        "# Creating a set\n",
        "my_set = {\"apple\", \"banana\", \"cherry\"}\n",
        "print(my_set)\n",
        "\n",
        "# Adding an item\n",
        "my_set.add(\"orange\")\n",
        "print(my_set)\n",
        "\n",
        "# Removing an item\n",
        "my_set.remove(\"banana\")\n",
        "print(my_set)"
      ]
    },
    {
      "cell_type": "markdown",
      "metadata": {
        "id": "D0Fs-LbnQkvu"
      },
      "source": [
        "## Basic File Management in Python"
      ]
    },
    {
      "cell_type": "markdown",
      "metadata": {
        "id": "HdJ6EW2oQkvu"
      },
      "source": [
        "You can also use many command line tools in a Jupyter notebook. We use `echo` to create a first text file."
      ]
    },
    {
      "cell_type": "code",
      "execution_count": 23,
      "metadata": {
        "id": "qB3zTqjIQkvu"
      },
      "outputs": [],
      "source": [
        "!echo \"This is the beginning of a new file!\\n\" >> example.txt"
      ]
    },
    {
      "cell_type": "markdown",
      "metadata": {
        "id": "i4oRSe-wQkvu"
      },
      "source": [
        "To read a file, use the open() function in reading mode ('r')."
      ]
    },
    {
      "cell_type": "code",
      "execution_count": 24,
      "metadata": {
        "colab": {
          "base_uri": "https://localhost:8080/"
        },
        "id": "CwupDNmTQkvu",
        "outputId": "35ec06c9-533a-458c-9b7e-f5512586db0b"
      },
      "outputs": [
        {
          "output_type": "stream",
          "name": "stdout",
          "text": [
            "This is the beginning of a new file!\\n\n",
            "\n"
          ]
        }
      ],
      "source": [
        "# Reading from a file\n",
        "file = open(\"example.txt\", \"r\")\n",
        "\n",
        "# Read the entire content of the file\n",
        "content = file.read()\n",
        "print(content)\n",
        "\n",
        "# Always remember to close the file after you're done\n",
        "file.close()"
      ]
    },
    {
      "cell_type": "markdown",
      "metadata": {
        "id": "ua2uTInGQkvz"
      },
      "source": [
        "To write to a file, use the open() function in write mode ('w')."
      ]
    },
    {
      "cell_type": "code",
      "execution_count": 25,
      "metadata": {
        "id": "zcCqIyVsQkvz"
      },
      "outputs": [],
      "source": [
        "# Writing to a file\n",
        "file = open(\"example.txt\", \"w\")\n",
        "file.write(\"Hello, World!\\nThis is a new line.\")\n",
        "file.close()"
      ]
    },
    {
      "cell_type": "markdown",
      "metadata": {
        "id": "HtiHmjA7Qkvz"
      },
      "source": [
        "You can also append data to an existing file using append mode ('a')."
      ]
    },
    {
      "cell_type": "code",
      "execution_count": 26,
      "metadata": {
        "id": "DK1ztGLyQkvz"
      },
      "outputs": [],
      "source": [
        "# Appending to a file\n",
        "file = open(\"example.txt\", \"a\")\n",
        "file.write(\"\\nThis is an appended line.\")\n",
        "file.close()"
      ]
    },
    {
      "cell_type": "markdown",
      "metadata": {
        "id": "asdwE6g8Qkvz"
      },
      "source": [
        "It’s a good practice to use the `with` statement when working with files to ensure the file is properly closed after the operations."
      ]
    },
    {
      "cell_type": "code",
      "execution_count": 27,
      "metadata": {
        "colab": {
          "base_uri": "https://localhost:8080/"
        },
        "id": "Fzh1B3UIQkvz",
        "outputId": "72390b97-1791-4c66-83c8-df8f1ca8897a"
      },
      "outputs": [
        {
          "output_type": "stream",
          "name": "stdout",
          "text": [
            "Hello, World!\n",
            "This is a new line.\n",
            "This is an appended line.\n"
          ]
        }
      ],
      "source": [
        "# Using 'with' statement to open and read a file\n",
        "with open(\"example.txt\", \"r\") as file:\n",
        "    content = file.read()\n",
        "    print(content)"
      ]
    },
    {
      "cell_type": "markdown",
      "metadata": {
        "id": "tSGCLM_VQkvz"
      },
      "source": [
        "## String Handling in Python"
      ]
    },
    {
      "cell_type": "markdown",
      "metadata": {
        "id": "cVLMj67BQkv0"
      },
      "source": [
        "Python provides a variety of methods for manipulating and handling strings."
      ]
    },
    {
      "cell_type": "code",
      "execution_count": 28,
      "metadata": {
        "colab": {
          "base_uri": "https://localhost:8080/"
        },
        "id": "AyS6v_toQkv0",
        "outputId": "2423e2df-5488-421e-b9ce-acc9b2ba351e"
      },
      "outputs": [
        {
          "output_type": "stream",
          "name": "stdout",
          "text": [
            "Hello, Alice!\n"
          ]
        }
      ],
      "source": [
        "# Concatenating strings\n",
        "greeting = \"Hello\"\n",
        "name = \"Alice\"\n",
        "message = greeting + \", \" + name + \"!\"\n",
        "print(message)"
      ]
    },
    {
      "cell_type": "markdown",
      "metadata": {
        "id": "7SCQ0T1KQkv0"
      },
      "source": [
        "**String Formatting:** You can format strings using the format() method or f-strings (in Python 3.6+)."
      ]
    },
    {
      "cell_type": "code",
      "execution_count": 29,
      "metadata": {
        "colab": {
          "base_uri": "https://localhost:8080/"
        },
        "id": "oU-Ml-UGQkv0",
        "outputId": "e9fedf2e-3da4-4056-fa47-ee4d54c9149d"
      },
      "outputs": [
        {
          "output_type": "stream",
          "name": "stdout",
          "text": [
            "Hello, Alice!\n",
            "Hello, Alice!\n"
          ]
        }
      ],
      "source": [
        "# Using format method\n",
        "message = \"Hello, {}!\".format(name)\n",
        "print(message)\n",
        "\n",
        "# Using f-strings (Python 3.6+)\n",
        "message = f\"Hello, {name}!\"\n",
        "print(message)"
      ]
    },
    {
      "cell_type": "markdown",
      "metadata": {
        "id": "hQdSLrUPQkv0"
      },
      "source": [
        "**String Methods:** Some common string methods in Python include upper(), lower(), replace(), and split()."
      ]
    },
    {
      "cell_type": "code",
      "execution_count": 30,
      "metadata": {
        "colab": {
          "base_uri": "https://localhost:8080/"
        },
        "id": "GqKMWzKpQkv0",
        "outputId": "fbfd8b5b-0aad-43ef-90f2-4b0976460c53"
      },
      "outputs": [
        {
          "output_type": "stream",
          "name": "stdout",
          "text": [
            "HELLO, WORLD!\n",
            "hello, world!\n",
            "Hello, Python!\n",
            "['Hello', 'World!']\n"
          ]
        }
      ],
      "source": [
        "# Changing case\n",
        "text = \"Hello, World!\"\n",
        "print(text.upper())\n",
        "print(text.lower())\n",
        "\n",
        "# Replacing parts of a string\n",
        "print(text.replace(\"World\", \"Python\"))\n",
        "\n",
        "# Splitting a string\n",
        "words = text.split(\", \")\n",
        "print(words)"
      ]
    },
    {
      "cell_type": "markdown",
      "metadata": {
        "id": "sjUZKRaAQkv0"
      },
      "source": [
        "**Regular expressions:** The re.search() function searches for a match in a string."
      ]
    },
    {
      "cell_type": "code",
      "execution_count": 31,
      "metadata": {
        "colab": {
          "base_uri": "https://localhost:8080/"
        },
        "id": "Yp6uEpu0Qkv0",
        "outputId": "a75c7865-b4d1-4229-e82b-ac0368f8a1a6"
      },
      "outputs": [
        {
          "output_type": "stream",
          "name": "stdout",
          "text": [
            "Match found!\n"
          ]
        }
      ],
      "source": [
        "import re\n",
        "\n",
        "# Search for the word 'Python' in a string\n",
        "text = \"Welcome to Python programming!\"\n",
        "pattern = \"Python\"\n",
        "\n",
        "# Search for the pattern\n",
        "match = re.search(pattern, text)\n",
        "\n",
        "# The re.search() function looks for the word “Python” in the text. If found, it returns a match object, otherwise None.\n",
        "if match:\n",
        "    print(\"Match found!\")\n",
        "else:\n",
        "    print(\"No match.\")"
      ]
    },
    {
      "cell_type": "markdown",
      "metadata": {
        "id": "4kXNUPx-Qkv0"
      },
      "source": [
        "## Quiz time!"
      ]
    },
    {
      "cell_type": "markdown",
      "metadata": {
        "id": "5r5Cz-11Qkv0"
      },
      "source": [
        "**Question:** What will be the output of the following code?"
      ]
    },
    {
      "cell_type": "code",
      "execution_count": 32,
      "metadata": {
        "colab": {
          "base_uri": "https://localhost:8080/"
        },
        "id": "CGJsDktLQkv0",
        "outputId": "9de818fd-98e9-4614-bdd6-4b76820e52cb"
      },
      "outputs": [
        {
          "output_type": "stream",
          "name": "stdout",
          "text": [
            "banana\n"
          ]
        }
      ],
      "source": [
        "fruits = [\"apple\", \"banana\", \"cherry\"]\n",
        "fruits.append(\"orange\")\n",
        "print(fruits[1])"
      ]
    },
    {
      "cell_type": "markdown",
      "metadata": {
        "id": "fdAfVId1Qkv0"
      },
      "source": [
        "A) \"apple\"  \n",
        "B) \"banana\"  \n",
        "C) \"cherry\"  \n",
        "D) [\"apple\", \"banana\", \"cherry\", \"orange\"]"
      ]
    },
    {
      "cell_type": "markdown",
      "source": [
        "A: B) \"banana\""
      ],
      "metadata": {
        "id": "lJwTR4pBStI3"
      }
    },
    {
      "cell_type": "markdown",
      "metadata": {
        "id": "AJas0ru0Qkv0"
      },
      "source": [
        "**Question:** What error will the following code produce?"
      ]
    },
    {
      "cell_type": "code",
      "execution_count": 33,
      "metadata": {
        "colab": {
          "base_uri": "https://localhost:8080/",
          "height": 159
        },
        "id": "ozuzpgIDQkv0",
        "outputId": "d15fd42b-7b45-4adc-b2e3-57fce3256796"
      },
      "outputs": [
        {
          "output_type": "error",
          "ename": "TypeError",
          "evalue": "'tuple' object does not support item assignment",
          "traceback": [
            "\u001b[0;31m---------------------------------------------------------------------------\u001b[0m",
            "\u001b[0;31mTypeError\u001b[0m                                 Traceback (most recent call last)",
            "\u001b[0;32m<ipython-input-33-fa36441825d4>\u001b[0m in \u001b[0;36m<cell line: 0>\u001b[0;34m()\u001b[0m\n\u001b[1;32m      1\u001b[0m \u001b[0mcolors\u001b[0m \u001b[0;34m=\u001b[0m \u001b[0;34m(\u001b[0m\u001b[0;34m\"red\"\u001b[0m\u001b[0;34m,\u001b[0m \u001b[0;34m\"green\"\u001b[0m\u001b[0;34m,\u001b[0m \u001b[0;34m\"blue\"\u001b[0m\u001b[0;34m)\u001b[0m\u001b[0;34m\u001b[0m\u001b[0;34m\u001b[0m\u001b[0m\n\u001b[0;32m----> 2\u001b[0;31m \u001b[0mcolors\u001b[0m\u001b[0;34m[\u001b[0m\u001b[0;36m1\u001b[0m\u001b[0;34m]\u001b[0m \u001b[0;34m=\u001b[0m \u001b[0;34m\"yellow\"\u001b[0m\u001b[0;34m\u001b[0m\u001b[0;34m\u001b[0m\u001b[0m\n\u001b[0m",
            "\u001b[0;31mTypeError\u001b[0m: 'tuple' object does not support item assignment"
          ]
        }
      ],
      "source": [
        "colors = (\"red\", \"green\", \"blue\")\n",
        "colors[1] = \"yellow\""
      ]
    },
    {
      "cell_type": "markdown",
      "metadata": {
        "id": "hxBgsEjUQkv0"
      },
      "source": [
        "A) TypeError: 'tuple' object does not support item assignment  \n",
        "B) IndexError: tuple index out of range  \n",
        "C) No error, it works fine  \n",
        "D) AttributeError: 'tuple' object has no attribute 'append'"
      ]
    },
    {
      "cell_type": "markdown",
      "source": [
        "A: A) TypeError: 'tuple' object does not support item assignment"
      ],
      "metadata": {
        "id": "7nNtMzhHS3WP"
      }
    },
    {
      "cell_type": "markdown",
      "metadata": {
        "id": "Ijze5R1KQkv1"
      },
      "source": [
        "**Question:** What will be the value of car[\"year\"] after running the following code?"
      ]
    },
    {
      "cell_type": "code",
      "execution_count": 34,
      "metadata": {
        "colab": {
          "base_uri": "https://localhost:8080/"
        },
        "id": "5yUEQY6eQkv1",
        "outputId": "0f96e920-3149-442b-8ae7-7cfed4eb7c8b"
      },
      "outputs": [
        {
          "output_type": "stream",
          "name": "stdout",
          "text": [
            "2022\n"
          ]
        }
      ],
      "source": [
        "car = {\n",
        "    \"brand\": \"Ford\",\n",
        "    \"model\": \"Mustang\",\n",
        "    \"year\": 1964\n",
        "}\n",
        "car[\"year\"] = 2022\n",
        "print(car[\"year\"])"
      ]
    },
    {
      "cell_type": "markdown",
      "metadata": {
        "id": "s1ejG3jYQkv1"
      },
      "source": [
        "A) 1964  \n",
        "B) 2022  \n",
        "C) None  \n",
        "D) KeyError: 'year'"
      ]
    },
    {
      "cell_type": "markdown",
      "source": [
        "A: B) 2022"
      ],
      "metadata": {
        "id": "s58e8twATE-Y"
      }
    },
    {
      "cell_type": "markdown",
      "metadata": {
        "id": "DjTTA7FcQkv1"
      },
      "source": [
        "**Question:** What will happen if the following code is executed, and example.txt doesn’t exist in the directory?"
      ]
    },
    {
      "cell_type": "code",
      "execution_count": 35,
      "metadata": {
        "colab": {
          "base_uri": "https://localhost:8080/"
        },
        "id": "tydUO-1oQkv1",
        "outputId": "b6b0ebdb-745a-4877-8d26-917ee2b5350b"
      },
      "outputs": [
        {
          "output_type": "stream",
          "name": "stdout",
          "text": [
            "Hello, World!\n",
            "This is a new line.\n",
            "This is an appended line.\n"
          ]
        }
      ],
      "source": [
        "with open(\"example.txt\", \"r\") as file:\n",
        "    content = file.read()\n",
        "    print(content)"
      ]
    },
    {
      "cell_type": "markdown",
      "metadata": {
        "id": "lxysdjoYQkv1"
      },
      "source": [
        "A) It will create a new file named example.txt.  \n",
        "B) It will throw a FileNotFoundError.  \n",
        "C) It will print an empty string.  \n",
        "D) It will print None.  "
      ]
    },
    {
      "cell_type": "markdown",
      "source": [
        "A: B) It will throw a FileNotFoundError."
      ],
      "metadata": {
        "id": "Jwq44nBbTcgo"
      }
    },
    {
      "cell_type": "markdown",
      "metadata": {
        "id": "hfxxd1BoQkv1"
      },
      "source": [
        "**Question:** What will be the value of message in the following code?"
      ]
    },
    {
      "cell_type": "code",
      "execution_count": 36,
      "metadata": {
        "colab": {
          "base_uri": "https://localhost:8080/"
        },
        "id": "OSE9psPUQkv1",
        "outputId": "d6fa1d55-584d-4d02-a9b4-0c4e2261edc4"
      },
      "outputs": [
        {
          "output_type": "stream",
          "name": "stdout",
          "text": [
            "Hello, Alice!\n"
          ]
        }
      ],
      "source": [
        "name = \"Alice\"\n",
        "greeting = \"Hello\"\n",
        "message = greeting + \", \" + name + \"!\"\n",
        "print(message)"
      ]
    },
    {
      "cell_type": "markdown",
      "metadata": {
        "id": "zOUJy27sQkv1"
      },
      "source": [
        "A) \"Hello Alice\"  \n",
        "B) \"Hello, Alice!\"  \n",
        "C) \"Hello Alice!\"  \n",
        "D) \", Alice!\""
      ]
    },
    {
      "cell_type": "markdown",
      "source": [
        "A: B) \"Hello, Alice!\""
      ],
      "metadata": {
        "id": "naHL41ifTmCj"
      }
    },
    {
      "cell_type": "markdown",
      "metadata": {
        "id": "wlN0cZTTQkv1"
      },
      "source": [
        "**Question:** What will the following code output?"
      ]
    },
    {
      "cell_type": "code",
      "execution_count": 37,
      "metadata": {
        "colab": {
          "base_uri": "https://localhost:8080/"
        },
        "id": "dFIlKqXOQkv1",
        "outputId": "3149dbad-e73d-4c16-d633-b6aedf785864"
      },
      "outputs": [
        {
          "output_type": "stream",
          "name": "stdout",
          "text": [
            "WELCOME TO PYTHON\n"
          ]
        }
      ],
      "source": [
        "text = \"Welcome to Python\"\n",
        "print(text.upper())"
      ]
    },
    {
      "cell_type": "markdown",
      "metadata": {
        "id": "9LU-LmwwQkv1"
      },
      "source": [
        "A) WELCOME TO PYTHON  \n",
        "B) welcome to python  \n",
        "C) Welcome To Python  \n",
        "D) Welcome to python"
      ]
    },
    {
      "cell_type": "markdown",
      "source": [
        "A: A) WELCOME TO PYTHON"
      ],
      "metadata": {
        "id": "0tUvsPTuUExN"
      }
    },
    {
      "cell_type": "markdown",
      "metadata": {
        "id": "7D3XqCA1Qkv1"
      },
      "source": [
        "**Question:** What happens if you try to add a duplicate item to a set?"
      ]
    },
    {
      "cell_type": "code",
      "execution_count": 38,
      "metadata": {
        "colab": {
          "base_uri": "https://localhost:8080/"
        },
        "id": "tRXoYNVaQkv1",
        "outputId": "34df54b1-f5f7-4734-8f11-6ecf9bf37b99"
      },
      "outputs": [
        {
          "output_type": "stream",
          "name": "stdout",
          "text": [
            "{'cherry', 'banana', 'apple'}\n"
          ]
        }
      ],
      "source": [
        "my_set = {\"apple\", \"banana\", \"cherry\"}\n",
        "my_set.add(\"banana\")\n",
        "print(my_set)"
      ]
    },
    {
      "cell_type": "markdown",
      "metadata": {
        "id": "sfOzbRdBQkv1"
      },
      "source": [
        "A) The set will now contain two \"banana\" items.  \n",
        "B) The set will raise an error.  \n",
        "C) The set will remain unchanged.   \n",
        "D) The set will reorder itself."
      ]
    },
    {
      "cell_type": "markdown",
      "source": [
        "A: C) The set will remain unchanged."
      ],
      "metadata": {
        "id": "UyAzwyN-UKNZ"
      }
    },
    {
      "cell_type": "markdown",
      "metadata": {
        "id": "pUg8-KUeQkv2"
      },
      "source": [
        "**Question:** What is the correct way to format a string using f-strings in the following code?"
      ]
    },
    {
      "cell_type": "code",
      "execution_count": 39,
      "metadata": {
        "colab": {
          "base_uri": "https://localhost:8080/"
        },
        "id": "jomogNDDQkv2",
        "outputId": "4e812131-289d-4b18-bb86-c1655b095d80"
      },
      "outputs": [
        {
          "output_type": "stream",
          "name": "stdout",
          "text": [
            "My name is ... and I am ... years old.\n"
          ]
        }
      ],
      "source": [
        "name = \"Alice\"\n",
        "age = 25\n",
        "message = f\"My name is ... and I am ... years old.\"\n",
        "print(message)"
      ]
    },
    {
      "cell_type": "markdown",
      "metadata": {
        "id": "Hc9jALHRQkv2"
      },
      "source": [
        "A) f\"My name is {name} and I am {age} years old.\"  \n",
        "B) f\"My name is name and I am age years old.\"  \n",
        "C) \"My name is {name} and I am {age} years old.\"  \n",
        "D) \"My name is name and I am age years old.\""
      ]
    },
    {
      "cell_type": "markdown",
      "source": [
        "A: A) f\"My name is {name} and I am {age} years old.\""
      ],
      "metadata": {
        "id": "4wIyFG__UPp1"
      }
    },
    {
      "cell_type": "markdown",
      "metadata": {
        "id": "xHAESUTxQkv2"
      },
      "source": [
        "**Question:** What will be the output of the following code?"
      ]
    },
    {
      "cell_type": "code",
      "execution_count": 40,
      "metadata": {
        "colab": {
          "base_uri": "https://localhost:8080/"
        },
        "id": "mjmyd39hQkv2",
        "outputId": "22605b6c-5787-432e-c194-0d9fe1705dd9"
      },
      "outputs": [
        {
          "output_type": "stream",
          "name": "stdout",
          "text": [
            "40\n"
          ]
        }
      ],
      "source": [
        "numbers = [10, 20, 30, 40, 50]\n",
        "print(numbers[-2])"
      ]
    },
    {
      "cell_type": "markdown",
      "metadata": {
        "id": "cR-iNehGQkv2"
      },
      "source": [
        "A) 20  \n",
        "B) 40  \n",
        "C) 30  \n",
        "D) 50\n"
      ]
    },
    {
      "cell_type": "markdown",
      "source": [
        "A: B) 40"
      ],
      "metadata": {
        "id": "KPuwIi05VhBS"
      }
    },
    {
      "cell_type": "markdown",
      "metadata": {
        "id": "qEUksgjMQkv2"
      },
      "source": [
        "**Question:** What will the following code output?"
      ]
    },
    {
      "cell_type": "code",
      "execution_count": 41,
      "metadata": {
        "colab": {
          "base_uri": "https://localhost:8080/"
        },
        "id": "OH81KNVrQkv2",
        "outputId": "cb7bb970-f4ef-499d-deb0-f34abce1e708"
      },
      "outputs": [
        {
          "output_type": "stream",
          "name": "stdout",
          "text": [
            "False\n"
          ]
        }
      ],
      "source": [
        "person = {\n",
        "    \"name\": \"John\",\n",
        "    \"age\": 30\n",
        "}\n",
        "print(\"height\" in person)"
      ]
    },
    {
      "cell_type": "markdown",
      "metadata": {
        "id": "xUWH2HtzQkv2"
      },
      "source": [
        "A) True  \n",
        "B) False  \n",
        "C) None  \n",
        "D) KeyError: 'height'"
      ]
    },
    {
      "cell_type": "markdown",
      "source": [
        "A: B) False"
      ],
      "metadata": {
        "id": "7BYikUCKV38t"
      }
    },
    {
      "cell_type": "markdown",
      "metadata": {
        "id": "jQbMmmRBQkv2"
      },
      "source": [
        "## Lab Assignments\n",
        "\n",
        "Download this notebook from Moodle and rerun the examples from today's lecture. If you can execute all of the code cells above you are done! The setup guide below will help you to get started!\n",
        "\n",
        "Once, you have setup your Python/Jupyter environment, please do the following task:\n",
        "\n",
        "- Download this [dataset](https://librarycarpentry.org/lc-python-intro/files/data.zip) and extract it (do not commit it to this repository).\n",
        "- Get familiar with the [pandas](https://pandas.pydata.org/) library and install it in your Python environment.\n",
        "- Load one or more of the CSV files in the data/ directory as a DataFrame.\n",
        "- Use the functions `info()`, `head()`, `tail()`, `describe()`, and the variable `columns` to get some basic information about the data. Also document and describe the outputs.\n",
        "- How do you get the first/last ten rows of the DataFrame?\n",
        "- How do you get the rows between row 30 and row 40?\n",
        "- How do you get a specific column, e.g., 'year'? What kind of `type()` has the column?\n",
        "- What is the `*.pkl` file? How do load it into your program and what are the data contents in it?\n",
        "- What is the purpose of `.loc()` and `.iloc()`?\n",
        "- How do you sort values in a column?\n",
        "\n",
        "When you have completed the tasks, please commit this notebook to your GitHub repository in the directory `assignments/06/`.\n"
      ]
    },
    {
      "cell_type": "code",
      "execution_count": 42,
      "metadata": {
        "colab": {
          "base_uri": "https://localhost:8080/"
        },
        "id": "7I6BglqLQkv2",
        "outputId": "51165c91-df89-4c60-a966-db03084f238d"
      },
      "outputs": [
        {
          "output_type": "stream",
          "name": "stdout",
          "text": [
            "Mounted at /content/drive\n"
          ]
        }
      ],
      "source": [
        "from google.colab import drive\n",
        "drive.mount('/content/drive')"
      ]
    },
    {
      "cell_type": "code",
      "source": [
        "import pandas as pd"
      ],
      "metadata": {
        "id": "Uq_6K0iIX4Kz"
      },
      "execution_count": 43,
      "outputs": []
    },
    {
      "cell_type": "markdown",
      "source": [
        "**1. Load one or more of the CSV files in the data/ directory as a DataFrame.**"
      ],
      "metadata": {
        "id": "RbTmbZDxZdq7"
      }
    },
    {
      "cell_type": "code",
      "source": [
        "# Pfad zur CSV-Datei anpassen\n",
        "csv_file_path = '/content/drive/MyDrive/data/2018_circ.csv'\n",
        "\n",
        "# CSV-Datei laden\n",
        "csv = pd.read_csv(csv_file_path)\n",
        "\n",
        "# DataFrame anzeigen\n",
        "print(csv.info())\n",
        "print(csv.head())"
      ],
      "metadata": {
        "colab": {
          "base_uri": "https://localhost:8080/"
        },
        "id": "_gbfHQY_YClk",
        "outputId": "e85094b6-77a3-47a2-a2e5-7564178b0ead"
      },
      "execution_count": 44,
      "outputs": [
        {
          "output_type": "stream",
          "name": "stdout",
          "text": [
            "<class 'pandas.core.frame.DataFrame'>\n",
            "RangeIndex: 80 entries, 0 to 79\n",
            "Data columns (total 17 columns):\n",
            " #   Column     Non-Null Count  Dtype  \n",
            "---  ------     --------------  -----  \n",
            " 0   branch     80 non-null     object \n",
            " 1   address    0 non-null      float64\n",
            " 2   city       0 non-null      float64\n",
            " 3   zip code   0 non-null      float64\n",
            " 4   january    80 non-null     int64  \n",
            " 5   february   80 non-null     int64  \n",
            " 6   march      80 non-null     int64  \n",
            " 7   april      80 non-null     int64  \n",
            " 8   may        80 non-null     int64  \n",
            " 9   june       80 non-null     int64  \n",
            " 10  july       80 non-null     int64  \n",
            " 11  august     80 non-null     int64  \n",
            " 12  september  80 non-null     int64  \n",
            " 13  october    80 non-null     int64  \n",
            " 14  november   80 non-null     int64  \n",
            " 15  december   80 non-null     int64  \n",
            " 16  ytd        80 non-null     int64  \n",
            "dtypes: float64(3), int64(13), object(1)\n",
            "memory usage: 10.8+ KB\n",
            "None\n",
            "           branch  address  city  zip code  january  february  march  april  \\\n",
            "0     Albany Park      NaN   NaN       NaN     9381      8156  10619   8660   \n",
            "1         Altgeld      NaN   NaN       NaN      327       283    354    274   \n",
            "2  Archer Heights      NaN   NaN       NaN     5459      5097   6391   5184   \n",
            "3          Austin      NaN   NaN       NaN        0       884   1266   1059   \n",
            "4   Austin-Irving      NaN   NaN       NaN     9333      7887  10465   8948   \n",
            "\n",
            "    may  june   july  august  september  october  november  december     ytd  \n",
            "0  7892  9795  10766   10505       8285    10098      9029      7982  111168  \n",
            "1   384   383    320     327        362      525       509       421    4469  \n",
            "2  4415  4988   5555    5153       4951     5426      4837      4856   62312  \n",
            "3   972  1170   1310    1166        809     1162       923       848   11569  \n",
            "4  7946  9571   9891    9146       8366     9435      9118      8146  108252  \n"
          ]
        }
      ]
    },
    {
      "cell_type": "markdown",
      "source": [
        "**2. Use the functions info(), head(), tail(), describe(), and the variable columns to get some basic information about the data. Also document and describe the outputs.**"
      ],
      "metadata": {
        "id": "-5PtDYY0Zj7c"
      }
    },
    {
      "cell_type": "code",
      "source": [
        "csv.info()"
      ],
      "metadata": {
        "colab": {
          "base_uri": "https://localhost:8080/"
        },
        "id": "82bewWAiZm2r",
        "outputId": "f3f2a628-4097-4a93-88eb-774a9ae5e4bb"
      },
      "execution_count": 45,
      "outputs": [
        {
          "output_type": "stream",
          "name": "stdout",
          "text": [
            "<class 'pandas.core.frame.DataFrame'>\n",
            "RangeIndex: 80 entries, 0 to 79\n",
            "Data columns (total 17 columns):\n",
            " #   Column     Non-Null Count  Dtype  \n",
            "---  ------     --------------  -----  \n",
            " 0   branch     80 non-null     object \n",
            " 1   address    0 non-null      float64\n",
            " 2   city       0 non-null      float64\n",
            " 3   zip code   0 non-null      float64\n",
            " 4   january    80 non-null     int64  \n",
            " 5   february   80 non-null     int64  \n",
            " 6   march      80 non-null     int64  \n",
            " 7   april      80 non-null     int64  \n",
            " 8   may        80 non-null     int64  \n",
            " 9   june       80 non-null     int64  \n",
            " 10  july       80 non-null     int64  \n",
            " 11  august     80 non-null     int64  \n",
            " 12  september  80 non-null     int64  \n",
            " 13  october    80 non-null     int64  \n",
            " 14  november   80 non-null     int64  \n",
            " 15  december   80 non-null     int64  \n",
            " 16  ytd        80 non-null     int64  \n",
            "dtypes: float64(3), int64(13), object(1)\n",
            "memory usage: 10.8+ KB\n"
          ]
        }
      ]
    },
    {
      "cell_type": "markdown",
      "source": [
        "**csv.info() gibt eine allgemeine Info und zeigt, dass der DataFrame 80 Zeilen und 17 Spalten hat, wobei Spalten wie address, city, und zip code leer sind.**"
      ],
      "metadata": {
        "id": "lqfFPC9adXlS"
      }
    },
    {
      "cell_type": "code",
      "source": [
        "csv.head()"
      ],
      "metadata": {
        "colab": {
          "base_uri": "https://localhost:8080/",
          "height": 296
        },
        "id": "pOvrHEtTdooi",
        "outputId": "b65ca006-4541-4195-d606-42108fc9113f"
      },
      "execution_count": 46,
      "outputs": [
        {
          "output_type": "execute_result",
          "data": {
            "text/plain": [
              "           branch  address  city  zip code  january  february  march  april  \\\n",
              "0     Albany Park      NaN   NaN       NaN     9381      8156  10619   8660   \n",
              "1         Altgeld      NaN   NaN       NaN      327       283    354    274   \n",
              "2  Archer Heights      NaN   NaN       NaN     5459      5097   6391   5184   \n",
              "3          Austin      NaN   NaN       NaN        0       884   1266   1059   \n",
              "4   Austin-Irving      NaN   NaN       NaN     9333      7887  10465   8948   \n",
              "\n",
              "    may  june   july  august  september  october  november  december     ytd  \n",
              "0  7892  9795  10766   10505       8285    10098      9029      7982  111168  \n",
              "1   384   383    320     327        362      525       509       421    4469  \n",
              "2  4415  4988   5555    5153       4951     5426      4837      4856   62312  \n",
              "3   972  1170   1310    1166        809     1162       923       848   11569  \n",
              "4  7946  9571   9891    9146       8366     9435      9118      8146  108252  "
            ],
            "text/html": [
              "\n",
              "  <div id=\"df-888fc872-086f-4737-b463-ead221cb22da\" class=\"colab-df-container\">\n",
              "    <div>\n",
              "<style scoped>\n",
              "    .dataframe tbody tr th:only-of-type {\n",
              "        vertical-align: middle;\n",
              "    }\n",
              "\n",
              "    .dataframe tbody tr th {\n",
              "        vertical-align: top;\n",
              "    }\n",
              "\n",
              "    .dataframe thead th {\n",
              "        text-align: right;\n",
              "    }\n",
              "</style>\n",
              "<table border=\"1\" class=\"dataframe\">\n",
              "  <thead>\n",
              "    <tr style=\"text-align: right;\">\n",
              "      <th></th>\n",
              "      <th>branch</th>\n",
              "      <th>address</th>\n",
              "      <th>city</th>\n",
              "      <th>zip code</th>\n",
              "      <th>january</th>\n",
              "      <th>february</th>\n",
              "      <th>march</th>\n",
              "      <th>april</th>\n",
              "      <th>may</th>\n",
              "      <th>june</th>\n",
              "      <th>july</th>\n",
              "      <th>august</th>\n",
              "      <th>september</th>\n",
              "      <th>october</th>\n",
              "      <th>november</th>\n",
              "      <th>december</th>\n",
              "      <th>ytd</th>\n",
              "    </tr>\n",
              "  </thead>\n",
              "  <tbody>\n",
              "    <tr>\n",
              "      <th>0</th>\n",
              "      <td>Albany Park</td>\n",
              "      <td>NaN</td>\n",
              "      <td>NaN</td>\n",
              "      <td>NaN</td>\n",
              "      <td>9381</td>\n",
              "      <td>8156</td>\n",
              "      <td>10619</td>\n",
              "      <td>8660</td>\n",
              "      <td>7892</td>\n",
              "      <td>9795</td>\n",
              "      <td>10766</td>\n",
              "      <td>10505</td>\n",
              "      <td>8285</td>\n",
              "      <td>10098</td>\n",
              "      <td>9029</td>\n",
              "      <td>7982</td>\n",
              "      <td>111168</td>\n",
              "    </tr>\n",
              "    <tr>\n",
              "      <th>1</th>\n",
              "      <td>Altgeld</td>\n",
              "      <td>NaN</td>\n",
              "      <td>NaN</td>\n",
              "      <td>NaN</td>\n",
              "      <td>327</td>\n",
              "      <td>283</td>\n",
              "      <td>354</td>\n",
              "      <td>274</td>\n",
              "      <td>384</td>\n",
              "      <td>383</td>\n",
              "      <td>320</td>\n",
              "      <td>327</td>\n",
              "      <td>362</td>\n",
              "      <td>525</td>\n",
              "      <td>509</td>\n",
              "      <td>421</td>\n",
              "      <td>4469</td>\n",
              "    </tr>\n",
              "    <tr>\n",
              "      <th>2</th>\n",
              "      <td>Archer Heights</td>\n",
              "      <td>NaN</td>\n",
              "      <td>NaN</td>\n",
              "      <td>NaN</td>\n",
              "      <td>5459</td>\n",
              "      <td>5097</td>\n",
              "      <td>6391</td>\n",
              "      <td>5184</td>\n",
              "      <td>4415</td>\n",
              "      <td>4988</td>\n",
              "      <td>5555</td>\n",
              "      <td>5153</td>\n",
              "      <td>4951</td>\n",
              "      <td>5426</td>\n",
              "      <td>4837</td>\n",
              "      <td>4856</td>\n",
              "      <td>62312</td>\n",
              "    </tr>\n",
              "    <tr>\n",
              "      <th>3</th>\n",
              "      <td>Austin</td>\n",
              "      <td>NaN</td>\n",
              "      <td>NaN</td>\n",
              "      <td>NaN</td>\n",
              "      <td>0</td>\n",
              "      <td>884</td>\n",
              "      <td>1266</td>\n",
              "      <td>1059</td>\n",
              "      <td>972</td>\n",
              "      <td>1170</td>\n",
              "      <td>1310</td>\n",
              "      <td>1166</td>\n",
              "      <td>809</td>\n",
              "      <td>1162</td>\n",
              "      <td>923</td>\n",
              "      <td>848</td>\n",
              "      <td>11569</td>\n",
              "    </tr>\n",
              "    <tr>\n",
              "      <th>4</th>\n",
              "      <td>Austin-Irving</td>\n",
              "      <td>NaN</td>\n",
              "      <td>NaN</td>\n",
              "      <td>NaN</td>\n",
              "      <td>9333</td>\n",
              "      <td>7887</td>\n",
              "      <td>10465</td>\n",
              "      <td>8948</td>\n",
              "      <td>7946</td>\n",
              "      <td>9571</td>\n",
              "      <td>9891</td>\n",
              "      <td>9146</td>\n",
              "      <td>8366</td>\n",
              "      <td>9435</td>\n",
              "      <td>9118</td>\n",
              "      <td>8146</td>\n",
              "      <td>108252</td>\n",
              "    </tr>\n",
              "  </tbody>\n",
              "</table>\n",
              "</div>\n",
              "    <div class=\"colab-df-buttons\">\n",
              "\n",
              "  <div class=\"colab-df-container\">\n",
              "    <button class=\"colab-df-convert\" onclick=\"convertToInteractive('df-888fc872-086f-4737-b463-ead221cb22da')\"\n",
              "            title=\"Convert this dataframe to an interactive table.\"\n",
              "            style=\"display:none;\">\n",
              "\n",
              "  <svg xmlns=\"http://www.w3.org/2000/svg\" height=\"24px\" viewBox=\"0 -960 960 960\">\n",
              "    <path d=\"M120-120v-720h720v720H120Zm60-500h600v-160H180v160Zm220 220h160v-160H400v160Zm0 220h160v-160H400v160ZM180-400h160v-160H180v160Zm440 0h160v-160H620v160ZM180-180h160v-160H180v160Zm440 0h160v-160H620v160Z\"/>\n",
              "  </svg>\n",
              "    </button>\n",
              "\n",
              "  <style>\n",
              "    .colab-df-container {\n",
              "      display:flex;\n",
              "      gap: 12px;\n",
              "    }\n",
              "\n",
              "    .colab-df-convert {\n",
              "      background-color: #E8F0FE;\n",
              "      border: none;\n",
              "      border-radius: 50%;\n",
              "      cursor: pointer;\n",
              "      display: none;\n",
              "      fill: #1967D2;\n",
              "      height: 32px;\n",
              "      padding: 0 0 0 0;\n",
              "      width: 32px;\n",
              "    }\n",
              "\n",
              "    .colab-df-convert:hover {\n",
              "      background-color: #E2EBFA;\n",
              "      box-shadow: 0px 1px 2px rgba(60, 64, 67, 0.3), 0px 1px 3px 1px rgba(60, 64, 67, 0.15);\n",
              "      fill: #174EA6;\n",
              "    }\n",
              "\n",
              "    .colab-df-buttons div {\n",
              "      margin-bottom: 4px;\n",
              "    }\n",
              "\n",
              "    [theme=dark] .colab-df-convert {\n",
              "      background-color: #3B4455;\n",
              "      fill: #D2E3FC;\n",
              "    }\n",
              "\n",
              "    [theme=dark] .colab-df-convert:hover {\n",
              "      background-color: #434B5C;\n",
              "      box-shadow: 0px 1px 3px 1px rgba(0, 0, 0, 0.15);\n",
              "      filter: drop-shadow(0px 1px 2px rgba(0, 0, 0, 0.3));\n",
              "      fill: #FFFFFF;\n",
              "    }\n",
              "  </style>\n",
              "\n",
              "    <script>\n",
              "      const buttonEl =\n",
              "        document.querySelector('#df-888fc872-086f-4737-b463-ead221cb22da button.colab-df-convert');\n",
              "      buttonEl.style.display =\n",
              "        google.colab.kernel.accessAllowed ? 'block' : 'none';\n",
              "\n",
              "      async function convertToInteractive(key) {\n",
              "        const element = document.querySelector('#df-888fc872-086f-4737-b463-ead221cb22da');\n",
              "        const dataTable =\n",
              "          await google.colab.kernel.invokeFunction('convertToInteractive',\n",
              "                                                    [key], {});\n",
              "        if (!dataTable) return;\n",
              "\n",
              "        const docLinkHtml = 'Like what you see? Visit the ' +\n",
              "          '<a target=\"_blank\" href=https://colab.research.google.com/notebooks/data_table.ipynb>data table notebook</a>'\n",
              "          + ' to learn more about interactive tables.';\n",
              "        element.innerHTML = '';\n",
              "        dataTable['output_type'] = 'display_data';\n",
              "        await google.colab.output.renderOutput(dataTable, element);\n",
              "        const docLink = document.createElement('div');\n",
              "        docLink.innerHTML = docLinkHtml;\n",
              "        element.appendChild(docLink);\n",
              "      }\n",
              "    </script>\n",
              "  </div>\n",
              "\n",
              "\n",
              "<div id=\"df-96c76688-995e-42c0-b46f-ebd6c9af3e85\">\n",
              "  <button class=\"colab-df-quickchart\" onclick=\"quickchart('df-96c76688-995e-42c0-b46f-ebd6c9af3e85')\"\n",
              "            title=\"Suggest charts\"\n",
              "            style=\"display:none;\">\n",
              "\n",
              "<svg xmlns=\"http://www.w3.org/2000/svg\" height=\"24px\"viewBox=\"0 0 24 24\"\n",
              "     width=\"24px\">\n",
              "    <g>\n",
              "        <path d=\"M19 3H5c-1.1 0-2 .9-2 2v14c0 1.1.9 2 2 2h14c1.1 0 2-.9 2-2V5c0-1.1-.9-2-2-2zM9 17H7v-7h2v7zm4 0h-2V7h2v10zm4 0h-2v-4h2v4z\"/>\n",
              "    </g>\n",
              "</svg>\n",
              "  </button>\n",
              "\n",
              "<style>\n",
              "  .colab-df-quickchart {\n",
              "      --bg-color: #E8F0FE;\n",
              "      --fill-color: #1967D2;\n",
              "      --hover-bg-color: #E2EBFA;\n",
              "      --hover-fill-color: #174EA6;\n",
              "      --disabled-fill-color: #AAA;\n",
              "      --disabled-bg-color: #DDD;\n",
              "  }\n",
              "\n",
              "  [theme=dark] .colab-df-quickchart {\n",
              "      --bg-color: #3B4455;\n",
              "      --fill-color: #D2E3FC;\n",
              "      --hover-bg-color: #434B5C;\n",
              "      --hover-fill-color: #FFFFFF;\n",
              "      --disabled-bg-color: #3B4455;\n",
              "      --disabled-fill-color: #666;\n",
              "  }\n",
              "\n",
              "  .colab-df-quickchart {\n",
              "    background-color: var(--bg-color);\n",
              "    border: none;\n",
              "    border-radius: 50%;\n",
              "    cursor: pointer;\n",
              "    display: none;\n",
              "    fill: var(--fill-color);\n",
              "    height: 32px;\n",
              "    padding: 0;\n",
              "    width: 32px;\n",
              "  }\n",
              "\n",
              "  .colab-df-quickchart:hover {\n",
              "    background-color: var(--hover-bg-color);\n",
              "    box-shadow: 0 1px 2px rgba(60, 64, 67, 0.3), 0 1px 3px 1px rgba(60, 64, 67, 0.15);\n",
              "    fill: var(--button-hover-fill-color);\n",
              "  }\n",
              "\n",
              "  .colab-df-quickchart-complete:disabled,\n",
              "  .colab-df-quickchart-complete:disabled:hover {\n",
              "    background-color: var(--disabled-bg-color);\n",
              "    fill: var(--disabled-fill-color);\n",
              "    box-shadow: none;\n",
              "  }\n",
              "\n",
              "  .colab-df-spinner {\n",
              "    border: 2px solid var(--fill-color);\n",
              "    border-color: transparent;\n",
              "    border-bottom-color: var(--fill-color);\n",
              "    animation:\n",
              "      spin 1s steps(1) infinite;\n",
              "  }\n",
              "\n",
              "  @keyframes spin {\n",
              "    0% {\n",
              "      border-color: transparent;\n",
              "      border-bottom-color: var(--fill-color);\n",
              "      border-left-color: var(--fill-color);\n",
              "    }\n",
              "    20% {\n",
              "      border-color: transparent;\n",
              "      border-left-color: var(--fill-color);\n",
              "      border-top-color: var(--fill-color);\n",
              "    }\n",
              "    30% {\n",
              "      border-color: transparent;\n",
              "      border-left-color: var(--fill-color);\n",
              "      border-top-color: var(--fill-color);\n",
              "      border-right-color: var(--fill-color);\n",
              "    }\n",
              "    40% {\n",
              "      border-color: transparent;\n",
              "      border-right-color: var(--fill-color);\n",
              "      border-top-color: var(--fill-color);\n",
              "    }\n",
              "    60% {\n",
              "      border-color: transparent;\n",
              "      border-right-color: var(--fill-color);\n",
              "    }\n",
              "    80% {\n",
              "      border-color: transparent;\n",
              "      border-right-color: var(--fill-color);\n",
              "      border-bottom-color: var(--fill-color);\n",
              "    }\n",
              "    90% {\n",
              "      border-color: transparent;\n",
              "      border-bottom-color: var(--fill-color);\n",
              "    }\n",
              "  }\n",
              "</style>\n",
              "\n",
              "  <script>\n",
              "    async function quickchart(key) {\n",
              "      const quickchartButtonEl =\n",
              "        document.querySelector('#' + key + ' button');\n",
              "      quickchartButtonEl.disabled = true;  // To prevent multiple clicks.\n",
              "      quickchartButtonEl.classList.add('colab-df-spinner');\n",
              "      try {\n",
              "        const charts = await google.colab.kernel.invokeFunction(\n",
              "            'suggestCharts', [key], {});\n",
              "      } catch (error) {\n",
              "        console.error('Error during call to suggestCharts:', error);\n",
              "      }\n",
              "      quickchartButtonEl.classList.remove('colab-df-spinner');\n",
              "      quickchartButtonEl.classList.add('colab-df-quickchart-complete');\n",
              "    }\n",
              "    (() => {\n",
              "      let quickchartButtonEl =\n",
              "        document.querySelector('#df-96c76688-995e-42c0-b46f-ebd6c9af3e85 button');\n",
              "      quickchartButtonEl.style.display =\n",
              "        google.colab.kernel.accessAllowed ? 'block' : 'none';\n",
              "    })();\n",
              "  </script>\n",
              "</div>\n",
              "\n",
              "    </div>\n",
              "  </div>\n"
            ],
            "application/vnd.google.colaboratory.intrinsic+json": {
              "type": "dataframe",
              "variable_name": "csv",
              "summary": "{\n  \"name\": \"csv\",\n  \"rows\": 80,\n  \"fields\": [\n    {\n      \"column\": \"branch\",\n      \"properties\": {\n        \"dtype\": \"string\",\n        \"num_unique_values\": 80,\n        \"samples\": [\n          \"Hall\",\n          \"Albany Park\",\n          \"Douglass\"\n        ],\n        \"semantic_type\": \"\",\n        \"description\": \"\"\n      }\n    },\n    {\n      \"column\": \"address\",\n      \"properties\": {\n        \"dtype\": \"number\",\n        \"std\": null,\n        \"min\": null,\n        \"max\": null,\n        \"num_unique_values\": 0,\n        \"samples\": [],\n        \"semantic_type\": \"\",\n        \"description\": \"\"\n      }\n    },\n    {\n      \"column\": \"city\",\n      \"properties\": {\n        \"dtype\": \"number\",\n        \"std\": null,\n        \"min\": null,\n        \"max\": null,\n        \"num_unique_values\": 0,\n        \"samples\": [],\n        \"semantic_type\": \"\",\n        \"description\": \"\"\n      }\n    },\n    {\n      \"column\": \"zip code\",\n      \"properties\": {\n        \"dtype\": \"number\",\n        \"std\": null,\n        \"min\": null,\n        \"max\": null,\n        \"num_unique_values\": 0,\n        \"samples\": [],\n        \"semantic_type\": \"\",\n        \"description\": \"\"\n      }\n    },\n    {\n      \"column\": \"january\",\n      \"properties\": {\n        \"dtype\": \"number\",\n        \"std\": 7405,\n        \"min\": 0,\n        \"max\": 56169,\n        \"num_unique_values\": 75,\n        \"samples\": [],\n        \"semantic_type\": \"\",\n        \"description\": \"\"\n      }\n    },\n    {\n      \"column\": \"february\",\n      \"properties\": {\n        \"dtype\": \"number\",\n        \"std\": 6189,\n        \"min\": 0,\n        \"max\": 47118,\n        \"num_unique_values\": 78,\n        \"samples\": [],\n        \"semantic_type\": \"\",\n        \"description\": \"\"\n      }\n    },\n    {\n      \"column\": \"march\",\n      \"properties\": {\n        \"dtype\": \"number\",\n        \"std\": 7472,\n        \"min\": 0,\n        \"max\": 55824,\n        \"num_unique_values\": 75,\n        \"samples\": [],\n        \"semantic_type\": \"\",\n        \"description\": \"\"\n      }\n    },\n    {\n      \"column\": \"april\",\n      \"properties\": {\n        \"dtype\": \"number\",\n        \"std\": 6942,\n        \"min\": 0,\n        \"max\": 52077,\n        \"num_unique_values\": 76,\n        \"samples\": [],\n        \"semantic_type\": \"\",\n        \"description\": \"\"\n      }\n    },\n    {\n      \"column\": \"may\",\n      \"properties\": {\n        \"dtype\": \"number\",\n        \"std\": 6428,\n        \"min\": 0,\n        \"max\": 48506,\n        \"num_unique_values\": 77,\n        \"samples\": [],\n        \"semantic_type\": \"\",\n        \"description\": \"\"\n      }\n    },\n    {\n      \"column\": \"june\",\n      \"properties\": {\n        \"dtype\": \"number\",\n        \"std\": 7060,\n        \"min\": 0,\n        \"max\": 50642,\n        \"num_unique_values\": 79,\n        \"samples\": [],\n        \"semantic_type\": \"\",\n        \"description\": \"\"\n      }\n    },\n    {\n      \"column\": \"july\",\n      \"properties\": {\n        \"dtype\": \"number\",\n        \"std\": 7404,\n        \"min\": 0,\n        \"max\": 55231,\n        \"num_unique_values\": 78,\n        \"samples\": [],\n        \"semantic_type\": \"\",\n        \"description\": \"\"\n      }\n    },\n    {\n      \"column\": \"august\",\n      \"properties\": {\n        \"dtype\": \"number\",\n        \"std\": 7301,\n        \"min\": 0,\n        \"max\": 53971,\n        \"num_unique_values\": 77,\n        \"samples\": [],\n        \"semantic_type\": \"\",\n        \"description\": \"\"\n      }\n    },\n    {\n      \"column\": \"september\",\n      \"properties\": {\n        \"dtype\": \"number\",\n        \"std\": 6533,\n        \"min\": 0,\n        \"max\": 48259,\n        \"num_unique_values\": 77,\n        \"samples\": [],\n        \"semantic_type\": \"\",\n        \"description\": \"\"\n      }\n    },\n    {\n      \"column\": \"october\",\n      \"properties\": {\n        \"dtype\": \"number\",\n        \"std\": 7090,\n        \"min\": 0,\n        \"max\": 52802,\n        \"num_unique_values\": 78,\n        \"samples\": [],\n        \"semantic_type\": \"\",\n        \"description\": \"\"\n      }\n    },\n    {\n      \"column\": \"november\",\n      \"properties\": {\n        \"dtype\": \"number\",\n        \"std\": 6539,\n        \"min\": 0,\n        \"max\": 47951,\n        \"num_unique_values\": 78,\n        \"samples\": [],\n        \"semantic_type\": \"\",\n        \"description\": \"\"\n      }\n    },\n    {\n      \"column\": \"december\",\n      \"properties\": {\n        \"dtype\": \"number\",\n        \"std\": 6247,\n        \"min\": 0,\n        \"max\": 45763,\n        \"num_unique_values\": 77,\n        \"samples\": [],\n        \"semantic_type\": \"\",\n        \"description\": \"\"\n      }\n    },\n    {\n      \"column\": \"ytd\",\n      \"properties\": {\n        \"dtype\": \"number\",\n        \"std\": 82366,\n        \"min\": 4,\n        \"max\": 614313,\n        \"num_unique_values\": 79,\n        \"samples\": [],\n        \"semantic_type\": \"\",\n        \"description\": \"\"\n      }\n    }\n  ]\n}"
            }
          },
          "metadata": {},
          "execution_count": 46
        }
      ]
    },
    {
      "cell_type": "markdown",
      "source": [
        "**csv.head() zeigt die ersten 5 Zeilen des DataFrames, adresse, city, und zip code haben keine Einträge**"
      ],
      "metadata": {
        "id": "kZ0rbwcKd_OO"
      }
    },
    {
      "cell_type": "code",
      "source": [
        "csv.tail()"
      ],
      "metadata": {
        "colab": {
          "base_uri": "https://localhost:8080/",
          "height": 313
        },
        "id": "bsy8hSlFemlg",
        "outputId": "1fb32765-87ec-46e5-ca23-345f7c5e334f"
      },
      "execution_count": 47,
      "outputs": [
        {
          "output_type": "execute_result",
          "data": {
            "text/plain": [
              "                   branch  address  city  zip code  january  february  march  \\\n",
              "75           West Pullman      NaN   NaN       NaN     2184      1762   1855   \n",
              "76              West Town      NaN   NaN       NaN     5613      4866   6123   \n",
              "77  Whitney M. Young, Jr.      NaN   NaN       NaN        0         0      0   \n",
              "78       Woodson Regional      NaN   NaN       NaN        0      2802   6314   \n",
              "79     Wrightwood-Ashburn      NaN   NaN       NaN     1581      1656   1609   \n",
              "\n",
              "    april   may  june  july  august  september  october  november  december  \\\n",
              "75   2054  1671  1676  1775    1601       1575     1858      1614      1176   \n",
              "76   5634  5109  5598  5598    6018       5228     5955      5057       255   \n",
              "77      0     0     0     0       0          0        0         4         0   \n",
              "78   5892  5110  5108  5609    5335       5902     6386      5421      5041   \n",
              "79   1567  1591  1643  2192    1596       1815     1837      1988      1498   \n",
              "\n",
              "      ytd  \n",
              "75  20801  \n",
              "76  61054  \n",
              "77      4  \n",
              "78  58920  \n",
              "79  20573  "
            ],
            "text/html": [
              "\n",
              "  <div id=\"df-297f1751-1b11-4fb2-85bd-4d93e5ff9e1c\" class=\"colab-df-container\">\n",
              "    <div>\n",
              "<style scoped>\n",
              "    .dataframe tbody tr th:only-of-type {\n",
              "        vertical-align: middle;\n",
              "    }\n",
              "\n",
              "    .dataframe tbody tr th {\n",
              "        vertical-align: top;\n",
              "    }\n",
              "\n",
              "    .dataframe thead th {\n",
              "        text-align: right;\n",
              "    }\n",
              "</style>\n",
              "<table border=\"1\" class=\"dataframe\">\n",
              "  <thead>\n",
              "    <tr style=\"text-align: right;\">\n",
              "      <th></th>\n",
              "      <th>branch</th>\n",
              "      <th>address</th>\n",
              "      <th>city</th>\n",
              "      <th>zip code</th>\n",
              "      <th>january</th>\n",
              "      <th>february</th>\n",
              "      <th>march</th>\n",
              "      <th>april</th>\n",
              "      <th>may</th>\n",
              "      <th>june</th>\n",
              "      <th>july</th>\n",
              "      <th>august</th>\n",
              "      <th>september</th>\n",
              "      <th>october</th>\n",
              "      <th>november</th>\n",
              "      <th>december</th>\n",
              "      <th>ytd</th>\n",
              "    </tr>\n",
              "  </thead>\n",
              "  <tbody>\n",
              "    <tr>\n",
              "      <th>75</th>\n",
              "      <td>West Pullman</td>\n",
              "      <td>NaN</td>\n",
              "      <td>NaN</td>\n",
              "      <td>NaN</td>\n",
              "      <td>2184</td>\n",
              "      <td>1762</td>\n",
              "      <td>1855</td>\n",
              "      <td>2054</td>\n",
              "      <td>1671</td>\n",
              "      <td>1676</td>\n",
              "      <td>1775</td>\n",
              "      <td>1601</td>\n",
              "      <td>1575</td>\n",
              "      <td>1858</td>\n",
              "      <td>1614</td>\n",
              "      <td>1176</td>\n",
              "      <td>20801</td>\n",
              "    </tr>\n",
              "    <tr>\n",
              "      <th>76</th>\n",
              "      <td>West Town</td>\n",
              "      <td>NaN</td>\n",
              "      <td>NaN</td>\n",
              "      <td>NaN</td>\n",
              "      <td>5613</td>\n",
              "      <td>4866</td>\n",
              "      <td>6123</td>\n",
              "      <td>5634</td>\n",
              "      <td>5109</td>\n",
              "      <td>5598</td>\n",
              "      <td>5598</td>\n",
              "      <td>6018</td>\n",
              "      <td>5228</td>\n",
              "      <td>5955</td>\n",
              "      <td>5057</td>\n",
              "      <td>255</td>\n",
              "      <td>61054</td>\n",
              "    </tr>\n",
              "    <tr>\n",
              "      <th>77</th>\n",
              "      <td>Whitney M. Young, Jr.</td>\n",
              "      <td>NaN</td>\n",
              "      <td>NaN</td>\n",
              "      <td>NaN</td>\n",
              "      <td>0</td>\n",
              "      <td>0</td>\n",
              "      <td>0</td>\n",
              "      <td>0</td>\n",
              "      <td>0</td>\n",
              "      <td>0</td>\n",
              "      <td>0</td>\n",
              "      <td>0</td>\n",
              "      <td>0</td>\n",
              "      <td>0</td>\n",
              "      <td>4</td>\n",
              "      <td>0</td>\n",
              "      <td>4</td>\n",
              "    </tr>\n",
              "    <tr>\n",
              "      <th>78</th>\n",
              "      <td>Woodson Regional</td>\n",
              "      <td>NaN</td>\n",
              "      <td>NaN</td>\n",
              "      <td>NaN</td>\n",
              "      <td>0</td>\n",
              "      <td>2802</td>\n",
              "      <td>6314</td>\n",
              "      <td>5892</td>\n",
              "      <td>5110</td>\n",
              "      <td>5108</td>\n",
              "      <td>5609</td>\n",
              "      <td>5335</td>\n",
              "      <td>5902</td>\n",
              "      <td>6386</td>\n",
              "      <td>5421</td>\n",
              "      <td>5041</td>\n",
              "      <td>58920</td>\n",
              "    </tr>\n",
              "    <tr>\n",
              "      <th>79</th>\n",
              "      <td>Wrightwood-Ashburn</td>\n",
              "      <td>NaN</td>\n",
              "      <td>NaN</td>\n",
              "      <td>NaN</td>\n",
              "      <td>1581</td>\n",
              "      <td>1656</td>\n",
              "      <td>1609</td>\n",
              "      <td>1567</td>\n",
              "      <td>1591</td>\n",
              "      <td>1643</td>\n",
              "      <td>2192</td>\n",
              "      <td>1596</td>\n",
              "      <td>1815</td>\n",
              "      <td>1837</td>\n",
              "      <td>1988</td>\n",
              "      <td>1498</td>\n",
              "      <td>20573</td>\n",
              "    </tr>\n",
              "  </tbody>\n",
              "</table>\n",
              "</div>\n",
              "    <div class=\"colab-df-buttons\">\n",
              "\n",
              "  <div class=\"colab-df-container\">\n",
              "    <button class=\"colab-df-convert\" onclick=\"convertToInteractive('df-297f1751-1b11-4fb2-85bd-4d93e5ff9e1c')\"\n",
              "            title=\"Convert this dataframe to an interactive table.\"\n",
              "            style=\"display:none;\">\n",
              "\n",
              "  <svg xmlns=\"http://www.w3.org/2000/svg\" height=\"24px\" viewBox=\"0 -960 960 960\">\n",
              "    <path d=\"M120-120v-720h720v720H120Zm60-500h600v-160H180v160Zm220 220h160v-160H400v160Zm0 220h160v-160H400v160ZM180-400h160v-160H180v160Zm440 0h160v-160H620v160ZM180-180h160v-160H180v160Zm440 0h160v-160H620v160Z\"/>\n",
              "  </svg>\n",
              "    </button>\n",
              "\n",
              "  <style>\n",
              "    .colab-df-container {\n",
              "      display:flex;\n",
              "      gap: 12px;\n",
              "    }\n",
              "\n",
              "    .colab-df-convert {\n",
              "      background-color: #E8F0FE;\n",
              "      border: none;\n",
              "      border-radius: 50%;\n",
              "      cursor: pointer;\n",
              "      display: none;\n",
              "      fill: #1967D2;\n",
              "      height: 32px;\n",
              "      padding: 0 0 0 0;\n",
              "      width: 32px;\n",
              "    }\n",
              "\n",
              "    .colab-df-convert:hover {\n",
              "      background-color: #E2EBFA;\n",
              "      box-shadow: 0px 1px 2px rgba(60, 64, 67, 0.3), 0px 1px 3px 1px rgba(60, 64, 67, 0.15);\n",
              "      fill: #174EA6;\n",
              "    }\n",
              "\n",
              "    .colab-df-buttons div {\n",
              "      margin-bottom: 4px;\n",
              "    }\n",
              "\n",
              "    [theme=dark] .colab-df-convert {\n",
              "      background-color: #3B4455;\n",
              "      fill: #D2E3FC;\n",
              "    }\n",
              "\n",
              "    [theme=dark] .colab-df-convert:hover {\n",
              "      background-color: #434B5C;\n",
              "      box-shadow: 0px 1px 3px 1px rgba(0, 0, 0, 0.15);\n",
              "      filter: drop-shadow(0px 1px 2px rgba(0, 0, 0, 0.3));\n",
              "      fill: #FFFFFF;\n",
              "    }\n",
              "  </style>\n",
              "\n",
              "    <script>\n",
              "      const buttonEl =\n",
              "        document.querySelector('#df-297f1751-1b11-4fb2-85bd-4d93e5ff9e1c button.colab-df-convert');\n",
              "      buttonEl.style.display =\n",
              "        google.colab.kernel.accessAllowed ? 'block' : 'none';\n",
              "\n",
              "      async function convertToInteractive(key) {\n",
              "        const element = document.querySelector('#df-297f1751-1b11-4fb2-85bd-4d93e5ff9e1c');\n",
              "        const dataTable =\n",
              "          await google.colab.kernel.invokeFunction('convertToInteractive',\n",
              "                                                    [key], {});\n",
              "        if (!dataTable) return;\n",
              "\n",
              "        const docLinkHtml = 'Like what you see? Visit the ' +\n",
              "          '<a target=\"_blank\" href=https://colab.research.google.com/notebooks/data_table.ipynb>data table notebook</a>'\n",
              "          + ' to learn more about interactive tables.';\n",
              "        element.innerHTML = '';\n",
              "        dataTable['output_type'] = 'display_data';\n",
              "        await google.colab.output.renderOutput(dataTable, element);\n",
              "        const docLink = document.createElement('div');\n",
              "        docLink.innerHTML = docLinkHtml;\n",
              "        element.appendChild(docLink);\n",
              "      }\n",
              "    </script>\n",
              "  </div>\n",
              "\n",
              "\n",
              "<div id=\"df-3510166e-90f9-4bf9-b29d-a7a16f4325d0\">\n",
              "  <button class=\"colab-df-quickchart\" onclick=\"quickchart('df-3510166e-90f9-4bf9-b29d-a7a16f4325d0')\"\n",
              "            title=\"Suggest charts\"\n",
              "            style=\"display:none;\">\n",
              "\n",
              "<svg xmlns=\"http://www.w3.org/2000/svg\" height=\"24px\"viewBox=\"0 0 24 24\"\n",
              "     width=\"24px\">\n",
              "    <g>\n",
              "        <path d=\"M19 3H5c-1.1 0-2 .9-2 2v14c0 1.1.9 2 2 2h14c1.1 0 2-.9 2-2V5c0-1.1-.9-2-2-2zM9 17H7v-7h2v7zm4 0h-2V7h2v10zm4 0h-2v-4h2v4z\"/>\n",
              "    </g>\n",
              "</svg>\n",
              "  </button>\n",
              "\n",
              "<style>\n",
              "  .colab-df-quickchart {\n",
              "      --bg-color: #E8F0FE;\n",
              "      --fill-color: #1967D2;\n",
              "      --hover-bg-color: #E2EBFA;\n",
              "      --hover-fill-color: #174EA6;\n",
              "      --disabled-fill-color: #AAA;\n",
              "      --disabled-bg-color: #DDD;\n",
              "  }\n",
              "\n",
              "  [theme=dark] .colab-df-quickchart {\n",
              "      --bg-color: #3B4455;\n",
              "      --fill-color: #D2E3FC;\n",
              "      --hover-bg-color: #434B5C;\n",
              "      --hover-fill-color: #FFFFFF;\n",
              "      --disabled-bg-color: #3B4455;\n",
              "      --disabled-fill-color: #666;\n",
              "  }\n",
              "\n",
              "  .colab-df-quickchart {\n",
              "    background-color: var(--bg-color);\n",
              "    border: none;\n",
              "    border-radius: 50%;\n",
              "    cursor: pointer;\n",
              "    display: none;\n",
              "    fill: var(--fill-color);\n",
              "    height: 32px;\n",
              "    padding: 0;\n",
              "    width: 32px;\n",
              "  }\n",
              "\n",
              "  .colab-df-quickchart:hover {\n",
              "    background-color: var(--hover-bg-color);\n",
              "    box-shadow: 0 1px 2px rgba(60, 64, 67, 0.3), 0 1px 3px 1px rgba(60, 64, 67, 0.15);\n",
              "    fill: var(--button-hover-fill-color);\n",
              "  }\n",
              "\n",
              "  .colab-df-quickchart-complete:disabled,\n",
              "  .colab-df-quickchart-complete:disabled:hover {\n",
              "    background-color: var(--disabled-bg-color);\n",
              "    fill: var(--disabled-fill-color);\n",
              "    box-shadow: none;\n",
              "  }\n",
              "\n",
              "  .colab-df-spinner {\n",
              "    border: 2px solid var(--fill-color);\n",
              "    border-color: transparent;\n",
              "    border-bottom-color: var(--fill-color);\n",
              "    animation:\n",
              "      spin 1s steps(1) infinite;\n",
              "  }\n",
              "\n",
              "  @keyframes spin {\n",
              "    0% {\n",
              "      border-color: transparent;\n",
              "      border-bottom-color: var(--fill-color);\n",
              "      border-left-color: var(--fill-color);\n",
              "    }\n",
              "    20% {\n",
              "      border-color: transparent;\n",
              "      border-left-color: var(--fill-color);\n",
              "      border-top-color: var(--fill-color);\n",
              "    }\n",
              "    30% {\n",
              "      border-color: transparent;\n",
              "      border-left-color: var(--fill-color);\n",
              "      border-top-color: var(--fill-color);\n",
              "      border-right-color: var(--fill-color);\n",
              "    }\n",
              "    40% {\n",
              "      border-color: transparent;\n",
              "      border-right-color: var(--fill-color);\n",
              "      border-top-color: var(--fill-color);\n",
              "    }\n",
              "    60% {\n",
              "      border-color: transparent;\n",
              "      border-right-color: var(--fill-color);\n",
              "    }\n",
              "    80% {\n",
              "      border-color: transparent;\n",
              "      border-right-color: var(--fill-color);\n",
              "      border-bottom-color: var(--fill-color);\n",
              "    }\n",
              "    90% {\n",
              "      border-color: transparent;\n",
              "      border-bottom-color: var(--fill-color);\n",
              "    }\n",
              "  }\n",
              "</style>\n",
              "\n",
              "  <script>\n",
              "    async function quickchart(key) {\n",
              "      const quickchartButtonEl =\n",
              "        document.querySelector('#' + key + ' button');\n",
              "      quickchartButtonEl.disabled = true;  // To prevent multiple clicks.\n",
              "      quickchartButtonEl.classList.add('colab-df-spinner');\n",
              "      try {\n",
              "        const charts = await google.colab.kernel.invokeFunction(\n",
              "            'suggestCharts', [key], {});\n",
              "      } catch (error) {\n",
              "        console.error('Error during call to suggestCharts:', error);\n",
              "      }\n",
              "      quickchartButtonEl.classList.remove('colab-df-spinner');\n",
              "      quickchartButtonEl.classList.add('colab-df-quickchart-complete');\n",
              "    }\n",
              "    (() => {\n",
              "      let quickchartButtonEl =\n",
              "        document.querySelector('#df-3510166e-90f9-4bf9-b29d-a7a16f4325d0 button');\n",
              "      quickchartButtonEl.style.display =\n",
              "        google.colab.kernel.accessAllowed ? 'block' : 'none';\n",
              "    })();\n",
              "  </script>\n",
              "</div>\n",
              "\n",
              "    </div>\n",
              "  </div>\n"
            ],
            "application/vnd.google.colaboratory.intrinsic+json": {
              "type": "dataframe",
              "summary": "{\n  \"name\": \"csv\",\n  \"rows\": 5,\n  \"fields\": [\n    {\n      \"column\": \"branch\",\n      \"properties\": {\n        \"dtype\": \"string\",\n        \"num_unique_values\": 5,\n        \"samples\": [\n          \"West Town\",\n          \"Wrightwood-Ashburn\",\n          \"Whitney M. Young, Jr.\"\n        ],\n        \"semantic_type\": \"\",\n        \"description\": \"\"\n      }\n    },\n    {\n      \"column\": \"address\",\n      \"properties\": {\n        \"dtype\": \"number\",\n        \"std\": null,\n        \"min\": null,\n        \"max\": null,\n        \"num_unique_values\": 0,\n        \"samples\": [],\n        \"semantic_type\": \"\",\n        \"description\": \"\"\n      }\n    },\n    {\n      \"column\": \"city\",\n      \"properties\": {\n        \"dtype\": \"number\",\n        \"std\": null,\n        \"min\": null,\n        \"max\": null,\n        \"num_unique_values\": 0,\n        \"samples\": [],\n        \"semantic_type\": \"\",\n        \"description\": \"\"\n      }\n    },\n    {\n      \"column\": \"zip code\",\n      \"properties\": {\n        \"dtype\": \"number\",\n        \"std\": null,\n        \"min\": null,\n        \"max\": null,\n        \"num_unique_values\": 0,\n        \"samples\": [],\n        \"semantic_type\": \"\",\n        \"description\": \"\"\n      }\n    },\n    {\n      \"column\": \"january\",\n      \"properties\": {\n        \"dtype\": \"number\",\n        \"std\": 2301,\n        \"min\": 0,\n        \"max\": 5613,\n        \"num_unique_values\": 4,\n        \"samples\": [],\n        \"semantic_type\": \"\",\n        \"description\": \"\"\n      }\n    },\n    {\n      \"column\": \"february\",\n      \"properties\": {\n        \"dtype\": \"number\",\n        \"std\": 1788,\n        \"min\": 0,\n        \"max\": 4866,\n        \"num_unique_values\": 5,\n        \"samples\": [],\n        \"semantic_type\": \"\",\n        \"description\": \"\"\n      }\n    },\n    {\n      \"column\": \"march\",\n      \"properties\": {\n        \"dtype\": \"number\",\n        \"std\": 2864,\n        \"min\": 0,\n        \"max\": 6314,\n        \"num_unique_values\": 5,\n        \"samples\": [],\n        \"semantic_type\": \"\",\n        \"description\": \"\"\n      }\n    },\n    {\n      \"column\": \"april\",\n      \"properties\": {\n        \"dtype\": \"number\",\n        \"std\": 2609,\n        \"min\": 0,\n        \"max\": 5892,\n        \"num_unique_values\": 5,\n        \"samples\": [],\n        \"semantic_type\": \"\",\n        \"description\": \"\"\n      }\n    },\n    {\n      \"column\": \"may\",\n      \"properties\": {\n        \"dtype\": \"number\",\n        \"std\": 2301,\n        \"min\": 0,\n        \"max\": 5110,\n        \"num_unique_values\": 5,\n        \"samples\": [],\n        \"semantic_type\": \"\",\n        \"description\": \"\"\n      }\n    },\n    {\n      \"column\": \"june\",\n      \"properties\": {\n        \"dtype\": \"number\",\n        \"std\": 2428,\n        \"min\": 0,\n        \"max\": 5598,\n        \"num_unique_values\": 5,\n        \"samples\": [],\n        \"semantic_type\": \"\",\n        \"description\": \"\"\n      }\n    },\n    {\n      \"column\": \"july\",\n      \"properties\": {\n        \"dtype\": \"number\",\n        \"std\": 2485,\n        \"min\": 0,\n        \"max\": 5609,\n        \"num_unique_values\": 5,\n        \"samples\": [],\n        \"semantic_type\": \"\",\n        \"description\": \"\"\n      }\n    },\n    {\n      \"column\": \"august\",\n      \"properties\": {\n        \"dtype\": \"number\",\n        \"std\": 2619,\n        \"min\": 0,\n        \"max\": 6018,\n        \"num_unique_values\": 5,\n        \"samples\": [],\n        \"semantic_type\": \"\",\n        \"description\": \"\"\n      }\n    },\n    {\n      \"column\": \"september\",\n      \"properties\": {\n        \"dtype\": \"number\",\n        \"std\": 2538,\n        \"min\": 0,\n        \"max\": 5902,\n        \"num_unique_values\": 5,\n        \"samples\": [],\n        \"semantic_type\": \"\",\n        \"description\": \"\"\n      }\n    },\n    {\n      \"column\": \"october\",\n      \"properties\": {\n        \"dtype\": \"number\",\n        \"std\": 2812,\n        \"min\": 0,\n        \"max\": 6386,\n        \"num_unique_values\": 5,\n        \"samples\": [],\n        \"semantic_type\": \"\",\n        \"description\": \"\"\n      }\n    },\n    {\n      \"column\": \"november\",\n      \"properties\": {\n        \"dtype\": \"number\",\n        \"std\": 2336,\n        \"min\": 4,\n        \"max\": 5421,\n        \"num_unique_values\": 5,\n        \"samples\": [],\n        \"semantic_type\": \"\",\n        \"description\": \"\"\n      }\n    },\n    {\n      \"column\": \"december\",\n      \"properties\": {\n        \"dtype\": \"number\",\n        \"std\": 2024,\n        \"min\": 0,\n        \"max\": 5041,\n        \"num_unique_values\": 5,\n        \"samples\": [],\n        \"semantic_type\": \"\",\n        \"description\": \"\"\n      }\n    },\n    {\n      \"column\": \"ytd\",\n      \"properties\": {\n        \"dtype\": \"number\",\n        \"std\": 26684,\n        \"min\": 4,\n        \"max\": 61054,\n        \"num_unique_values\": 5,\n        \"samples\": [],\n        \"semantic_type\": \"\",\n        \"description\": \"\"\n      }\n    }\n  ]\n}"
            }
          },
          "metadata": {},
          "execution_count": 47
        }
      ]
    },
    {
      "cell_type": "markdown",
      "source": [
        "**csv.tail() zeigt die letzten 5 Zeilen des DataFrames, wobei die Filialnamen in der Spalte branch enthalten sind, numerische Spalten wie january bis ytd vollständige Werte enthalten**"
      ],
      "metadata": {
        "id": "8GjNy8hKfJ0m"
      }
    },
    {
      "cell_type": "code",
      "source": [
        "csv.describe()"
      ],
      "metadata": {
        "colab": {
          "base_uri": "https://localhost:8080/",
          "height": 338
        },
        "id": "NA1yq59RfUew",
        "outputId": "9517a4fc-f7ba-47cd-9f0f-3c520e57ab55"
      },
      "execution_count": 48,
      "outputs": [
        {
          "output_type": "execute_result",
          "data": {
            "text/plain": [
              "       address  city  zip code       january      february         march  \\\n",
              "count      0.0   0.0       0.0     80.000000     80.000000     80.000000   \n",
              "mean       NaN   NaN       NaN   5380.825000   4692.975000   5710.887500   \n",
              "std        NaN   NaN       NaN   7405.218604   6189.981207   7472.086974   \n",
              "min        NaN   NaN       NaN      0.000000      0.000000      0.000000   \n",
              "25%        NaN   NaN       NaN   1623.750000   1518.750000   1742.250000   \n",
              "50%        NaN   NaN       NaN   3982.000000   3343.500000   4249.500000   \n",
              "75%        NaN   NaN       NaN   6731.250000   6086.250000   7329.500000   \n",
              "max        NaN   NaN       NaN  56169.000000  47118.000000  55824.000000   \n",
              "\n",
              "             april           may          june          july        august  \\\n",
              "count     80.00000     80.000000     80.000000     80.000000     80.000000   \n",
              "mean    5189.01250   4789.425000   5452.662500   5706.675000   5584.137500   \n",
              "std     6942.87511   6428.555931   7060.099791   7404.099299   7301.306878   \n",
              "min        0.00000      0.000000      0.000000      0.000000      0.000000   \n",
              "25%     1774.75000   1623.750000   1659.500000   1838.750000   1606.250000   \n",
              "50%     3994.50000   3546.500000   3836.000000   3854.500000   4000.000000   \n",
              "75%     6227.25000   5999.000000   7190.000000   6969.500000   7157.500000   \n",
              "max    52077.00000  48506.000000  50642.000000  55231.000000  53971.000000   \n",
              "\n",
              "          september       october      november      december            ytd  \n",
              "count     80.000000     80.000000     80.000000     80.000000      80.000000  \n",
              "mean    4981.675000   5497.275000   4948.362500   4431.575000   62365.487500  \n",
              "std     6533.744953   7090.644344   6539.004148   6247.827543   82366.164781  \n",
              "min        0.000000      0.000000      0.000000      0.000000       4.000000  \n",
              "25%     1618.500000   1606.000000   1577.500000   1174.000000   20511.750000  \n",
              "50%     3365.000000   3740.000000   3105.500000   2753.000000   47096.500000  \n",
              "75%     6103.750000   7105.750000   6402.250000   5176.000000   79742.000000  \n",
              "max    48259.000000  52802.000000  47951.000000  45763.000000  614313.000000  "
            ],
            "text/html": [
              "\n",
              "  <div id=\"df-673b578f-1a14-40e4-88ce-bf2f98842b66\" class=\"colab-df-container\">\n",
              "    <div>\n",
              "<style scoped>\n",
              "    .dataframe tbody tr th:only-of-type {\n",
              "        vertical-align: middle;\n",
              "    }\n",
              "\n",
              "    .dataframe tbody tr th {\n",
              "        vertical-align: top;\n",
              "    }\n",
              "\n",
              "    .dataframe thead th {\n",
              "        text-align: right;\n",
              "    }\n",
              "</style>\n",
              "<table border=\"1\" class=\"dataframe\">\n",
              "  <thead>\n",
              "    <tr style=\"text-align: right;\">\n",
              "      <th></th>\n",
              "      <th>address</th>\n",
              "      <th>city</th>\n",
              "      <th>zip code</th>\n",
              "      <th>january</th>\n",
              "      <th>february</th>\n",
              "      <th>march</th>\n",
              "      <th>april</th>\n",
              "      <th>may</th>\n",
              "      <th>june</th>\n",
              "      <th>july</th>\n",
              "      <th>august</th>\n",
              "      <th>september</th>\n",
              "      <th>october</th>\n",
              "      <th>november</th>\n",
              "      <th>december</th>\n",
              "      <th>ytd</th>\n",
              "    </tr>\n",
              "  </thead>\n",
              "  <tbody>\n",
              "    <tr>\n",
              "      <th>count</th>\n",
              "      <td>0.0</td>\n",
              "      <td>0.0</td>\n",
              "      <td>0.0</td>\n",
              "      <td>80.000000</td>\n",
              "      <td>80.000000</td>\n",
              "      <td>80.000000</td>\n",
              "      <td>80.00000</td>\n",
              "      <td>80.000000</td>\n",
              "      <td>80.000000</td>\n",
              "      <td>80.000000</td>\n",
              "      <td>80.000000</td>\n",
              "      <td>80.000000</td>\n",
              "      <td>80.000000</td>\n",
              "      <td>80.000000</td>\n",
              "      <td>80.000000</td>\n",
              "      <td>80.000000</td>\n",
              "    </tr>\n",
              "    <tr>\n",
              "      <th>mean</th>\n",
              "      <td>NaN</td>\n",
              "      <td>NaN</td>\n",
              "      <td>NaN</td>\n",
              "      <td>5380.825000</td>\n",
              "      <td>4692.975000</td>\n",
              "      <td>5710.887500</td>\n",
              "      <td>5189.01250</td>\n",
              "      <td>4789.425000</td>\n",
              "      <td>5452.662500</td>\n",
              "      <td>5706.675000</td>\n",
              "      <td>5584.137500</td>\n",
              "      <td>4981.675000</td>\n",
              "      <td>5497.275000</td>\n",
              "      <td>4948.362500</td>\n",
              "      <td>4431.575000</td>\n",
              "      <td>62365.487500</td>\n",
              "    </tr>\n",
              "    <tr>\n",
              "      <th>std</th>\n",
              "      <td>NaN</td>\n",
              "      <td>NaN</td>\n",
              "      <td>NaN</td>\n",
              "      <td>7405.218604</td>\n",
              "      <td>6189.981207</td>\n",
              "      <td>7472.086974</td>\n",
              "      <td>6942.87511</td>\n",
              "      <td>6428.555931</td>\n",
              "      <td>7060.099791</td>\n",
              "      <td>7404.099299</td>\n",
              "      <td>7301.306878</td>\n",
              "      <td>6533.744953</td>\n",
              "      <td>7090.644344</td>\n",
              "      <td>6539.004148</td>\n",
              "      <td>6247.827543</td>\n",
              "      <td>82366.164781</td>\n",
              "    </tr>\n",
              "    <tr>\n",
              "      <th>min</th>\n",
              "      <td>NaN</td>\n",
              "      <td>NaN</td>\n",
              "      <td>NaN</td>\n",
              "      <td>0.000000</td>\n",
              "      <td>0.000000</td>\n",
              "      <td>0.000000</td>\n",
              "      <td>0.00000</td>\n",
              "      <td>0.000000</td>\n",
              "      <td>0.000000</td>\n",
              "      <td>0.000000</td>\n",
              "      <td>0.000000</td>\n",
              "      <td>0.000000</td>\n",
              "      <td>0.000000</td>\n",
              "      <td>0.000000</td>\n",
              "      <td>0.000000</td>\n",
              "      <td>4.000000</td>\n",
              "    </tr>\n",
              "    <tr>\n",
              "      <th>25%</th>\n",
              "      <td>NaN</td>\n",
              "      <td>NaN</td>\n",
              "      <td>NaN</td>\n",
              "      <td>1623.750000</td>\n",
              "      <td>1518.750000</td>\n",
              "      <td>1742.250000</td>\n",
              "      <td>1774.75000</td>\n",
              "      <td>1623.750000</td>\n",
              "      <td>1659.500000</td>\n",
              "      <td>1838.750000</td>\n",
              "      <td>1606.250000</td>\n",
              "      <td>1618.500000</td>\n",
              "      <td>1606.000000</td>\n",
              "      <td>1577.500000</td>\n",
              "      <td>1174.000000</td>\n",
              "      <td>20511.750000</td>\n",
              "    </tr>\n",
              "    <tr>\n",
              "      <th>50%</th>\n",
              "      <td>NaN</td>\n",
              "      <td>NaN</td>\n",
              "      <td>NaN</td>\n",
              "      <td>3982.000000</td>\n",
              "      <td>3343.500000</td>\n",
              "      <td>4249.500000</td>\n",
              "      <td>3994.50000</td>\n",
              "      <td>3546.500000</td>\n",
              "      <td>3836.000000</td>\n",
              "      <td>3854.500000</td>\n",
              "      <td>4000.000000</td>\n",
              "      <td>3365.000000</td>\n",
              "      <td>3740.000000</td>\n",
              "      <td>3105.500000</td>\n",
              "      <td>2753.000000</td>\n",
              "      <td>47096.500000</td>\n",
              "    </tr>\n",
              "    <tr>\n",
              "      <th>75%</th>\n",
              "      <td>NaN</td>\n",
              "      <td>NaN</td>\n",
              "      <td>NaN</td>\n",
              "      <td>6731.250000</td>\n",
              "      <td>6086.250000</td>\n",
              "      <td>7329.500000</td>\n",
              "      <td>6227.25000</td>\n",
              "      <td>5999.000000</td>\n",
              "      <td>7190.000000</td>\n",
              "      <td>6969.500000</td>\n",
              "      <td>7157.500000</td>\n",
              "      <td>6103.750000</td>\n",
              "      <td>7105.750000</td>\n",
              "      <td>6402.250000</td>\n",
              "      <td>5176.000000</td>\n",
              "      <td>79742.000000</td>\n",
              "    </tr>\n",
              "    <tr>\n",
              "      <th>max</th>\n",
              "      <td>NaN</td>\n",
              "      <td>NaN</td>\n",
              "      <td>NaN</td>\n",
              "      <td>56169.000000</td>\n",
              "      <td>47118.000000</td>\n",
              "      <td>55824.000000</td>\n",
              "      <td>52077.00000</td>\n",
              "      <td>48506.000000</td>\n",
              "      <td>50642.000000</td>\n",
              "      <td>55231.000000</td>\n",
              "      <td>53971.000000</td>\n",
              "      <td>48259.000000</td>\n",
              "      <td>52802.000000</td>\n",
              "      <td>47951.000000</td>\n",
              "      <td>45763.000000</td>\n",
              "      <td>614313.000000</td>\n",
              "    </tr>\n",
              "  </tbody>\n",
              "</table>\n",
              "</div>\n",
              "    <div class=\"colab-df-buttons\">\n",
              "\n",
              "  <div class=\"colab-df-container\">\n",
              "    <button class=\"colab-df-convert\" onclick=\"convertToInteractive('df-673b578f-1a14-40e4-88ce-bf2f98842b66')\"\n",
              "            title=\"Convert this dataframe to an interactive table.\"\n",
              "            style=\"display:none;\">\n",
              "\n",
              "  <svg xmlns=\"http://www.w3.org/2000/svg\" height=\"24px\" viewBox=\"0 -960 960 960\">\n",
              "    <path d=\"M120-120v-720h720v720H120Zm60-500h600v-160H180v160Zm220 220h160v-160H400v160Zm0 220h160v-160H400v160ZM180-400h160v-160H180v160Zm440 0h160v-160H620v160ZM180-180h160v-160H180v160Zm440 0h160v-160H620v160Z\"/>\n",
              "  </svg>\n",
              "    </button>\n",
              "\n",
              "  <style>\n",
              "    .colab-df-container {\n",
              "      display:flex;\n",
              "      gap: 12px;\n",
              "    }\n",
              "\n",
              "    .colab-df-convert {\n",
              "      background-color: #E8F0FE;\n",
              "      border: none;\n",
              "      border-radius: 50%;\n",
              "      cursor: pointer;\n",
              "      display: none;\n",
              "      fill: #1967D2;\n",
              "      height: 32px;\n",
              "      padding: 0 0 0 0;\n",
              "      width: 32px;\n",
              "    }\n",
              "\n",
              "    .colab-df-convert:hover {\n",
              "      background-color: #E2EBFA;\n",
              "      box-shadow: 0px 1px 2px rgba(60, 64, 67, 0.3), 0px 1px 3px 1px rgba(60, 64, 67, 0.15);\n",
              "      fill: #174EA6;\n",
              "    }\n",
              "\n",
              "    .colab-df-buttons div {\n",
              "      margin-bottom: 4px;\n",
              "    }\n",
              "\n",
              "    [theme=dark] .colab-df-convert {\n",
              "      background-color: #3B4455;\n",
              "      fill: #D2E3FC;\n",
              "    }\n",
              "\n",
              "    [theme=dark] .colab-df-convert:hover {\n",
              "      background-color: #434B5C;\n",
              "      box-shadow: 0px 1px 3px 1px rgba(0, 0, 0, 0.15);\n",
              "      filter: drop-shadow(0px 1px 2px rgba(0, 0, 0, 0.3));\n",
              "      fill: #FFFFFF;\n",
              "    }\n",
              "  </style>\n",
              "\n",
              "    <script>\n",
              "      const buttonEl =\n",
              "        document.querySelector('#df-673b578f-1a14-40e4-88ce-bf2f98842b66 button.colab-df-convert');\n",
              "      buttonEl.style.display =\n",
              "        google.colab.kernel.accessAllowed ? 'block' : 'none';\n",
              "\n",
              "      async function convertToInteractive(key) {\n",
              "        const element = document.querySelector('#df-673b578f-1a14-40e4-88ce-bf2f98842b66');\n",
              "        const dataTable =\n",
              "          await google.colab.kernel.invokeFunction('convertToInteractive',\n",
              "                                                    [key], {});\n",
              "        if (!dataTable) return;\n",
              "\n",
              "        const docLinkHtml = 'Like what you see? Visit the ' +\n",
              "          '<a target=\"_blank\" href=https://colab.research.google.com/notebooks/data_table.ipynb>data table notebook</a>'\n",
              "          + ' to learn more about interactive tables.';\n",
              "        element.innerHTML = '';\n",
              "        dataTable['output_type'] = 'display_data';\n",
              "        await google.colab.output.renderOutput(dataTable, element);\n",
              "        const docLink = document.createElement('div');\n",
              "        docLink.innerHTML = docLinkHtml;\n",
              "        element.appendChild(docLink);\n",
              "      }\n",
              "    </script>\n",
              "  </div>\n",
              "\n",
              "\n",
              "<div id=\"df-8d2114e4-857a-4b21-92df-a42810c7f7fe\">\n",
              "  <button class=\"colab-df-quickchart\" onclick=\"quickchart('df-8d2114e4-857a-4b21-92df-a42810c7f7fe')\"\n",
              "            title=\"Suggest charts\"\n",
              "            style=\"display:none;\">\n",
              "\n",
              "<svg xmlns=\"http://www.w3.org/2000/svg\" height=\"24px\"viewBox=\"0 0 24 24\"\n",
              "     width=\"24px\">\n",
              "    <g>\n",
              "        <path d=\"M19 3H5c-1.1 0-2 .9-2 2v14c0 1.1.9 2 2 2h14c1.1 0 2-.9 2-2V5c0-1.1-.9-2-2-2zM9 17H7v-7h2v7zm4 0h-2V7h2v10zm4 0h-2v-4h2v4z\"/>\n",
              "    </g>\n",
              "</svg>\n",
              "  </button>\n",
              "\n",
              "<style>\n",
              "  .colab-df-quickchart {\n",
              "      --bg-color: #E8F0FE;\n",
              "      --fill-color: #1967D2;\n",
              "      --hover-bg-color: #E2EBFA;\n",
              "      --hover-fill-color: #174EA6;\n",
              "      --disabled-fill-color: #AAA;\n",
              "      --disabled-bg-color: #DDD;\n",
              "  }\n",
              "\n",
              "  [theme=dark] .colab-df-quickchart {\n",
              "      --bg-color: #3B4455;\n",
              "      --fill-color: #D2E3FC;\n",
              "      --hover-bg-color: #434B5C;\n",
              "      --hover-fill-color: #FFFFFF;\n",
              "      --disabled-bg-color: #3B4455;\n",
              "      --disabled-fill-color: #666;\n",
              "  }\n",
              "\n",
              "  .colab-df-quickchart {\n",
              "    background-color: var(--bg-color);\n",
              "    border: none;\n",
              "    border-radius: 50%;\n",
              "    cursor: pointer;\n",
              "    display: none;\n",
              "    fill: var(--fill-color);\n",
              "    height: 32px;\n",
              "    padding: 0;\n",
              "    width: 32px;\n",
              "  }\n",
              "\n",
              "  .colab-df-quickchart:hover {\n",
              "    background-color: var(--hover-bg-color);\n",
              "    box-shadow: 0 1px 2px rgba(60, 64, 67, 0.3), 0 1px 3px 1px rgba(60, 64, 67, 0.15);\n",
              "    fill: var(--button-hover-fill-color);\n",
              "  }\n",
              "\n",
              "  .colab-df-quickchart-complete:disabled,\n",
              "  .colab-df-quickchart-complete:disabled:hover {\n",
              "    background-color: var(--disabled-bg-color);\n",
              "    fill: var(--disabled-fill-color);\n",
              "    box-shadow: none;\n",
              "  }\n",
              "\n",
              "  .colab-df-spinner {\n",
              "    border: 2px solid var(--fill-color);\n",
              "    border-color: transparent;\n",
              "    border-bottom-color: var(--fill-color);\n",
              "    animation:\n",
              "      spin 1s steps(1) infinite;\n",
              "  }\n",
              "\n",
              "  @keyframes spin {\n",
              "    0% {\n",
              "      border-color: transparent;\n",
              "      border-bottom-color: var(--fill-color);\n",
              "      border-left-color: var(--fill-color);\n",
              "    }\n",
              "    20% {\n",
              "      border-color: transparent;\n",
              "      border-left-color: var(--fill-color);\n",
              "      border-top-color: var(--fill-color);\n",
              "    }\n",
              "    30% {\n",
              "      border-color: transparent;\n",
              "      border-left-color: var(--fill-color);\n",
              "      border-top-color: var(--fill-color);\n",
              "      border-right-color: var(--fill-color);\n",
              "    }\n",
              "    40% {\n",
              "      border-color: transparent;\n",
              "      border-right-color: var(--fill-color);\n",
              "      border-top-color: var(--fill-color);\n",
              "    }\n",
              "    60% {\n",
              "      border-color: transparent;\n",
              "      border-right-color: var(--fill-color);\n",
              "    }\n",
              "    80% {\n",
              "      border-color: transparent;\n",
              "      border-right-color: var(--fill-color);\n",
              "      border-bottom-color: var(--fill-color);\n",
              "    }\n",
              "    90% {\n",
              "      border-color: transparent;\n",
              "      border-bottom-color: var(--fill-color);\n",
              "    }\n",
              "  }\n",
              "</style>\n",
              "\n",
              "  <script>\n",
              "    async function quickchart(key) {\n",
              "      const quickchartButtonEl =\n",
              "        document.querySelector('#' + key + ' button');\n",
              "      quickchartButtonEl.disabled = true;  // To prevent multiple clicks.\n",
              "      quickchartButtonEl.classList.add('colab-df-spinner');\n",
              "      try {\n",
              "        const charts = await google.colab.kernel.invokeFunction(\n",
              "            'suggestCharts', [key], {});\n",
              "      } catch (error) {\n",
              "        console.error('Error during call to suggestCharts:', error);\n",
              "      }\n",
              "      quickchartButtonEl.classList.remove('colab-df-spinner');\n",
              "      quickchartButtonEl.classList.add('colab-df-quickchart-complete');\n",
              "    }\n",
              "    (() => {\n",
              "      let quickchartButtonEl =\n",
              "        document.querySelector('#df-8d2114e4-857a-4b21-92df-a42810c7f7fe button');\n",
              "      quickchartButtonEl.style.display =\n",
              "        google.colab.kernel.accessAllowed ? 'block' : 'none';\n",
              "    })();\n",
              "  </script>\n",
              "</div>\n",
              "\n",
              "    </div>\n",
              "  </div>\n"
            ],
            "application/vnd.google.colaboratory.intrinsic+json": {
              "type": "dataframe",
              "summary": "{\n  \"name\": \"csv\",\n  \"rows\": 8,\n  \"fields\": [\n    {\n      \"column\": \"address\",\n      \"properties\": {\n        \"dtype\": \"number\",\n        \"std\": null,\n        \"min\": 0.0,\n        \"max\": 0.0,\n        \"num_unique_values\": 1,\n        \"samples\": [\n          0.0\n        ],\n        \"semantic_type\": \"\",\n        \"description\": \"\"\n      }\n    },\n    {\n      \"column\": \"city\",\n      \"properties\": {\n        \"dtype\": \"number\",\n        \"std\": null,\n        \"min\": 0.0,\n        \"max\": 0.0,\n        \"num_unique_values\": 1,\n        \"samples\": [\n          0.0\n        ],\n        \"semantic_type\": \"\",\n        \"description\": \"\"\n      }\n    },\n    {\n      \"column\": \"zip code\",\n      \"properties\": {\n        \"dtype\": \"number\",\n        \"std\": null,\n        \"min\": 0.0,\n        \"max\": 0.0,\n        \"num_unique_values\": 1,\n        \"samples\": [\n          0.0\n        ],\n        \"semantic_type\": \"\",\n        \"description\": \"\"\n      }\n    },\n    {\n      \"column\": \"january\",\n      \"properties\": {\n        \"dtype\": \"number\",\n        \"std\": 18803.039005288916,\n        \"min\": 0.0,\n        \"max\": 56169.0,\n        \"num_unique_values\": 8,\n        \"samples\": [\n          5380.825\n        ],\n        \"semantic_type\": \"\",\n        \"description\": \"\"\n      }\n    },\n    {\n      \"column\": \"february\",\n      \"properties\": {\n        \"dtype\": \"number\",\n        \"std\": 15745.053692872703,\n        \"min\": 0.0,\n        \"max\": 47118.0,\n        \"num_unique_values\": 8,\n        \"samples\": [\n          4692.975\n        ],\n        \"semantic_type\": \"\",\n        \"description\": \"\"\n      }\n    },\n    {\n      \"column\": \"march\",\n      \"properties\": {\n        \"dtype\": \"number\",\n        \"std\": 18634.443986214887,\n        \"min\": 0.0,\n        \"max\": 55824.0,\n        \"num_unique_values\": 8,\n        \"samples\": [\n          5710.8875\n        ],\n        \"semantic_type\": \"\",\n        \"description\": \"\"\n      }\n    },\n    {\n      \"column\": \"april\",\n      \"properties\": {\n        \"dtype\": \"number\",\n        \"std\": 17392.944216141346,\n        \"min\": 0.0,\n        \"max\": 52077.0,\n        \"num_unique_values\": 8,\n        \"samples\": [\n          5189.0125\n        ],\n        \"semantic_type\": \"\",\n        \"description\": \"\"\n      }\n    },\n    {\n      \"column\": \"may\",\n      \"properties\": {\n        \"dtype\": \"number\",\n        \"std\": 16206.945812132071,\n        \"min\": 0.0,\n        \"max\": 48506.0,\n        \"num_unique_values\": 8,\n        \"samples\": [\n          4789.425\n        ],\n        \"semantic_type\": \"\",\n        \"description\": \"\"\n      }\n    },\n    {\n      \"column\": \"june\",\n      \"properties\": {\n        \"dtype\": \"number\",\n        \"std\": 16872.946475497294,\n        \"min\": 0.0,\n        \"max\": 50642.0,\n        \"num_unique_values\": 8,\n        \"samples\": [\n          5452.6625\n        ],\n        \"semantic_type\": \"\",\n        \"description\": \"\"\n      }\n    },\n    {\n      \"column\": \"july\",\n      \"properties\": {\n        \"dtype\": \"number\",\n        \"std\": 18450.05295753122,\n        \"min\": 0.0,\n        \"max\": 55231.0,\n        \"num_unique_values\": 8,\n        \"samples\": [\n          5706.675\n        ],\n        \"semantic_type\": \"\",\n        \"description\": \"\"\n      }\n    },\n    {\n      \"column\": \"august\",\n      \"properties\": {\n        \"dtype\": \"number\",\n        \"std\": 18020.47104614314,\n        \"min\": 0.0,\n        \"max\": 53971.0,\n        \"num_unique_values\": 8,\n        \"samples\": [\n          5584.1375\n        ],\n        \"semantic_type\": \"\",\n        \"description\": \"\"\n      }\n    },\n    {\n      \"column\": \"september\",\n      \"properties\": {\n        \"dtype\": \"number\",\n        \"std\": 16118.103638300045,\n        \"min\": 0.0,\n        \"max\": 48259.0,\n        \"num_unique_values\": 8,\n        \"samples\": [\n          4981.675\n        ],\n        \"semantic_type\": \"\",\n        \"description\": \"\"\n      }\n    },\n    {\n      \"column\": \"october\",\n      \"properties\": {\n        \"dtype\": \"number\",\n        \"std\": 17633.73420274423,\n        \"min\": 0.0,\n        \"max\": 52802.0,\n        \"num_unique_values\": 8,\n        \"samples\": [\n          5497.275\n        ],\n        \"semantic_type\": \"\",\n        \"description\": \"\"\n      }\n    },\n    {\n      \"column\": \"november\",\n      \"properties\": {\n        \"dtype\": \"number\",\n        \"std\": 16020.354346756854,\n        \"min\": 0.0,\n        \"max\": 47951.0,\n        \"num_unique_values\": 8,\n        \"samples\": [\n          4948.3625\n        ],\n        \"semantic_type\": \"\",\n        \"description\": \"\"\n      }\n    },\n    {\n      \"column\": \"december\",\n      \"properties\": {\n        \"dtype\": \"number\",\n        \"std\": 15354.591466032838,\n        \"min\": 0.0,\n        \"max\": 45763.0,\n        \"num_unique_values\": 8,\n        \"samples\": [\n          4431.575\n        ],\n        \"semantic_type\": \"\",\n        \"description\": \"\"\n      }\n    },\n    {\n      \"column\": \"ytd\",\n      \"properties\": {\n        \"dtype\": \"number\",\n        \"std\": 205057.03257041634,\n        \"min\": 4.0,\n        \"max\": 614313.0,\n        \"num_unique_values\": 8,\n        \"samples\": [\n          62365.4875\n        ],\n        \"semantic_type\": \"\",\n        \"description\": \"\"\n      }\n    }\n  ]\n}"
            }
          },
          "metadata": {},
          "execution_count": 48
        }
      ]
    },
    {
      "cell_type": "markdown",
      "source": [
        "**csv.describe() gibt eine statistische Zusammenfassung der numerischen Spalten des DataFrames zurück**"
      ],
      "metadata": {
        "id": "X48mVCZFfunb"
      }
    },
    {
      "cell_type": "code",
      "source": [
        "csv.columns"
      ],
      "metadata": {
        "colab": {
          "base_uri": "https://localhost:8080/"
        },
        "id": "JV3JIWkqfw1W",
        "outputId": "9c6cf0af-7f43-49b0-acd9-104b4a20b30a"
      },
      "execution_count": 49,
      "outputs": [
        {
          "output_type": "execute_result",
          "data": {
            "text/plain": [
              "Index(['branch', 'address', 'city', 'zip code', 'january', 'february', 'march',\n",
              "       'april', 'may', 'june', 'july', 'august', 'september', 'october',\n",
              "       'november', 'december', 'ytd'],\n",
              "      dtype='object')"
            ]
          },
          "metadata": {},
          "execution_count": 49
        }
      ]
    },
    {
      "cell_type": "markdown",
      "source": [
        "**csv.columns gibt die Namen aller Spalten im DataFrame an**"
      ],
      "metadata": {
        "id": "6hk5nTtxgG0O"
      }
    },
    {
      "cell_type": "markdown",
      "source": [
        "**3. How do you get the first/last ten rows of the DataFrame?**"
      ],
      "metadata": {
        "id": "ZnGlM7v0gRnR"
      }
    },
    {
      "cell_type": "code",
      "source": [
        "# ersten 10 rows\n",
        "print(\"First 10 rows:\")\n",
        "print(csv.head(10))\n",
        "\n",
        "# letzten 10 rows\n",
        "print(\"\\nLast 10 rows:\")\n",
        "print(csv.tail(10))"
      ],
      "metadata": {
        "colab": {
          "base_uri": "https://localhost:8080/"
        },
        "id": "wwgbGrdKge7X",
        "outputId": "5090101e-aa60-4ea8-ac02-e7f91fb67dd6"
      },
      "execution_count": 50,
      "outputs": [
        {
          "output_type": "stream",
          "name": "stdout",
          "text": [
            "First 10 rows:\n",
            "              branch  address  city  zip code  january  february  march  \\\n",
            "0        Albany Park      NaN   NaN       NaN     9381      8156  10619   \n",
            "1            Altgeld      NaN   NaN       NaN      327       283    354   \n",
            "2     Archer Heights      NaN   NaN       NaN     5459      5097   6391   \n",
            "3             Austin      NaN   NaN       NaN        0       884   1266   \n",
            "4      Austin-Irving      NaN   NaN       NaN     9333      7887  10465   \n",
            "5             Avalon      NaN   NaN       NaN     3644      3220   3766   \n",
            "6  Back of the Yards      NaN   NaN       NaN     2083      1833   2114   \n",
            "7            Beverly      NaN   NaN       NaN     5775      4455   4987   \n",
            "8           Bezazian      NaN   NaN       NaN     8316      7110   9124   \n",
            "9         Blackstone      NaN   NaN       NaN     8481      7163   9421   \n",
            "\n",
            "   april   may  june   july  august  september  october  november  december  \\\n",
            "0   8660  7892  9795  10766   10505       8285    10098      9029      7982   \n",
            "1    274   384   383    320     327        362      525       509       421   \n",
            "2   5184  4415  4988   5555    5153       4951     5426      4837      4856   \n",
            "3   1059   972  1170   1310    1166        809     1162       923       848   \n",
            "4   8948  7946  9571   9891    9146       8366     9435      9118      8146   \n",
            "5   3111  3464  3117   3556    3293       3259     3346      2837      2771   \n",
            "6   1942  1627  2311   2437    2659       2390     2917      2337      2057   \n",
            "7   4032  3891  4763   5178    4690       4190     4879      4386      3759   \n",
            "8   8120  7991  8554   8882    9212       7334     8638      8304      8131   \n",
            "9   5956  7533  8696   9044    9110       7880     8719      8927      7585   \n",
            "\n",
            "      ytd  \n",
            "0  111168  \n",
            "1    4469  \n",
            "2   62312  \n",
            "3   11569  \n",
            "4  108252  \n",
            "5   39384  \n",
            "6   26707  \n",
            "7   54985  \n",
            "8   99716  \n",
            "9   98515  \n",
            "\n",
            "Last 10 rows:\n",
            "                   branch  address  city  zip code  january  february  march  \\\n",
            "70            Water Works      NaN   NaN       NaN     4320      3467   4331   \n",
            "71           West Belmont      NaN   NaN       NaN     6675      6064   7096   \n",
            "72    West Chicago Avenue      NaN   NaN       NaN     1118       942   1067   \n",
            "73         West Englewood      NaN   NaN       NaN     1386      1299   1449   \n",
            "74              West Lawn      NaN   NaN       NaN     3602      3198   3933   \n",
            "75           West Pullman      NaN   NaN       NaN     2184      1762   1855   \n",
            "76              West Town      NaN   NaN       NaN     5613      4866   6123   \n",
            "77  Whitney M. Young, Jr.      NaN   NaN       NaN        0         0      0   \n",
            "78       Woodson Regional      NaN   NaN       NaN        0      2802   6314   \n",
            "79     Wrightwood-Ashburn      NaN   NaN       NaN     1581      1656   1609   \n",
            "\n",
            "    april   may  june  july  august  september  october  november  december  \\\n",
            "70   4268  4235  4482  4272    4437       4248     4451      4195      3539   \n",
            "71   6196  5263  5866  6695    6007       5921     7037      1710         0   \n",
            "72   1039   804   925  1211     834       1042     1143       952       851   \n",
            "73   1427  1127  1042  1355    1361       1307     1359      1424      1179   \n",
            "74   3415  2808  3059  3712    3563       2973     3685      3090      2993   \n",
            "75   2054  1671  1676  1775    1601       1575     1858      1614      1176   \n",
            "76   5634  5109  5598  5598    6018       5228     5955      5057       255   \n",
            "77      0     0     0     0       0          0        0         4         0   \n",
            "78   5892  5110  5108  5609    5335       5902     6386      5421      5041   \n",
            "79   1567  1591  1643  2192    1596       1815     1837      1988      1498   \n",
            "\n",
            "      ytd  \n",
            "70  50245  \n",
            "71  64530  \n",
            "72  11928  \n",
            "73  15715  \n",
            "74  40031  \n",
            "75  20801  \n",
            "76  61054  \n",
            "77      4  \n",
            "78  58920  \n",
            "79  20573  \n"
          ]
        }
      ]
    },
    {
      "cell_type": "markdown",
      "source": [
        "**4. How do you get the rows between row 30 and row 40?**"
      ],
      "metadata": {
        "id": "1rb_tjRFgwwx"
      }
    },
    {
      "cell_type": "code",
      "source": [
        "# Zwischen zeile 30 und 40\n",
        "rows_30_to_40 = csv.iloc[30:41]\n",
        "print(rows_30_to_40)"
      ],
      "metadata": {
        "colab": {
          "base_uri": "https://localhost:8080/"
        },
        "id": "eTitZR98iOFQ",
        "outputId": "113e8152-b1e1-41e9-c12e-e2787dc92923"
      },
      "execution_count": 51,
      "outputs": [
        {
          "output_type": "stream",
          "name": "stdout",
          "text": [
            "                              branch  address  city  zip code  january  \\\n",
            "30                              Hall      NaN   NaN       NaN     1381   \n",
            "31  Harold Washington Library Center      NaN   NaN       NaN    56169   \n",
            "32                         Hegewisch      NaN   NaN       NaN     1998   \n",
            "33                     Humboldt Park      NaN   NaN       NaN     5371   \n",
            "34                      Independence      NaN   NaN       NaN        0   \n",
            "35                    Jefferson Park      NaN   NaN       NaN     7231   \n",
            "36                     Jeffery Manor      NaN   NaN       NaN      786   \n",
            "37                             Kelly      NaN   NaN       NaN     1050   \n",
            "38                              King      NaN   NaN       NaN     2701   \n",
            "39                   Legler Regional      NaN   NaN       NaN     1129   \n",
            "40                   Lincoln Belmont      NaN   NaN       NaN    12936   \n",
            "\n",
            "    february  march  april    may   june   july  august  september  october  \\\n",
            "30      1269   1451   1645   1641   1525   1687    1608       1713     1438   \n",
            "31     47118  55824  52077  48506  50642  55231   53971      48259    52802   \n",
            "32      1704   1866   1813   1612   1665   1860    1682       1633     1998   \n",
            "33      4311   5393   4607   4730   4894   5306    5174       4486     5355   \n",
            "34         0      0      0      0      0      0       0          0        4   \n",
            "35      6546   7530   6821   6386   7240   7760    7903       6652     7347   \n",
            "36       637    675    730    699    757    762     912        677      822   \n",
            "37       198      0      0    177    563    715     895         64     1028   \n",
            "38      2074   2387   2393   2059   2055   2197    2370       2394     2565   \n",
            "39      1002   1044   1026    850    808    899    1251       1014     1246   \n",
            "40     11277  13970  12807  11747  14068  13236   13423      12079    13423   \n",
            "\n",
            "    november  december     ytd  \n",
            "30      1380      1168   17906  \n",
            "31     47951     45763  614313  \n",
            "32      1580      1436   20847  \n",
            "33      5078      4584   59289  \n",
            "34         0         0       4  \n",
            "35      7320      6973   85709  \n",
            "36       670       730    8857  \n",
            "37       903       896    6489  \n",
            "38      2354      2000   27549  \n",
            "39       998       961   12228  \n",
            "40     12157     11149  152272  \n"
          ]
        }
      ]
    },
    {
      "cell_type": "markdown",
      "source": [
        "**5. How do you get a specific column, e.g., 'year'? What kind of type() has the column?**"
      ],
      "metadata": {
        "id": "yayX1TcAidSN"
      }
    },
    {
      "cell_type": "code",
      "source": [
        "# Spalte 'branch' extrahieren\n",
        "branch_column = csv['branch']\n",
        "print(branch_column)\n",
        "\n",
        "# Datentyp der Spalte prüfen\n",
        "print(type(branch_column))"
      ],
      "metadata": {
        "colab": {
          "base_uri": "https://localhost:8080/"
        },
        "id": "Cz6N1pBSipBJ",
        "outputId": "74e86809-b673-4c65-850c-c55aafc959f0"
      },
      "execution_count": 52,
      "outputs": [
        {
          "output_type": "stream",
          "name": "stdout",
          "text": [
            "0               Albany Park\n",
            "1                   Altgeld\n",
            "2            Archer Heights\n",
            "3                    Austin\n",
            "4             Austin-Irving\n",
            "              ...          \n",
            "75             West Pullman\n",
            "76                West Town\n",
            "77    Whitney M. Young, Jr.\n",
            "78         Woodson Regional\n",
            "79       Wrightwood-Ashburn\n",
            "Name: branch, Length: 80, dtype: object\n",
            "<class 'pandas.core.series.Series'>\n"
          ]
        }
      ]
    },
    {
      "cell_type": "markdown",
      "source": [
        "**6. What is the *.pkl file? How do load it into your program and what are the data contents in it?**"
      ],
      "metadata": {
        "id": "tAHKN6RdG8gU"
      }
    },
    {
      "cell_type": "code",
      "source": [
        "# .pkl-Datei laden\n",
        "pkl_df = pd.read_pickle('/content/drive/MyDrive/data/all_years.pkl')\n",
        "\n",
        "# Daten anzeigen\n",
        "print(pkl_df.head())\n",
        "print(pkl_df.info())"
      ],
      "metadata": {
        "colab": {
          "base_uri": "https://localhost:8080/"
        },
        "id": "wwzxk8J8G9LC",
        "outputId": "863b6846-a0e9-4d14-bff5-c17d35e4e30a"
      },
      "execution_count": 54,
      "outputs": [
        {
          "output_type": "stream",
          "name": "stdout",
          "text": [
            "           branch                  address     city  zip code  january  \\\n",
            "0     Albany Park     5150 N. Kimball Ave.  Chicago   60625.0     8427   \n",
            "1         Altgeld    13281 S. Corliss Ave.  Chicago   60827.0     1258   \n",
            "2  Archer Heights      5055 S. Archer Ave.  Chicago   60632.0     8104   \n",
            "3          Austin        5615 W. Race Ave.  Chicago   60644.0     1755   \n",
            "4   Austin-Irving  6100 W. Irving Park Rd.  Chicago   60634.0    12593   \n",
            "\n",
            "   february  march  april    may   june   july  august  september  october  \\\n",
            "0      7023   9702   9344   8865  11650  11778   11306      10466    10997   \n",
            "1       708    854    804    816    870    713     480        702      927   \n",
            "2      6899   9329   9124   7472   8314   8116    9177       9033     9709   \n",
            "3      1316   1942   2200   2133   2359   2080    2405       2417     2571   \n",
            "4     11791  14807  14382  11754  14402  14605   15164      14306    15357   \n",
            "\n",
            "   november  december     ytd  year  \n",
            "0     10567      9934  120059  2011  \n",
            "1       787       692    9611  2011  \n",
            "2      8809      7865  101951  2011  \n",
            "3      2233      2116   25527  2011  \n",
            "4     14069     12404  165634  2011  \n",
            "<class 'pandas.core.frame.DataFrame'>\n",
            "RangeIndex: 963 entries, 0 to 962\n",
            "Data columns (total 18 columns):\n",
            " #   Column     Non-Null Count  Dtype  \n",
            "---  ------     --------------  -----  \n",
            " 0   branch     963 non-null    object \n",
            " 1   address    643 non-null    object \n",
            " 2   city       643 non-null    object \n",
            " 3   zip code   643 non-null    float64\n",
            " 4   january    963 non-null    int64  \n",
            " 5   february   963 non-null    int64  \n",
            " 6   march      963 non-null    int64  \n",
            " 7   april      963 non-null    int64  \n",
            " 8   may        963 non-null    int64  \n",
            " 9   june       963 non-null    int64  \n",
            " 10  july       963 non-null    int64  \n",
            " 11  august     963 non-null    int64  \n",
            " 12  september  963 non-null    int64  \n",
            " 13  october    963 non-null    int64  \n",
            " 14  november   963 non-null    int64  \n",
            " 15  december   963 non-null    int64  \n",
            " 16  ytd        963 non-null    int64  \n",
            " 17  year       963 non-null    object \n",
            "dtypes: float64(1), int64(13), object(4)\n",
            "memory usage: 135.6+ KB\n",
            "None\n"
          ]
        }
      ]
    },
    {
      "cell_type": "markdown",
      "source": [
        "Eine .pkl-Datei speichert Python-Objekte wie DataFrames, Listen oder Wörterbücher in einem komprimierten Format, damit sie später schneller geladen werden können."
      ],
      "metadata": {
        "id": "FWpPOjr4HaFD"
      }
    },
    {
      "cell_type": "markdown",
      "source": [
        "**What is the purpose of .loc() and .iloc()?**"
      ],
      "metadata": {
        "id": "xhnEsj7lI5_Q"
      }
    },
    {
      "cell_type": "markdown",
      "source": [
        ".loc[] wählt Daten über Label-Namen aus (z. B. df.loc['Name', 'Jahr']), während .iloc[] über numerische Indexpositionen arbeitet (z. B. df.iloc[0, 1]), sodass .loc[] für benannte Indizes und .iloc[] für genauere Auswahl verwendet wird."
      ],
      "metadata": {
        "id": "k3hIoCWaI5te"
      }
    },
    {
      "cell_type": "markdown",
      "source": [
        "**How do you sort values in a column?**"
      ],
      "metadata": {
        "id": "X340aAyTJSe2"
      }
    },
    {
      "cell_type": "markdown",
      "source": [
        "Um Werte in einer Spalte zu sortieren, verwendet man in Pandas die Funktion .sort_values(by='Spaltenname'). Normal ist die Sortierung in aufsteigender Reihenfolge, kann aber mit ascending=False in absteigender Reihenfolge geändert werden. Mehrere Spalten lassen sich gleichzeitig sortieren, indem man eine Liste übergibt, z. B. by=['Spalte1', 'Spalte2'], wobei die Sortierrichtung für jede Spalte separat festgelegt werden kann."
      ],
      "metadata": {
        "id": "ftGJ6lhBJuzy"
      }
    },
    {
      "cell_type": "markdown",
      "metadata": {
        "id": "WKBiCEXFQkv2"
      },
      "source": [
        "## Setup your Python and Jupyter environment\n",
        "\n",
        "### Step 1: Install Python\n",
        "\n",
        "1.\tDownload Python:\n",
        "\n",
        "- Go to the official Python website.\n",
        "- Download the latest version of Python (e.g., Python 3.x.x) for your operating system (Windows, macOS, or Linux).\n",
        "\n",
        "2.\tInstall Python:  \n",
        "\n",
        "Windows:\n",
        "- Run the downloaded .exe file.\n",
        "- IMPORTANT: During installation, check the box that says “Add Python to PATH”.\n",
        "- Select “Customize installation” (optional, but helpful for control over features).\n",
        "- Complete the installation.\n",
        "  \n",
        "macOS:\n",
        "- Run the .pkg file and follow the instructions.\n",
        "- Alternatively, use the terminal command (requires Homebrew):\n",
        "\n",
        "```\n",
        "brew install python3\n",
        "```\n",
        "\n",
        "Linux:\n",
        "- Use the package manager (e.g., apt for Ubuntu):\n",
        "\n",
        "```\n",
        "sudo apt update\n",
        "sudo apt install python3 python3-pip\n",
        "```\n",
        "\n",
        "3.\tVerify Python Installation:\n",
        "\n",
        "- Open a terminal or command prompt and type:\n",
        "```\n",
        "python --version\n",
        "```\n",
        "\n",
        "This should show the Python version you installed (e.g., Python 3.10.0).\n",
        "\n",
        "### Step 2: Install a Package Manager (pip)\n",
        "\n",
        "pip is the package manager for Python and is usually bundled with Python installations. You can use it to install additional libraries, including Jupyter.\n",
        "\n",
        "1.Verify pip is installed:\n",
        "- Open a terminal or command prompt and type:\n",
        "\n",
        "```\n",
        "pip --version\n",
        "```\n",
        "\n",
        "- If pip is installed, it will display the version.\n",
        "\n",
        "2.\tUpgrade pip (optional):\n",
        "- It’s a good idea to keep pip up-to-date. In the terminal/command prompt, type:\n",
        "\n",
        "```\n",
        "python -m pip install --upgrade pip\n",
        "```\n",
        "\n",
        "### Step 3: Set Up a Virtual Environment (Optional but Recommended)\n",
        "\n",
        "Virtual environments allow you to isolate Python packages and dependencies for different projects.\n",
        "\n",
        "1.\tCreate a virtual environment:\n",
        "\n",
        "Navigate to the directory where you want to set up the environment and run:\n",
        "\n",
        "```\n",
        "python -m venv myenv\n",
        "```\n",
        "\n",
        "This will create a virtual environment named myenv.\n",
        "\n",
        "2. Activate the virtual environment:\n",
        "Windows:\n",
        "\n",
        "```\n",
        "myenv\\Scripts\\activate\n",
        "```\n",
        "\n",
        "- macOS/Linux:\n",
        "\n",
        "```\n",
        "source myenv/bin/activate\n",
        "```\n",
        "\n",
        "3.\tDeactivate the virtual environment: (when you’re done working)\n",
        "\n",
        "```\n",
        "deactivate\n",
        "```\n",
        "\n",
        "\n",
        "### Step 4: Install Jupyter Notebook\n",
        "\n",
        "Jupyter is installed using pip. Once Python (and pip) is set up, Jupyter can be easily installed.\n",
        "\n",
        "1. Install Jupyter:\n",
        "\n",
        "In the terminal or command prompt (and optionally inside your virtual environment), type:\n",
        "\n",
        "```\n",
        "pip install jupyter\n",
        "```\n",
        "\n",
        "2.\tVerify Jupyter Installation:\n",
        "\n",
        "After installation, type:\n",
        "\n",
        "```\n",
        "jupyter --version\n",
        "```\n",
        "\n",
        "This should display the version of Jupyter.\n",
        "\n",
        "### Step 5: Launch Jupyter Notebook\n",
        "\n",
        "1.\tRun Jupyter Notebook:\n",
        "\n",
        "In your terminal/command prompt, type:\n",
        "\n",
        "```\n",
        "jupyter notebook\n",
        "```\n",
        "\n",
        "This will open Jupyter in your default web browser.\n",
        "\n",
        "2.\tCreate a new notebook:\n",
        "- In the Jupyter dashboard (the browser window), click New and select Python 3 to create a new notebook.\n",
        "\n",
        "### Step 6: Install Common Python Packages\n",
        "\n",
        "Install commonly used libraries such as numpy, pandas, and matplotlib.\n",
        "\n",
        "1.\tInstall packages:\n",
        "\n",
        "```\n",
        "pip install numpy pandas matplotlib\n",
        "```\n",
        "\n",
        "2.\tTest packages in Jupyter:\n",
        "- In a new Jupyter notebook, try importing these libraries:\n",
        "\n",
        "```\n",
        "import numpy as np\n",
        "import pandas as pd\n",
        "import matplotlib.pyplot as plt\n",
        "```\n",
        "\n",
        "### Step 7: Configure Jupyter for Better Usage (Optional)\n",
        "\n",
        "You can enhance your Jupyter environment with additional configurations.\n",
        "\n",
        "1.\tJupyterLab (an advanced alternative to Jupyter Notebook):\n",
        "\n",
        "Install JupyterLab:\n",
        "```\n",
        "pip install jupyterlab\n",
        "```\n",
        "\n",
        "Launch JupyterLab by typing:\n",
        "```\n",
        "jupyter lab\n",
        "```\n",
        "\n",
        "2.\tInstall Jupyter Extensions (optional but useful):\n",
        "- Jupyter extensions add useful features like a table of contents, variable inspector, etc.\n",
        "- First, install jupyter_contrib_nbextensions:\n",
        "\n",
        "```\n",
        "pip install jupyter_contrib_nbextensions\n",
        "jupyter contrib nbextension install --user\n",
        "```\n",
        "\n",
        "- Open Jupyter Notebook and enable the desired extensions from the Nbextensions tab.\n",
        "\n",
        "### Step 8: Install Integrated Development Environment (IDE) (Optional)\n",
        "\n",
        "You can install an IDE like VSCode or PyCharm for a better Python development experience.\n",
        "\n",
        "1. Install Visual Studio Code:\n",
        "- Download and install Visual Studio Code.\n",
        "- Install the Python extension from the VSCode marketplace.\n",
        "\n",
        "2. Configure Jupyter in VSCode:\n",
        "- Once the Python extension is installed in VSCode, you can open .ipynb files (Jupyter notebooks) directly in VSCode and run them within the IDE.\n",
        "\n",
        "### Step 9: Explore and Test\n",
        "\n",
        "Your environment is now ready! Explore Python in Jupyter by writing and running simple code snippets, installing additional libraries as needed for specific projects, and trying out new features.\n",
        "\n",
        "Troubleshooting Tips:\n",
        "\n",
        "- Python not recognized: Ensure Python is added to your system’s PATH. On Windows, you can manually add it if you didn’t check the option during installation.\n",
        "- Permission errors: Run commands with sudo on macOS/Linux or as an administrator on Windows if you encounter permission issues.\n",
        "- Kernel issues in Jupyter: If you have multiple Python versions, ensure the correct Python environment is linked to Jupyter using the command python -m ipykernel install --user --name=myenv for the correct virtual environment."
      ]
    },
    {
      "cell_type": "code",
      "source": [],
      "metadata": {
        "id": "7jiTSqo6GCMf"
      },
      "execution_count": null,
      "outputs": []
    }
  ],
  "metadata": {
    "kernelspec": {
      "display_name": ".venv",
      "language": "python",
      "name": "python3"
    },
    "language_info": {
      "codemirror_mode": {
        "name": "ipython",
        "version": 3
      },
      "file_extension": ".py",
      "mimetype": "text/x-python",
      "name": "python",
      "nbconvert_exporter": "python",
      "pygments_lexer": "ipython3",
      "version": "3.11.7"
    },
    "colab": {
      "provenance": []
    }
  },
  "nbformat": 4,
  "nbformat_minor": 0
}