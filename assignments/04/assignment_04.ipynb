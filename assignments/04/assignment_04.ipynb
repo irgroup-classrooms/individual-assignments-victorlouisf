{
  "nbformat": 4,
  "nbformat_minor": 0,
  "metadata": {
    "colab": {
      "provenance": []
    },
    "kernelspec": {
      "name": "python3",
      "display_name": "Python 3"
    },
    "language_info": {
      "name": "python"
    }
  },
  "cells": [
    {
      "cell_type": "code",
      "execution_count": 1,
      "metadata": {
        "id": "mdTN1PwyGv1J",
        "colab": {
          "base_uri": "https://localhost:8080/"
        },
        "outputId": "fedde16c-a035-47bb-e160-3743cd47f0c6"
      },
      "outputs": [
        {
          "output_type": "stream",
          "name": "stdout",
          "text": [
            "Mounted at /content/drive\n"
          ]
        }
      ],
      "source": [
        "from google.colab import drive\n",
        "drive.mount('/content/drive')"
      ]
    },
    {
      "cell_type": "code",
      "source": [
        "import re\n",
        "from collections import Counter"
      ],
      "metadata": {
        "id": "GkvbOstXoaU-"
      },
      "execution_count": 2,
      "outputs": []
    },
    {
      "cell_type": "code",
      "source": [
        "# Load the orders data\n",
        "file_path = '/content/drive/MyDrive/Datenmodellierung/orders.csv'"
      ],
      "metadata": {
        "id": "KzJ6-U0pqC50"
      },
      "execution_count": 3,
      "outputs": []
    },
    {
      "cell_type": "markdown",
      "source": [
        "## Parsing product orders with Python\n",
        "In this directory, you will find another file called csv/orders.csv and also a short Python script that reads the file and parses all numbers with a regular expression. Please extend the script such that it also print the following extracted text pieces."
      ],
      "metadata": {
        "id": "GiCZmNJorKsm"
      }
    },
    {
      "cell_type": "code",
      "source": [
        "# Read the file\n",
        "with open(file_path, 'r') as file:\n",
        "    data = file.readlines()\n",
        "\n",
        "# Initialize lists for extracted data\n",
        "order_numbers = []\n",
        "product_names = []\n",
        "prices = []\n",
        "order_dates = []\n",
        "\n",
        "# Regex patterns\n",
        "order_number_pattern = r\"Order #(\\d+)\"\n",
        "product_name_pattern = r\"Product: ([\\w ]+)\"\n",
        "price_pattern = r\"Price: \\$(\\d+\\.\\d{2})\"\n",
        "date_pattern = r\"Date: (\\d{4}-\\d{2}-\\d{2})\"\n",
        "\n",
        "# Process each line of the file\n",
        "for line in data:\n",
        "    # Extract order numbers\n",
        "    if match := re.search(order_number_pattern, line):\n",
        "        order_numbers.append(match.group(1))\n",
        "\n",
        "    # Extract product names\n",
        "    if match := re.search(product_name_pattern, line):\n",
        "        product_names.append(match.group(1))\n",
        "\n",
        "    # Extract prices\n",
        "    if match := re.search(price_pattern, line):\n",
        "        prices.append(float(match.group(1)))\n",
        "\n",
        "    # Extract dates\n",
        "    if match := re.search(date_pattern, line):\n",
        "        order_dates.append(match.group(1))"
      ],
      "metadata": {
        "id": "BRsY5qpmqe9f"
      },
      "execution_count": 6,
      "outputs": []
    },
    {
      "cell_type": "markdown",
      "source": [
        "### 1. Extract all order numbers from the text."
      ],
      "metadata": {
        "id": "62_FInCyrkWR"
      }
    },
    {
      "cell_type": "code",
      "source": [
        "# Output results\n",
        "print(\"Order Numbers:\", order_numbers)"
      ],
      "metadata": {
        "colab": {
          "base_uri": "https://localhost:8080/"
        },
        "id": "M4-bY1eBrcTd",
        "outputId": "9ae35651-3b0a-427f-b14c-2478182539aa"
      },
      "execution_count": 9,
      "outputs": [
        {
          "output_type": "stream",
          "name": "stdout",
          "text": [
            "Order Numbers: ['12345', '12346', '12347', '12348', '12349', '12350', '12351', '12352', '12353', '12354']\n"
          ]
        }
      ]
    },
    {
      "cell_type": "markdown",
      "source": [
        "### 2. Extract all product names."
      ],
      "metadata": {
        "id": "nyjABsOIrzGh"
      }
    },
    {
      "cell_type": "code",
      "source": [
        "print(\"Product Names:\", product_names)"
      ],
      "metadata": {
        "colab": {
          "base_uri": "https://localhost:8080/"
        },
        "id": "7IykFWC2rjKh",
        "outputId": "53adfdad-3ef0-44f5-d38a-6317bd9beff1"
      },
      "execution_count": 10,
      "outputs": [
        {
          "output_type": "stream",
          "name": "stdout",
          "text": [
            "Product Names: ['Laptop', 'Headphones', 'Smartphone', 'Monitor', 'Keyboard', 'Mouse', 'Tablet', 'Laptop', 'Camera', 'Headphones']\n"
          ]
        }
      ]
    },
    {
      "cell_type": "markdown",
      "source": [
        "### 3. Extract all prices."
      ],
      "metadata": {
        "id": "QM5hoCkfsEFk"
      }
    },
    {
      "cell_type": "code",
      "source": [
        "print(\"Prices:\", prices)"
      ],
      "metadata": {
        "colab": {
          "base_uri": "https://localhost:8080/"
        },
        "id": "mgKItczgsDUt",
        "outputId": "43f372a6-0083-4b3d-89fc-e8c57d32ce9f"
      },
      "execution_count": 11,
      "outputs": [
        {
          "output_type": "stream",
          "name": "stdout",
          "text": [
            "Prices: [899.99, 199.23, 699.99, 299.99, 49.99, 29.99, 499.49, 999.99, 549.29, 249.57]\n"
          ]
        }
      ]
    },
    {
      "cell_type": "markdown",
      "source": [
        "### 4. Extract all order dates."
      ],
      "metadata": {
        "id": "OGJkQdJmsgDa"
      }
    },
    {
      "cell_type": "code",
      "source": [
        "print(\"Order Dates:\", order_dates)"
      ],
      "metadata": {
        "colab": {
          "base_uri": "https://localhost:8080/"
        },
        "id": "qvF8zaTVsfIH",
        "outputId": "03968062-7d6e-4cf7-e290-ddbb11947dd7"
      },
      "execution_count": 12,
      "outputs": [
        {
          "output_type": "stream",
          "name": "stdout",
          "text": [
            "Order Dates: ['2023-09-15', '2023-09-16', '2023-09-17', '2023-09-18', '2023-09-19', '2023-09-20', '2023-09-21', '2023-09-22', '2023-09-23', '2023-09-24']\n"
          ]
        }
      ]
    },
    {
      "cell_type": "markdown",
      "source": [
        "### 5. Find all orders for products priced over $500. (You are allowed to use Python to filter the list.)"
      ],
      "metadata": {
        "id": "kmMHhMeqsoqN"
      }
    },
    {
      "cell_type": "code",
      "source": [
        "# Extract orders priced over $500\n",
        "orders_over_500 = [line for line in data if re.search(r\"Price: \\$(\\d+\\.\\d{2})\", line) and float(re.search(r\"Price: \\$(\\d+\\.\\d{2})\", line).group(1)) > 500]\n",
        "\n",
        "print(\"Orders Over $500:\", orders_over_500)"
      ],
      "metadata": {
        "colab": {
          "base_uri": "https://localhost:8080/"
        },
        "id": "n9_ud3oUsnju",
        "outputId": "aa8f316f-6e18-4161-f383-aeaf4b0549ba"
      },
      "execution_count": 13,
      "outputs": [
        {
          "output_type": "stream",
          "name": "stdout",
          "text": [
            "Orders Over $500: ['Order #12345: Product: Laptop, Price: $899.99, Date: 2023-09-15\\n', 'Order #12347: Product: Smartphone, Price: $699.99, Date: 2023-09-17\\n', 'Order #12352: Product: Laptop, Price: $999.99, Date: 2023-09-22\\n', 'Order #12353: Product: Camera, Price: $549.29, Date: 2023-09-23\\n']\n"
          ]
        }
      ]
    },
    {
      "cell_type": "markdown",
      "source": [
        "### 6. Change the date format to DD/MM/YYYY. (Note the re.sub() method)"
      ],
      "metadata": {
        "id": "zbdypT6ts8tm"
      }
    },
    {
      "cell_type": "code",
      "source": [
        "# Change date format to DD/MM/YYYY\n",
        "dates_formatted = [re.sub(r\"(\\d{4})-(\\d{2})-(\\d{2})\", r\"\\3/\\2/\\1\", date) for date in order_dates]\n",
        "\n",
        "print(\"Formatted Dates:\", dates_formatted)"
      ],
      "metadata": {
        "colab": {
          "base_uri": "https://localhost:8080/"
        },
        "id": "HMXeLxyrs5H5",
        "outputId": "3e8df625-9fd7-46d5-f912-263c568b0f92"
      },
      "execution_count": 14,
      "outputs": [
        {
          "output_type": "stream",
          "name": "stdout",
          "text": [
            "Formatted Dates: ['15/09/2023', '16/09/2023', '17/09/2023', '18/09/2023', '19/09/2023', '20/09/2023', '21/09/2023', '22/09/2023', '23/09/2023', '24/09/2023']\n"
          ]
        }
      ]
    },
    {
      "cell_type": "markdown",
      "source": [],
      "metadata": {
        "id": "OkfGXmZvwAAj"
      }
    },
    {
      "cell_type": "markdown",
      "source": [
        "### 7. Extract product names that have more than 6 characters."
      ],
      "metadata": {
        "id": "tSk_4C56wADa"
      }
    },
    {
      "cell_type": "code",
      "source": [
        "# Extract product names with more than 6 characters\n",
        "long_product_names = [name for name in product_names if len(name) > 6]\n",
        "\n",
        "print(\"Long Product Names:\", long_product_names)"
      ],
      "metadata": {
        "colab": {
          "base_uri": "https://localhost:8080/"
        },
        "id": "EUSl-TmLwFpm",
        "outputId": "9f056ece-dc51-4fa6-eaf7-b23a68818c33"
      },
      "execution_count": 15,
      "outputs": [
        {
          "output_type": "stream",
          "name": "stdout",
          "text": [
            "Long Product Names: ['Headphones', 'Smartphone', 'Monitor', 'Keyboard', 'Headphones']\n"
          ]
        }
      ]
    },
    {
      "cell_type": "markdown",
      "source": [
        "### 8. Count the occurrence of each product in the text. (You may want to use the Counter class from the collections package.)"
      ],
      "metadata": {
        "id": "xIC9YQfcwPBz"
      }
    },
    {
      "cell_type": "code",
      "source": [
        "# Count the occurrence of each product\n",
        "product_counts = Counter(product_names)\n",
        "\n",
        "print(\"Product Counts:\", product_counts)"
      ],
      "metadata": {
        "colab": {
          "base_uri": "https://localhost:8080/"
        },
        "id": "96Y9aTf-wOAE",
        "outputId": "934451f9-8fcf-43da-f314-8f36aa4f5a12"
      },
      "execution_count": 16,
      "outputs": [
        {
          "output_type": "stream",
          "name": "stdout",
          "text": [
            "Product Counts: Counter({'Laptop': 2, 'Headphones': 2, 'Smartphone': 1, 'Monitor': 1, 'Keyboard': 1, 'Mouse': 1, 'Tablet': 1, 'Camera': 1})\n"
          ]
        }
      ]
    },
    {
      "cell_type": "markdown",
      "source": [
        "### 9. Extract the orders with prices ending in .99."
      ],
      "metadata": {
        "id": "kib_kA-swb5g"
      }
    },
    {
      "cell_type": "code",
      "source": [
        "# Extract orders with prices ending in .99\n",
        "orders_ending_in_99 = [line for line in data if re.search(r\"Price: \\$\\d+\\.99\", line)]\n",
        "\n",
        "print(\"Orders Ending in .99:\", orders_ending_in_99)"
      ],
      "metadata": {
        "colab": {
          "base_uri": "https://localhost:8080/"
        },
        "id": "LJBWYFMMwbAy",
        "outputId": "bc090159-ca98-471f-fdd9-6dd8cf954a1b"
      },
      "execution_count": 17,
      "outputs": [
        {
          "output_type": "stream",
          "name": "stdout",
          "text": [
            "Orders Ending in .99: ['Order #12345: Product: Laptop, Price: $899.99, Date: 2023-09-15\\n', 'Order #12347: Product: Smartphone, Price: $699.99, Date: 2023-09-17\\n', 'Order #12348: Product: Monitor, Price: $299.99, Date: 2023-09-18\\n', 'Order #12349: Product: Keyboard, Price: $49.99, Date: 2023-09-19\\n', 'Order #12350: Product: Mouse, Price: $29.99, Date: 2023-09-20\\n', 'Order #12352: Product: Laptop, Price: $999.99, Date: 2023-09-22\\n']\n"
          ]
        }
      ]
    },
    {
      "cell_type": "markdown",
      "source": [
        "### 10. Find the cheapest product. (You may want to use Python's min() method.)"
      ],
      "metadata": {
        "id": "t8fiNDzrw_lG"
      }
    },
    {
      "cell_type": "code",
      "source": [
        "# Find the cheapest product\n",
        "cheapest_product = min(zip(product_names, prices), key=lambda x: x[1])\n",
        "\n",
        "print(\"Cheapest Product:\", cheapest_product)"
      ],
      "metadata": {
        "colab": {
          "base_uri": "https://localhost:8080/"
        },
        "id": "E9LR5rA8wmD4",
        "outputId": "d06b1bee-4958-4756-c02e-e0c34ad97574"
      },
      "execution_count": 18,
      "outputs": [
        {
          "output_type": "stream",
          "name": "stdout",
          "text": [
            "Cheapest Product: ('Mouse', 29.99)\n"
          ]
        }
      ]
    }
  ]
}